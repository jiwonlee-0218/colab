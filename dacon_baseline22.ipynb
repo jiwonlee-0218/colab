{
  "nbformat": 4,
  "nbformat_minor": 0,
  "metadata": {
    "accelerator": "GPU",
    "colab": {
      "name": "dacon_baseline22.ipynb",
      "provenance": [],
      "collapsed_sections": [],
      "machine_shape": "hm",
      "include_colab_link": true
    },
    "kernelspec": {
      "display_name": "Python 3",
      "name": "python3"
    }
  },
  "cells": [
    {
      "cell_type": "markdown",
      "metadata": {
        "id": "view-in-github",
        "colab_type": "text"
      },
      "source": [
        "<a href=\"https://colab.research.google.com/github/jiwonlee-0218/colab/blob/main/dacon_baseline22.ipynb\" target=\"_parent\"><img src=\"https://colab.research.google.com/assets/colab-badge.svg\" alt=\"Open In Colab\"/></a>"
      ]
    },
    {
      "cell_type": "code",
      "metadata": {
        "colab": {
          "base_uri": "https://localhost:8080/"
        },
        "id": "YH7vc2qJP9yF",
        "outputId": "dfd64f2c-8eb2-4c71-a766-d761abbac1ff"
      },
      "source": [
        "from google.colab import drive\n",
        "drive.mount('/content/gdrive')"
      ],
      "execution_count": null,
      "outputs": [
        {
          "output_type": "stream",
          "text": [
            "Mounted at /content/gdrive\n"
          ],
          "name": "stdout"
        }
      ]
    },
    {
      "cell_type": "code",
      "metadata": {
        "id": "PanHUzbpPHPr"
      },
      "source": [
        "import pandas as pd\n",
        "import numpy as np\n",
        "import matplotlib.pyplot as plt\n",
        "import warnings\n",
        "warnings.filterwarnings(\"ignore\")\n",
        "\n",
        "from PIL import Image\n",
        "from tqdm import tqdm\n",
        "import os\n",
        "import cv2\n",
        "import glob\n",
        "\n",
        "from tqdm import tqdm\n",
        "import tensorflow as tf\n",
        "from tensorflow.keras.layers import Conv2D, MaxPooling2D, BatchNormalization, concatenate, Input, Flatten, Dense\n",
        "from tensorflow.keras import Model\n",
        "\n",
        "import warnings\n",
        "warnings.filterwarnings(\"ignore\")"
      ],
      "execution_count": null,
      "outputs": []
    },
    {
      "cell_type": "code",
      "metadata": {
        "id": "1OUOT_PlUOK3"
      },
      "source": [
        "TRAIN_IMG_FOLDER = '/content/gdrive/MyDrive/미래연구소/프로젝트/1. open/train_imgs'\n",
        "\n",
        "TEST_IMG_FOLDER = '/content/gdrive/MyDrive/미래연구소/프로젝트/1. open/test_imgs'\n",
        "\n",
        "TRAIN_DF = '/content/gdrive/MyDrive/미래연구소/프로젝트/1. open/train_df.csv'\n",
        "SUB_DF = '/content/gdrive/MyDrive/미래연구소/프로젝트/1. open/sample_submission.csv'\n",
        "\n",
        "IMAGE_HEIGHT = 540\n",
        "IMAGE_WIDTH = 960"
      ],
      "execution_count": null,
      "outputs": []
    },
    {
      "cell_type": "code",
      "metadata": {
        "colab": {
          "base_uri": "https://localhost:8080/"
        },
        "id": "5FgW3OC6TrXr",
        "outputId": "8b9b526b-6c05-439c-eb3f-a015c0315d75"
      },
      "source": [
        "!unzip -n '/content/gdrive/MyDrive/미래연구소/프로젝트/1. open.zip' -d '/content/gdrive/MyDrive/미래연구소/프로젝트'"
      ],
      "execution_count": null,
      "outputs": [
        {
          "output_type": "stream",
          "text": [
            "Archive:  /content/gdrive/MyDrive/미래연구소/프로젝트/1. open.zip\n"
          ],
          "name": "stdout"
        }
      ]
    },
    {
      "cell_type": "code",
      "metadata": {
        "id": "cy6XQbOiVyI1"
      },
      "source": [
        "train = pd.read_csv(TRAIN_DF)\n",
        "submission = pd.read_csv(SUB_DF)"
      ],
      "execution_count": null,
      "outputs": []
    },
    {
      "cell_type": "code",
      "metadata": {
        "id": "NAZQZxIW7qpM"
      },
      "source": [
        "err=[317, 869, 873, 877, 911, 1559, 1560, 1562, 1566, 1575, 1577, 1578, 1582, 1606, 1607, 1622, 1623, 1624, 1625, 1629, 3968, 4115, 4116, 4117, 4118, 4119, 4120, 4121, 4122, 4123, 4124, 4125, 4126, 4127, 4128, 4129, 4130, 4131, 4132, 4133, 4134, 4135, 4136, 4137, 4138, 4139, 4140, 4141, 4142, 4143, 4144, 4145, 4146, 4147, 4148, 4149, 4150, 4151, 4152, 4153, 4154, 4155, 4156, 4157, 4158, 4159, 4160, 4161, 4162, 4163, 4164, 4165, 4166, 4167, 4168, 4169, 4170, 4171, 4172, 4173, 4174, 4175, 4176, 4177, 4178, 4179, 4180, 4181, 4182, 4183, 4184, 4185, 4186, 4187, 4188, 4189, 4190, 4191, 4192, 4193, 4194]"
      ],
      "execution_count": null,
      "outputs": []
    },
    {
      "cell_type": "code",
      "metadata": {
        "id": "VmlttWCt7sUB"
      },
      "source": [
        "train.drop(err, inplace=True) # 라벨링이 잘못된 데이터를 drop"
      ],
      "execution_count": null,
      "outputs": []
    },
    {
      "cell_type": "code",
      "metadata": {
        "id": "1k4TzjQ4wuX2"
      },
      "source": [
        "val_name_set = [] # 이미지 이름 얻기\n",
        "a = [] # 의미없는 list입니다."
      ],
      "execution_count": null,
      "outputs": []
    },
    {
      "cell_type": "code",
      "metadata": {
        "id": "zmFEfdxGv6XG"
      },
      "source": [
        "def val_set(x):\n",
        "  x1 = x.split('00000')[0]rmsrm\n",
        "  if a.count(x1) < 2:\n",
        "    a.append(x1)\n",
        "    val_name_set.append(x)"
      ],
      "execution_count": null,
      "outputs": []
    },
    {
      "cell_type": "code",
      "metadata": {
        "id": "roLE3nucvY5V"
      },
      "source": [
        "# pandas 에서 apply를 사용해 각 동작마다 두장씩 뽑아서 보기\n",
        "train['image'].apply(val_set)"
      ],
      "execution_count": null,
      "outputs": []
    },
    {
      "cell_type": "code",
      "metadata": {
        "colab": {
          "base_uri": "https://localhost:8080/"
        },
        "id": "7YcD6XjkweyG",
        "outputId": "45481ba4-05c4-40c9-de75-637c261ea967"
      },
      "source": [
        "len(val_name_set)"
      ],
      "execution_count": null,
      "outputs": [
        {
          "output_type": "execute_result",
          "data": {
            "text/plain": [
              "520"
            ]
          },
          "metadata": {
            "tags": []
          },
          "execution_count": 12
        }
      ]
    },
    {
      "cell_type": "code",
      "metadata": {
        "id": "vmykIR_kESvC"
      },
      "source": [
        "train.describe()"
      ],
      "execution_count": null,
      "outputs": []
    },
    {
      "cell_type": "code",
      "metadata": {
        "id": "p92HCnVBo0VD"
      },
      "source": [
        "train.iloc[:,1:49] = train.iloc[:,1:49] / 2 # 1/2 로 리사이즈 할것이기때문\n",
        "train.head(2)"
      ],
      "execution_count": null,
      "outputs": []
    },
    {
      "cell_type": "code",
      "metadata": {
        "id": "rbR0AT-3DS_J"
      },
      "source": [
        "train.head(2)"
      ],
      "execution_count": null,
      "outputs": []
    },
    {
      "cell_type": "code",
      "metadata": {
        "id": "e3dKUOlZ-rbX"
      },
      "source": [
        "train.describe()"
      ],
      "execution_count": null,
      "outputs": []
    },
    {
      "cell_type": "code",
      "metadata": {
        "id": "7pMNTdyCbsjZ"
      },
      "source": [
        "#submission 파일 불러오기\n",
        "submission.head(2)"
      ],
      "execution_count": null,
      "outputs": []
    },
    {
      "cell_type": "code",
      "metadata": {
        "colab": {
          "base_uri": "https://localhost:8080/"
        },
        "id": "3F3IJkcdb8TN",
        "outputId": "ddec593c-f9cf-466b-e826-3298f8d78d0d"
      },
      "source": [
        "train_paths = glob.glob(f'{TRAIN_IMG_FOLDER}/*.jpg')\n",
        "test_paths = glob.glob(f'{TEST_IMG_FOLDER}/*.jpg')\n",
        "print(len(train_paths), len(test_paths))"
      ],
      "execution_count": null,
      "outputs": [
        {
          "output_type": "stream",
          "text": [
            "4195 1600\n"
          ],
          "name": "stdout"
        }
      ]
    },
    {
      "cell_type": "code",
      "metadata": {
        "id": "6pB6v6rAzWd2"
      },
      "source": [
        "target_list = list(train.columns)[1:49]"
      ],
      "execution_count": null,
      "outputs": []
    },
    {
      "cell_type": "code",
      "metadata": {
        "colab": {
          "base_uri": "https://localhost:8080/"
        },
        "id": "D3IxUHMPxyi4",
        "outputId": "556d45b4-ed69-48d9-cc01-3c65f7afc0b5"
      },
      "source": [
        "from keras.preprocessing.image import ImageDataGenerator\n",
        "\n",
        "train_datagen = ImageDataGenerator(\n",
        "    rescale=1./255\n",
        ")\n",
        "\n",
        "train_generator = train_datagen.flow_from_dataframe(\n",
        "    train,\n",
        "    directory=TRAIN_IMG_FOLDER,\n",
        "    target_size=(IMAGE_HEIGHT, IMAGE_WIDTH),\n",
        "    x_col=\"image\",\n",
        "    y_col=target_list,\n",
        "    class_mode='raw',\n",
        "    batch_size=8,\n",
        ")\n",
        "\n",
        "test_datagen = ImageDataGenerator(\n",
        "    rescale=1./255\n",
        ")\n",
        "\n",
        "test_generator = test_datagen.flow_from_dataframe(\n",
        "    submission,\n",
        "    directory=TEST_IMG_FOLDER,\n",
        "    target_size=(IMAGE_HEIGHT, IMAGE_WIDTH),\n",
        "    x_col=\"image\",\n",
        "    y_col=target_list,\n",
        "    class_mode='raw',\n",
        "    batch_size=8,\n",
        ")"
      ],
      "execution_count": null,
      "outputs": [
        {
          "output_type": "stream",
          "text": [
            "Found 4094 validated image filenames.\n",
            "Found 1600 validated image filenames.\n"
          ],
          "name": "stdout"
        }
      ]
    },
    {
      "cell_type": "code",
      "metadata": {
        "id": "55Radt1a9sZS"
      },
      "source": [
        "os.listdir(TRAIN_IMG_FOLDER)"
      ],
      "execution_count": null,
      "outputs": []
    },
    {
      "cell_type": "code",
      "metadata": {
        "id": "6mJYBI1KmFL2"
      },
      "source": [
        "from keras.layers.advanced_activations import LeakyReLU\n",
        "from keras.models import Sequential, Model\n",
        "from keras.layers import Activation, Convolution2D, MaxPooling2D, BatchNormalization, Flatten, Dense, Dropout, Conv2D,MaxPool2D, ZeroPadding2D"
      ],
      "execution_count": null,
      "outputs": []
    },
    {
      "cell_type": "code",
      "metadata": {
        "id": "nfluV0PsmLAL"
      },
      "source": [
        "def create_model():\n",
        "  model = Sequential()\n",
        "\n",
        "  model.add(Convolution2D(32, (3,3), padding='same', use_bias=False, input_shape=(IMAGE_HEIGHT,IMAGE_WIDTH,3)))\n",
        "  model.add(LeakyReLU(alpha = 0.1))\n",
        "  model.add(BatchNormalization())\n",
        "\n",
        "  model.add(Convolution2D(32, (3,3), padding='same', use_bias=False))\n",
        "  model.add(LeakyReLU(alpha = 0.1))\n",
        "  model.add(BatchNormalization())\n",
        "  model.add(MaxPool2D(pool_size=(2, 2)))\n",
        "\n",
        "  model.add(Convolution2D(64, (3,3), padding='same', use_bias=False))\n",
        "  model.add(LeakyReLU(alpha = 0.1))\n",
        "  model.add(BatchNormalization())\n",
        "\n",
        "  model.add(Convolution2D(64, (3,3), padding='same', use_bias=False))\n",
        "  model.add(LeakyReLU(alpha = 0.1))\n",
        "  model.add(BatchNormalization())\n",
        "  model.add(MaxPool2D(pool_size=(2, 2)))\n",
        "\n",
        "  model.add(Convolution2D(96, (3,3), padding='same', use_bias=False))\n",
        "  model.add(LeakyReLU(alpha = 0.1))\n",
        "  model.add(BatchNormalization())\n",
        "\n",
        "  model.add(Convolution2D(96, (3,3), padding='same', use_bias=False))\n",
        "  model.add(LeakyReLU(alpha = 0.1))\n",
        "  model.add(BatchNormalization())\n",
        "  model.add(MaxPool2D(pool_size=(2, 2)))\n",
        "\n",
        "\n",
        "  model.add(Flatten())\n",
        "  model.add(Dense(512,activation='relu'))\n",
        "  model.add(Dropout(0.1))\n",
        "  model.add(Dense(48))\n",
        "\n",
        "  model.compile(optimizer='adam', \n",
        "                loss=tf.keras.losses.MeanSquaredError(),\n",
        "                metrics=['mae'])\n",
        "  \n",
        "  return model"
      ],
      "execution_count": null,
      "outputs": []
    },
    {
      "cell_type": "code",
      "metadata": {
        "id": "iU1Av3BGmNyb"
      },
      "source": [
        "motion_model = create_model()"
      ],
      "execution_count": null,
      "outputs": []
    },
    {
      "cell_type": "code",
      "metadata": {
        "colab": {
          "base_uri": "https://localhost:8080/"
        },
        "id": "EZgOMADdmWMZ",
        "outputId": "eb645b3b-3030-43b7-d092-85c61024049c"
      },
      "source": [
        "motion_model.fit(train_generator,epochs = 20, verbose=1)"
      ],
      "execution_count": null,
      "outputs": [
        {
          "output_type": "stream",
          "text": [
            "Epoch 1/20\n",
            "512/512 [==============================] - 141s 276ms/step - loss: 1514.4980 - mae: 29.9722\n",
            "Epoch 2/20\n",
            "512/512 [==============================] - 141s 274ms/step - loss: 1494.4208 - mae: 29.9152\n",
            "Epoch 3/20\n",
            "512/512 [==============================] - 139s 271ms/step - loss: 1482.4255 - mae: 29.7029\n",
            "Epoch 4/20\n",
            "512/512 [==============================] - 139s 270ms/step - loss: 1462.9185 - mae: 29.5078\n",
            "Epoch 5/20\n",
            "512/512 [==============================] - 138s 269ms/step - loss: 1475.3839 - mae: 29.7349\n",
            "Epoch 6/20\n",
            "512/512 [==============================] - 141s 275ms/step - loss: 1483.9403 - mae: 29.7032\n",
            "Epoch 7/20\n",
            "512/512 [==============================] - 142s 278ms/step - loss: 1428.5717 - mae: 29.0354\n",
            "Epoch 8/20\n",
            "512/512 [==============================] - 139s 271ms/step - loss: 1405.3450 - mae: 28.7678\n",
            "Epoch 9/20\n",
            "512/512 [==============================] - 138s 269ms/step - loss: 1416.5891 - mae: 28.8909\n",
            "Epoch 10/20\n",
            "512/512 [==============================] - 138s 269ms/step - loss: 1480.2128 - mae: 29.5941\n",
            "Epoch 11/20\n",
            "512/512 [==============================] - 136s 265ms/step - loss: 1386.3483 - mae: 28.5885\n",
            "Epoch 12/20\n",
            "512/512 [==============================] - 138s 269ms/step - loss: 1410.3961 - mae: 28.8178\n",
            "Epoch 13/20\n",
            "512/512 [==============================] - 138s 270ms/step - loss: 1390.5768 - mae: 28.7755\n",
            "Epoch 14/20\n",
            "512/512 [==============================] - 140s 274ms/step - loss: 1390.1304 - mae: 28.6437\n",
            "Epoch 15/20\n",
            "512/512 [==============================] - 138s 269ms/step - loss: 1388.3208 - mae: 28.5270\n",
            "Epoch 16/20\n",
            "512/512 [==============================] - 138s 270ms/step - loss: 1356.0917 - mae: 28.2392\n",
            "Epoch 17/20\n",
            "512/512 [==============================] - 138s 269ms/step - loss: 1361.5005 - mae: 28.3561\n",
            "Epoch 18/20\n",
            "512/512 [==============================] - 138s 268ms/step - loss: 1386.1528 - mae: 28.4676\n",
            "Epoch 19/20\n",
            "512/512 [==============================] - 138s 268ms/step - loss: 1347.3712 - mae: 28.1663\n",
            "Epoch 20/20\n",
            "512/512 [==============================] - 138s 268ms/step - loss: 1407.2432 - mae: 28.8541\n"
          ],
          "name": "stdout"
        },
        {
          "output_type": "execute_result",
          "data": {
            "text/plain": [
              "<tensorflow.python.keras.callbacks.History at 0x7fd476056a10>"
            ]
          },
          "metadata": {
            "tags": []
          },
          "execution_count": 27
        }
      ]
    },
    {
      "cell_type": "code",
      "metadata": {
        "colab": {
          "base_uri": "https://localhost:8080/"
        },
        "id": "kNxurG3Xnasr",
        "outputId": "9f03aac5-3a01-4b94-9e1f-9157091e6c06"
      },
      "source": [
        "!nvidia-smi"
      ],
      "execution_count": null,
      "outputs": [
        {
          "output_type": "stream",
          "text": [
            "Wed Mar 17 15:29:38 2021       \n",
            "+-----------------------------------------------------------------------------+\n",
            "| NVIDIA-SMI 460.56       Driver Version: 460.32.03    CUDA Version: 11.2     |\n",
            "|-------------------------------+----------------------+----------------------+\n",
            "| GPU  Name        Persistence-M| Bus-Id        Disp.A | Volatile Uncorr. ECC |\n",
            "| Fan  Temp  Perf  Pwr:Usage/Cap|         Memory-Usage | GPU-Util  Compute M. |\n",
            "|                               |                      |               MIG M. |\n",
            "|===============================+======================+======================|\n",
            "|   0  Tesla P100-PCIE...  Off  | 00000000:00:04.0 Off |                    0 |\n",
            "| N/A   62C    P0    41W / 250W |  15563MiB / 16280MiB |      0%      Default |\n",
            "|                               |                      |                  N/A |\n",
            "+-------------------------------+----------------------+----------------------+\n",
            "                                                                               \n",
            "+-----------------------------------------------------------------------------+\n",
            "| Processes:                                                                  |\n",
            "|  GPU   GI   CI        PID   Type   Process name                  GPU Memory |\n",
            "|        ID   ID                                                   Usage      |\n",
            "|=============================================================================|\n",
            "+-----------------------------------------------------------------------------+\n"
          ],
          "name": "stdout"
        }
      ]
    },
    {
      "cell_type": "code",
      "metadata": {
        "id": "GJfHryQU2ff9"
      },
      "source": [
        "pred=motion_model.predict(test_generator)"
      ],
      "execution_count": null,
      "outputs": []
    },
    {
      "cell_type": "code",
      "metadata": {
        "id": "OePzSRez2hQN"
      },
      "source": [
        "submission.iloc[:,1:]=pred * 2"
      ],
      "execution_count": null,
      "outputs": []
    },
    {
      "cell_type": "code",
      "metadata": {
        "colab": {
          "base_uri": "https://localhost:8080/",
          "height": 779
        },
        "id": "zOyciMAh2i39",
        "outputId": "49c9e322-e9af-44a5-9275-61e8bf3a8d4a"
      },
      "source": [
        "submission\n"
      ],
      "execution_count": null,
      "outputs": [
        {
          "output_type": "execute_result",
          "data": {
            "text/html": [
              "<div>\n",
              "<style scoped>\n",
              "    .dataframe tbody tr th:only-of-type {\n",
              "        vertical-align: middle;\n",
              "    }\n",
              "\n",
              "    .dataframe tbody tr th {\n",
              "        vertical-align: top;\n",
              "    }\n",
              "\n",
              "    .dataframe thead th {\n",
              "        text-align: right;\n",
              "    }\n",
              "</style>\n",
              "<table border=\"1\" class=\"dataframe\">\n",
              "  <thead>\n",
              "    <tr style=\"text-align: right;\">\n",
              "      <th></th>\n",
              "      <th>image</th>\n",
              "      <th>nose_x</th>\n",
              "      <th>nose_y</th>\n",
              "      <th>left_eye_x</th>\n",
              "      <th>left_eye_y</th>\n",
              "      <th>right_eye_x</th>\n",
              "      <th>right_eye_y</th>\n",
              "      <th>left_ear_x</th>\n",
              "      <th>left_ear_y</th>\n",
              "      <th>right_ear_x</th>\n",
              "      <th>right_ear_y</th>\n",
              "      <th>left_shoulder_x</th>\n",
              "      <th>left_shoulder_y</th>\n",
              "      <th>right_shoulder_x</th>\n",
              "      <th>right_shoulder_y</th>\n",
              "      <th>left_elbow_x</th>\n",
              "      <th>left_elbow_y</th>\n",
              "      <th>right_elbow_x</th>\n",
              "      <th>right_elbow_y</th>\n",
              "      <th>left_wrist_x</th>\n",
              "      <th>left_wrist_y</th>\n",
              "      <th>right_wrist_x</th>\n",
              "      <th>right_wrist_y</th>\n",
              "      <th>left_hip_x</th>\n",
              "      <th>left_hip_y</th>\n",
              "      <th>right_hip_x</th>\n",
              "      <th>right_hip_y</th>\n",
              "      <th>left_knee_x</th>\n",
              "      <th>left_knee_y</th>\n",
              "      <th>right_knee_x</th>\n",
              "      <th>right_knee_y</th>\n",
              "      <th>left_ankle_x</th>\n",
              "      <th>left_ankle_y</th>\n",
              "      <th>right_ankle_x</th>\n",
              "      <th>right_ankle_y</th>\n",
              "      <th>neck_x</th>\n",
              "      <th>neck_y</th>\n",
              "      <th>left_palm_x</th>\n",
              "      <th>left_palm_y</th>\n",
              "      <th>right_palm_x</th>\n",
              "      <th>right_palm_y</th>\n",
              "      <th>spine2(back)_x</th>\n",
              "      <th>spine2(back)_y</th>\n",
              "      <th>spine1(waist)_x</th>\n",
              "      <th>spine1(waist)_y</th>\n",
              "      <th>left_instep_x</th>\n",
              "      <th>left_instep_y</th>\n",
              "      <th>right_instep_x</th>\n",
              "      <th>right_instep_y</th>\n",
              "    </tr>\n",
              "  </thead>\n",
              "  <tbody>\n",
              "    <tr>\n",
              "      <th>0</th>\n",
              "      <td>649-2-4-32-Z148_A-0000001.jpg</td>\n",
              "      <td>846.240540</td>\n",
              "      <td>337.458344</td>\n",
              "      <td>855.323120</td>\n",
              "      <td>328.456696</td>\n",
              "      <td>837.943298</td>\n",
              "      <td>327.966309</td>\n",
              "      <td>865.191101</td>\n",
              "      <td>336.024078</td>\n",
              "      <td>830.527222</td>\n",
              "      <td>334.032745</td>\n",
              "      <td>886.225220</td>\n",
              "      <td>404.676300</td>\n",
              "      <td>789.635681</td>\n",
              "      <td>405.159668</td>\n",
              "      <td>909.689331</td>\n",
              "      <td>450.681305</td>\n",
              "      <td>754.652588</td>\n",
              "      <td>445.583984</td>\n",
              "      <td>902.286255</td>\n",
              "      <td>476.966034</td>\n",
              "      <td>759.480225</td>\n",
              "      <td>473.179962</td>\n",
              "      <td>850.498962</td>\n",
              "      <td>586.484497</td>\n",
              "      <td>796.603699</td>\n",
              "      <td>585.376282</td>\n",
              "      <td>873.319336</td>\n",
              "      <td>688.490601</td>\n",
              "      <td>793.901184</td>\n",
              "      <td>682.351746</td>\n",
              "      <td>894.453552</td>\n",
              "      <td>796.231628</td>\n",
              "      <td>809.635803</td>\n",
              "      <td>791.302612</td>\n",
              "      <td>840.850769</td>\n",
              "      <td>376.188446</td>\n",
              "      <td>898.406677</td>\n",
              "      <td>479.752686</td>\n",
              "      <td>764.380005</td>\n",
              "      <td>479.153290</td>\n",
              "      <td>831.848267</td>\n",
              "      <td>462.719635</td>\n",
              "      <td>823.948853</td>\n",
              "      <td>532.019531</td>\n",
              "      <td>899.296875</td>\n",
              "      <td>816.053406</td>\n",
              "      <td>808.217773</td>\n",
              "      <td>810.536499</td>\n",
              "    </tr>\n",
              "    <tr>\n",
              "      <th>1</th>\n",
              "      <td>649-2-4-32-Z148_A-0000003.jpg</td>\n",
              "      <td>949.801819</td>\n",
              "      <td>465.641968</td>\n",
              "      <td>948.032227</td>\n",
              "      <td>457.165161</td>\n",
              "      <td>947.530640</td>\n",
              "      <td>456.118225</td>\n",
              "      <td>945.982544</td>\n",
              "      <td>453.399170</td>\n",
              "      <td>946.276306</td>\n",
              "      <td>449.777008</td>\n",
              "      <td>943.211426</td>\n",
              "      <td>498.342682</td>\n",
              "      <td>951.305725</td>\n",
              "      <td>500.199371</td>\n",
              "      <td>934.455444</td>\n",
              "      <td>570.678772</td>\n",
              "      <td>961.361694</td>\n",
              "      <td>565.966187</td>\n",
              "      <td>942.749146</td>\n",
              "      <td>637.432556</td>\n",
              "      <td>961.139221</td>\n",
              "      <td>635.551147</td>\n",
              "      <td>947.660034</td>\n",
              "      <td>639.896118</td>\n",
              "      <td>959.060364</td>\n",
              "      <td>638.468262</td>\n",
              "      <td>963.457642</td>\n",
              "      <td>746.551880</td>\n",
              "      <td>966.294006</td>\n",
              "      <td>741.677917</td>\n",
              "      <td>986.799133</td>\n",
              "      <td>853.728333</td>\n",
              "      <td>983.233765</td>\n",
              "      <td>853.784485</td>\n",
              "      <td>944.961182</td>\n",
              "      <td>476.057587</td>\n",
              "      <td>946.049438</td>\n",
              "      <td>646.608887</td>\n",
              "      <td>963.670105</td>\n",
              "      <td>648.697632</td>\n",
              "      <td>947.522095</td>\n",
              "      <td>536.211914</td>\n",
              "      <td>949.502869</td>\n",
              "      <td>592.709229</td>\n",
              "      <td>993.121155</td>\n",
              "      <td>873.722107</td>\n",
              "      <td>987.382690</td>\n",
              "      <td>874.039795</td>\n",
              "    </tr>\n",
              "    <tr>\n",
              "      <th>2</th>\n",
              "      <td>649-2-4-32-Z148_A-0000005.jpg</td>\n",
              "      <td>1068.264282</td>\n",
              "      <td>503.373810</td>\n",
              "      <td>1063.184448</td>\n",
              "      <td>518.169983</td>\n",
              "      <td>1088.952026</td>\n",
              "      <td>510.820923</td>\n",
              "      <td>1035.364014</td>\n",
              "      <td>550.787109</td>\n",
              "      <td>1093.172363</td>\n",
              "      <td>538.355835</td>\n",
              "      <td>927.566895</td>\n",
              "      <td>548.368652</td>\n",
              "      <td>1073.468872</td>\n",
              "      <td>516.286987</td>\n",
              "      <td>847.039429</td>\n",
              "      <td>544.034546</td>\n",
              "      <td>1101.628540</td>\n",
              "      <td>490.782501</td>\n",
              "      <td>835.318237</td>\n",
              "      <td>495.119141</td>\n",
              "      <td>1085.809570</td>\n",
              "      <td>460.089539</td>\n",
              "      <td>775.643860</td>\n",
              "      <td>537.814331</td>\n",
              "      <td>860.289368</td>\n",
              "      <td>520.204590</td>\n",
              "      <td>717.902710</td>\n",
              "      <td>508.344818</td>\n",
              "      <td>816.901123</td>\n",
              "      <td>486.157990</td>\n",
              "      <td>672.707214</td>\n",
              "      <td>638.403687</td>\n",
              "      <td>761.684143</td>\n",
              "      <td>618.362732</td>\n",
              "      <td>1019.553101</td>\n",
              "      <td>530.915710</td>\n",
              "      <td>836.543579</td>\n",
              "      <td>483.803802</td>\n",
              "      <td>1080.269165</td>\n",
              "      <td>452.698914</td>\n",
              "      <td>939.326416</td>\n",
              "      <td>521.782715</td>\n",
              "      <td>866.788940</td>\n",
              "      <td>520.524170</td>\n",
              "      <td>659.102783</td>\n",
              "      <td>652.562866</td>\n",
              "      <td>752.384888</td>\n",
              "      <td>628.885925</td>\n",
              "    </tr>\n",
              "    <tr>\n",
              "      <th>3</th>\n",
              "      <td>649-2-4-32-Z148_A-0000007.jpg</td>\n",
              "      <td>638.003723</td>\n",
              "      <td>495.710602</td>\n",
              "      <td>615.348877</td>\n",
              "      <td>503.013153</td>\n",
              "      <td>629.285034</td>\n",
              "      <td>506.712921</td>\n",
              "      <td>617.814636</td>\n",
              "      <td>536.112427</td>\n",
              "      <td>649.964478</td>\n",
              "      <td>543.539551</td>\n",
              "      <td>670.082214</td>\n",
              "      <td>529.044373</td>\n",
              "      <td>762.297546</td>\n",
              "      <td>563.505371</td>\n",
              "      <td>623.653931</td>\n",
              "      <td>499.118958</td>\n",
              "      <td>784.600708</td>\n",
              "      <td>528.348206</td>\n",
              "      <td>590.618958</td>\n",
              "      <td>480.120361</td>\n",
              "      <td>742.052917</td>\n",
              "      <td>499.703125</td>\n",
              "      <td>943.896118</td>\n",
              "      <td>552.044922</td>\n",
              "      <td>1002.268127</td>\n",
              "      <td>567.858093</td>\n",
              "      <td>1081.997681</td>\n",
              "      <td>518.024048</td>\n",
              "      <td>1161.052979</td>\n",
              "      <td>535.034241</td>\n",
              "      <td>1173.940918</td>\n",
              "      <td>663.038269</td>\n",
              "      <td>1247.863892</td>\n",
              "      <td>696.858765</td>\n",
              "      <td>681.587219</td>\n",
              "      <td>537.335815</td>\n",
              "      <td>592.136597</td>\n",
              "      <td>471.561554</td>\n",
              "      <td>737.944031</td>\n",
              "      <td>492.012024</td>\n",
              "      <td>786.146545</td>\n",
              "      <td>537.650940</td>\n",
              "      <td>881.716431</td>\n",
              "      <td>546.622803</td>\n",
              "      <td>1204.439453</td>\n",
              "      <td>680.230469</td>\n",
              "      <td>1282.127686</td>\n",
              "      <td>716.599365</td>\n",
              "    </tr>\n",
              "    <tr>\n",
              "      <th>4</th>\n",
              "      <td>649-2-4-32-Z148_A-0000009.jpg</td>\n",
              "      <td>879.277832</td>\n",
              "      <td>548.047180</td>\n",
              "      <td>884.496704</td>\n",
              "      <td>546.122986</td>\n",
              "      <td>877.983276</td>\n",
              "      <td>542.197510</td>\n",
              "      <td>895.308044</td>\n",
              "      <td>541.107300</td>\n",
              "      <td>879.969116</td>\n",
              "      <td>532.658936</td>\n",
              "      <td>905.073425</td>\n",
              "      <td>557.284363</td>\n",
              "      <td>861.030457</td>\n",
              "      <td>540.622498</td>\n",
              "      <td>895.667053</td>\n",
              "      <td>629.976196</td>\n",
              "      <td>838.053223</td>\n",
              "      <td>595.473206</td>\n",
              "      <td>876.148254</td>\n",
              "      <td>682.026917</td>\n",
              "      <td>818.197876</td>\n",
              "      <td>651.315735</td>\n",
              "      <td>875.541016</td>\n",
              "      <td>616.727356</td>\n",
              "      <td>855.967834</td>\n",
              "      <td>604.584473</td>\n",
              "      <td>885.839600</td>\n",
              "      <td>661.494995</td>\n",
              "      <td>836.884888</td>\n",
              "      <td>643.008240</td>\n",
              "      <td>915.756470</td>\n",
              "      <td>738.068787</td>\n",
              "      <td>860.100708</td>\n",
              "      <td>718.835938</td>\n",
              "      <td>880.890747</td>\n",
              "      <td>541.677185</td>\n",
              "      <td>871.101624</td>\n",
              "      <td>686.554321</td>\n",
              "      <td>814.470032</td>\n",
              "      <td>660.062378</td>\n",
              "      <td>877.081482</td>\n",
              "      <td>559.880920</td>\n",
              "      <td>870.849976</td>\n",
              "      <td>585.692566</td>\n",
              "      <td>913.933777</td>\n",
              "      <td>759.201416</td>\n",
              "      <td>854.355835</td>\n",
              "      <td>737.390015</td>\n",
              "    </tr>\n",
              "    <tr>\n",
              "      <th>...</th>\n",
              "      <td>...</td>\n",
              "      <td>...</td>\n",
              "      <td>...</td>\n",
              "      <td>...</td>\n",
              "      <td>...</td>\n",
              "      <td>...</td>\n",
              "      <td>...</td>\n",
              "      <td>...</td>\n",
              "      <td>...</td>\n",
              "      <td>...</td>\n",
              "      <td>...</td>\n",
              "      <td>...</td>\n",
              "      <td>...</td>\n",
              "      <td>...</td>\n",
              "      <td>...</td>\n",
              "      <td>...</td>\n",
              "      <td>...</td>\n",
              "      <td>...</td>\n",
              "      <td>...</td>\n",
              "      <td>...</td>\n",
              "      <td>...</td>\n",
              "      <td>...</td>\n",
              "      <td>...</td>\n",
              "      <td>...</td>\n",
              "      <td>...</td>\n",
              "      <td>...</td>\n",
              "      <td>...</td>\n",
              "      <td>...</td>\n",
              "      <td>...</td>\n",
              "      <td>...</td>\n",
              "      <td>...</td>\n",
              "      <td>...</td>\n",
              "      <td>...</td>\n",
              "      <td>...</td>\n",
              "      <td>...</td>\n",
              "      <td>...</td>\n",
              "      <td>...</td>\n",
              "      <td>...</td>\n",
              "      <td>...</td>\n",
              "      <td>...</td>\n",
              "      <td>...</td>\n",
              "      <td>...</td>\n",
              "      <td>...</td>\n",
              "      <td>...</td>\n",
              "      <td>...</td>\n",
              "      <td>...</td>\n",
              "      <td>...</td>\n",
              "      <td>...</td>\n",
              "      <td>...</td>\n",
              "    </tr>\n",
              "    <tr>\n",
              "      <th>1595</th>\n",
              "      <td>786-3-5-41-Z94_E-0000023.jpg</td>\n",
              "      <td>1119.790649</td>\n",
              "      <td>412.455963</td>\n",
              "      <td>1140.313843</td>\n",
              "      <td>417.211395</td>\n",
              "      <td>1121.531860</td>\n",
              "      <td>410.401428</td>\n",
              "      <td>1152.966309</td>\n",
              "      <td>453.496429</td>\n",
              "      <td>1112.110107</td>\n",
              "      <td>439.439697</td>\n",
              "      <td>1132.720215</td>\n",
              "      <td>508.118317</td>\n",
              "      <td>1003.412170</td>\n",
              "      <td>468.868835</td>\n",
              "      <td>1143.535645</td>\n",
              "      <td>483.520050</td>\n",
              "      <td>922.905701</td>\n",
              "      <td>418.028748</td>\n",
              "      <td>1083.057373</td>\n",
              "      <td>413.079865</td>\n",
              "      <td>918.502930</td>\n",
              "      <td>363.702911</td>\n",
              "      <td>920.821594</td>\n",
              "      <td>631.347656</td>\n",
              "      <td>845.281433</td>\n",
              "      <td>608.122070</td>\n",
              "      <td>858.250366</td>\n",
              "      <td>657.600830</td>\n",
              "      <td>751.523804</td>\n",
              "      <td>620.880310</td>\n",
              "      <td>805.374329</td>\n",
              "      <td>818.835876</td>\n",
              "      <td>698.246094</td>\n",
              "      <td>777.073059</td>\n",
              "      <td>1089.197876</td>\n",
              "      <td>472.210968</td>\n",
              "      <td>1067.221313</td>\n",
              "      <td>399.364929</td>\n",
              "      <td>922.019226</td>\n",
              "      <td>353.898773</td>\n",
              "      <td>1012.754333</td>\n",
              "      <td>529.744202</td>\n",
              "      <td>936.495972</td>\n",
              "      <td>575.548279</td>\n",
              "      <td>784.748840</td>\n",
              "      <td>845.737427</td>\n",
              "      <td>672.181274</td>\n",
              "      <td>799.305542</td>\n",
              "    </tr>\n",
              "    <tr>\n",
              "      <th>1596</th>\n",
              "      <td>786-3-5-41-Z94_E-0000025.jpg</td>\n",
              "      <td>1011.651794</td>\n",
              "      <td>374.454895</td>\n",
              "      <td>1019.435181</td>\n",
              "      <td>362.683929</td>\n",
              "      <td>1000.500122</td>\n",
              "      <td>362.526733</td>\n",
              "      <td>1027.351685</td>\n",
              "      <td>360.010468</td>\n",
              "      <td>984.830566</td>\n",
              "      <td>357.461182</td>\n",
              "      <td>1056.061401</td>\n",
              "      <td>423.702606</td>\n",
              "      <td>946.240112</td>\n",
              "      <td>424.600952</td>\n",
              "      <td>1098.433228</td>\n",
              "      <td>488.021545</td>\n",
              "      <td>923.344055</td>\n",
              "      <td>486.223511</td>\n",
              "      <td>1091.255127</td>\n",
              "      <td>521.775085</td>\n",
              "      <td>933.734131</td>\n",
              "      <td>526.006897</td>\n",
              "      <td>1018.815552</td>\n",
              "      <td>604.887085</td>\n",
              "      <td>958.589844</td>\n",
              "      <td>604.181580</td>\n",
              "      <td>1047.652954</td>\n",
              "      <td>741.671753</td>\n",
              "      <td>966.365601</td>\n",
              "      <td>735.606628</td>\n",
              "      <td>1061.070801</td>\n",
              "      <td>838.624268</td>\n",
              "      <td>973.730042</td>\n",
              "      <td>839.212646</td>\n",
              "      <td>1001.182617</td>\n",
              "      <td>397.983551</td>\n",
              "      <td>1088.923950</td>\n",
              "      <td>522.571106</td>\n",
              "      <td>942.262268</td>\n",
              "      <td>530.758545</td>\n",
              "      <td>994.694885</td>\n",
              "      <td>476.160706</td>\n",
              "      <td>989.358337</td>\n",
              "      <td>546.816528</td>\n",
              "      <td>1068.114502</td>\n",
              "      <td>864.894958</td>\n",
              "      <td>976.344482</td>\n",
              "      <td>863.853271</td>\n",
              "    </tr>\n",
              "    <tr>\n",
              "      <th>1597</th>\n",
              "      <td>786-3-5-41-Z94_E-0000027.jpg</td>\n",
              "      <td>844.346985</td>\n",
              "      <td>376.393860</td>\n",
              "      <td>852.312866</td>\n",
              "      <td>368.417877</td>\n",
              "      <td>835.835876</td>\n",
              "      <td>367.867188</td>\n",
              "      <td>861.720154</td>\n",
              "      <td>374.850830</td>\n",
              "      <td>827.693054</td>\n",
              "      <td>372.457886</td>\n",
              "      <td>884.145813</td>\n",
              "      <td>432.815094</td>\n",
              "      <td>791.665894</td>\n",
              "      <td>433.045898</td>\n",
              "      <td>909.179871</td>\n",
              "      <td>461.095795</td>\n",
              "      <td>757.305115</td>\n",
              "      <td>456.365417</td>\n",
              "      <td>903.534119</td>\n",
              "      <td>469.692108</td>\n",
              "      <td>764.216675</td>\n",
              "      <td>466.303680</td>\n",
              "      <td>855.657043</td>\n",
              "      <td>596.506165</td>\n",
              "      <td>804.054016</td>\n",
              "      <td>595.246765</td>\n",
              "      <td>875.348755</td>\n",
              "      <td>689.745117</td>\n",
              "      <td>797.708008</td>\n",
              "      <td>682.936218</td>\n",
              "      <td>895.384460</td>\n",
              "      <td>802.854858</td>\n",
              "      <td>812.276062</td>\n",
              "      <td>798.330078</td>\n",
              "      <td>839.650146</td>\n",
              "      <td>409.366943</td>\n",
              "      <td>900.354614</td>\n",
              "      <td>469.615662</td>\n",
              "      <td>769.260559</td>\n",
              "      <td>469.438660</td>\n",
              "      <td>834.216675</td>\n",
              "      <td>485.338043</td>\n",
              "      <td>828.984253</td>\n",
              "      <td>546.415894</td>\n",
              "      <td>900.366150</td>\n",
              "      <td>822.296143</td>\n",
              "      <td>810.802673</td>\n",
              "      <td>817.527710</td>\n",
              "    </tr>\n",
              "    <tr>\n",
              "      <th>1598</th>\n",
              "      <td>786-3-5-41-Z94_E-0000029.jpg</td>\n",
              "      <td>1024.593140</td>\n",
              "      <td>495.207489</td>\n",
              "      <td>1030.231567</td>\n",
              "      <td>484.039124</td>\n",
              "      <td>1016.239258</td>\n",
              "      <td>483.886536</td>\n",
              "      <td>1031.577148</td>\n",
              "      <td>467.305023</td>\n",
              "      <td>1000.152954</td>\n",
              "      <td>465.191864</td>\n",
              "      <td>1045.744751</td>\n",
              "      <td>506.420166</td>\n",
              "      <td>964.384766</td>\n",
              "      <td>510.052917</td>\n",
              "      <td>1065.943237</td>\n",
              "      <td>610.242249</td>\n",
              "      <td>951.790100</td>\n",
              "      <td>610.951477</td>\n",
              "      <td>1074.304443</td>\n",
              "      <td>693.896851</td>\n",
              "      <td>957.105347</td>\n",
              "      <td>699.178833</td>\n",
              "      <td>999.985229</td>\n",
              "      <td>635.119019</td>\n",
              "      <td>958.834900</td>\n",
              "      <td>635.934631</td>\n",
              "      <td>1024.430908</td>\n",
              "      <td>751.566895</td>\n",
              "      <td>955.264404</td>\n",
              "      <td>752.292542</td>\n",
              "      <td>1039.708618</td>\n",
              "      <td>830.247192</td>\n",
              "      <td>959.796692</td>\n",
              "      <td>836.371826</td>\n",
              "      <td>1007.317139</td>\n",
              "      <td>489.355042</td>\n",
              "      <td>1075.717651</td>\n",
              "      <td>702.598938</td>\n",
              "      <td>961.809937</td>\n",
              "      <td>712.598206</td>\n",
              "      <td>994.817871</td>\n",
              "      <td>539.633911</td>\n",
              "      <td>984.986328</td>\n",
              "      <td>592.316895</td>\n",
              "      <td>1047.071289</td>\n",
              "      <td>855.361328</td>\n",
              "      <td>962.535278</td>\n",
              "      <td>859.375000</td>\n",
              "    </tr>\n",
              "    <tr>\n",
              "      <th>1599</th>\n",
              "      <td>786-3-5-41-Z94_E-0000031.jpg</td>\n",
              "      <td>1036.109985</td>\n",
              "      <td>440.208649</td>\n",
              "      <td>1031.429199</td>\n",
              "      <td>458.939209</td>\n",
              "      <td>1056.396484</td>\n",
              "      <td>450.031738</td>\n",
              "      <td>1011.749268</td>\n",
              "      <td>511.240936</td>\n",
              "      <td>1067.043701</td>\n",
              "      <td>495.250763</td>\n",
              "      <td>915.627808</td>\n",
              "      <td>522.756470</td>\n",
              "      <td>1056.761108</td>\n",
              "      <td>478.723206</td>\n",
              "      <td>841.632996</td>\n",
              "      <td>462.247559</td>\n",
              "      <td>1074.029785</td>\n",
              "      <td>389.765686</td>\n",
              "      <td>804.747314</td>\n",
              "      <td>343.315216</td>\n",
              "      <td>1049.028809</td>\n",
              "      <td>290.401062</td>\n",
              "      <td>788.243835</td>\n",
              "      <td>532.332642</td>\n",
              "      <td>866.714050</td>\n",
              "      <td>507.646851</td>\n",
              "      <td>727.070557</td>\n",
              "      <td>497.262482</td>\n",
              "      <td>828.507935</td>\n",
              "      <td>461.137390</td>\n",
              "      <td>683.351440</td>\n",
              "      <td>665.483337</td>\n",
              "      <td>779.204102</td>\n",
              "      <td>630.958252</td>\n",
              "      <td>1000.086853</td>\n",
              "      <td>497.411011</td>\n",
              "      <td>799.674194</td>\n",
              "      <td>322.093201</td>\n",
              "      <td>1042.186279</td>\n",
              "      <td>272.076111</td>\n",
              "      <td>933.170532</td>\n",
              "      <td>501.866364</td>\n",
              "      <td>869.599121</td>\n",
              "      <td>504.970764</td>\n",
              "      <td>666.797607</td>\n",
              "      <td>678.570984</td>\n",
              "      <td>766.731689</td>\n",
              "      <td>641.102417</td>\n",
              "    </tr>\n",
              "  </tbody>\n",
              "</table>\n",
              "<p>1600 rows × 49 columns</p>\n",
              "</div>"
            ],
            "text/plain": [
              "                              image  ...  right_instep_y\n",
              "0     649-2-4-32-Z148_A-0000001.jpg  ...      810.536499\n",
              "1     649-2-4-32-Z148_A-0000003.jpg  ...      874.039795\n",
              "2     649-2-4-32-Z148_A-0000005.jpg  ...      628.885925\n",
              "3     649-2-4-32-Z148_A-0000007.jpg  ...      716.599365\n",
              "4     649-2-4-32-Z148_A-0000009.jpg  ...      737.390015\n",
              "...                             ...  ...             ...\n",
              "1595   786-3-5-41-Z94_E-0000023.jpg  ...      799.305542\n",
              "1596   786-3-5-41-Z94_E-0000025.jpg  ...      863.853271\n",
              "1597   786-3-5-41-Z94_E-0000027.jpg  ...      817.527710\n",
              "1598   786-3-5-41-Z94_E-0000029.jpg  ...      859.375000\n",
              "1599   786-3-5-41-Z94_E-0000031.jpg  ...      641.102417\n",
              "\n",
              "[1600 rows x 49 columns]"
            ]
          },
          "metadata": {
            "tags": []
          },
          "execution_count": 31
        }
      ]
    },
    {
      "cell_type": "code",
      "metadata": {
        "id": "lS0Ca1B8OwKp",
        "colab": {
          "base_uri": "https://localhost:8080/"
        },
        "outputId": "11ae3d4a-d66a-4f73-d8f8-7f0b573ecb2f"
      },
      "source": [
        "type(submission)"
      ],
      "execution_count": null,
      "outputs": [
        {
          "output_type": "execute_result",
          "data": {
            "text/plain": [
              "pandas.core.frame.DataFrame"
            ]
          },
          "metadata": {
            "tags": []
          },
          "execution_count": 32
        }
      ]
    },
    {
      "cell_type": "code",
      "metadata": {
        "id": "F-JxoDvh2oRC"
      },
      "source": [
        "submission.to_csv('/content/gdrive/MyDrive/미래연구소/프로젝트/submit.csv', index=False)   # DataFrame.to_csv() -> DataFrame의 데이터를 CSV 파일에 저장"
      ],
      "execution_count": null,
      "outputs": []
    },
    {
      "cell_type": "code",
      "metadata": {
        "id": "ZCg9jHRl8JO9"
      },
      "source": [
        ""
      ],
      "execution_count": null,
      "outputs": []
    }
  ]
}