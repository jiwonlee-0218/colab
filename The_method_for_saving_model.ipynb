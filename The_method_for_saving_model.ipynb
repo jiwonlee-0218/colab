{
  "nbformat": 4,
  "nbformat_minor": 0,
  "metadata": {
    "kernelspec": {
      "display_name": "Python 3",
      "language": "python",
      "name": "python3"
    },
    "language_info": {
      "codemirror_mode": {
        "name": "ipython",
        "version": 3
      },
      "file_extension": ".py",
      "mimetype": "text/x-python",
      "name": "python",
      "nbconvert_exporter": "python",
      "pygments_lexer": "ipython3",
      "version": "3.8.5"
    },
    "colab": {
      "name": "The_method_for_saving_model.ipynb",
      "provenance": [],
      "include_colab_link": true
    }
  },
  "cells": [
    {
      "cell_type": "markdown",
      "metadata": {
        "id": "view-in-github",
        "colab_type": "text"
      },
      "source": [
        "<a href=\"https://colab.research.google.com/github/jiwonlee-0218/colab/blob/main/The_method_for_saving_model.ipynb\" target=\"_parent\"><img src=\"https://colab.research.google.com/assets/colab-badge.svg\" alt=\"Open In Colab\"/></a>"
      ]
    },
    {
      "cell_type": "markdown",
      "metadata": {
        "id": "Z955LNF46slm"
      },
      "source": [
        "# The method for saving model"
      ]
    },
    {
      "cell_type": "markdown",
      "metadata": {
        "id": "DdqdHNAB6slp"
      },
      "source": [
        "-------"
      ]
    },
    {
      "cell_type": "markdown",
      "metadata": {
        "id": "zdjePCs56slq"
      },
      "source": [
        "# 0 .기존 작업"
      ]
    },
    {
      "cell_type": "code",
      "metadata": {
        "id": "CPFeT3de6slr"
      },
      "source": [
        "from tensorflow.keras.datasets import mnist\n",
        "import numpy as np\n",
        "import tensorflow as tf"
      ],
      "execution_count": null,
      "outputs": []
    },
    {
      "cell_type": "code",
      "metadata": {
        "id": "EgilepUW6slr",
        "colab": {
          "base_uri": "https://localhost:8080/"
        },
        "outputId": "4e0cf01d-f2c6-48f7-f7d0-49ddc3eedf4a"
      },
      "source": [
        "(x, y), (x_test, y_test) = mnist.load_data()"
      ],
      "execution_count": null,
      "outputs": [
        {
          "output_type": "stream",
          "text": [
            "Downloading data from https://storage.googleapis.com/tensorflow/tf-keras-datasets/mnist.npz\n",
            "11493376/11490434 [==============================] - 0s 0us/step\n"
          ],
          "name": "stdout"
        }
      ]
    },
    {
      "cell_type": "code",
      "metadata": {
        "id": "HZwRcaUW6sls"
      },
      "source": [
        "from tensorflow.keras.utils import to_categorical"
      ],
      "execution_count": null,
      "outputs": []
    },
    {
      "cell_type": "code",
      "metadata": {
        "id": "4M7ZH3SU6slt"
      },
      "source": [
        "x = x.astype('float32') \n",
        "x_test = x_test.astype('float32')\n",
        "\n",
        "x /= 255\n",
        "x_test /= 255\n",
        "\n",
        "y = to_categorical(y, 10)\n",
        "y_test = to_categorical(y_test, 10)\n",
        "\n",
        "x = x.reshape(60000,-1)\n",
        "x_test = x_test.reshape(10000,-1) "
      ],
      "execution_count": null,
      "outputs": []
    },
    {
      "cell_type": "code",
      "metadata": {
        "colab": {
          "base_uri": "https://localhost:8080/"
        },
        "id": "TAJ0BCDqvYKM",
        "outputId": "ff768d84-1b6a-4956-ba9a-ab03acce6820"
      },
      "source": [
        "x.shape"
      ],
      "execution_count": null,
      "outputs": [
        {
          "output_type": "execute_result",
          "data": {
            "text/plain": [
              "(60000, 784)"
            ]
          },
          "metadata": {
            "tags": []
          },
          "execution_count": 7
        }
      ]
    },
    {
      "cell_type": "code",
      "metadata": {
        "id": "U4-TQBvL6slt"
      },
      "source": [
        "from tensorflow.keras.models import Sequential\n",
        "from tensorflow.keras.layers import Dense, Flatten"
      ],
      "execution_count": null,
      "outputs": []
    },
    {
      "cell_type": "code",
      "metadata": {
        "id": "-myp1Mlw6slu"
      },
      "source": [
        "def create_model():\n",
        "    model = Sequential()\n",
        "    model.add(Dense(units=32, activation='relu', input_shape=(28*28,)))\n",
        "    model.add(Dense(64, 'relu'))\n",
        "    model.add(Dense(128, 'relu'))\n",
        "    model.add(Dense(units=10, activation='softmax'))\n",
        "    \n",
        "    model.compile(optimizer='adam', \n",
        "                  loss='categorical_crossentropy',\n",
        "                 metrics=['accuracy'])\n",
        "\n",
        "    return model"
      ],
      "execution_count": null,
      "outputs": []
    },
    {
      "cell_type": "markdown",
      "metadata": {
        "id": "E8X-Wtrj6slu"
      },
      "source": [
        "-------------"
      ]
    },
    {
      "cell_type": "code",
      "metadata": {
        "id": "ar7wvdYx6slv",
        "outputId": "825eba5f-f39e-4254-f332-81391a3a51b8"
      },
      "source": [
        "model = create_model()\n",
        "model.summary()"
      ],
      "execution_count": null,
      "outputs": [
        {
          "output_type": "stream",
          "text": [
            "Model: \"sequential\"\n",
            "_________________________________________________________________\n",
            "Layer (type)                 Output Shape              Param #   \n",
            "=================================================================\n",
            "dense (Dense)                (None, 32)                25120     \n",
            "_________________________________________________________________\n",
            "dense_1 (Dense)              (None, 64)                2112      \n",
            "_________________________________________________________________\n",
            "dense_2 (Dense)              (None, 128)               8320      \n",
            "_________________________________________________________________\n",
            "dense_3 (Dense)              (None, 10)                1290      \n",
            "=================================================================\n",
            "Total params: 36,842\n",
            "Trainable params: 36,842\n",
            "Non-trainable params: 0\n",
            "_________________________________________________________________\n"
          ],
          "name": "stdout"
        }
      ]
    },
    {
      "cell_type": "code",
      "metadata": {
        "id": "v71DMJdK6slv",
        "outputId": "ee3ff1d4-63c1-49f6-8b13-bc807ceceb14"
      },
      "source": [
        "history = model.fit(x, y, validation_split=1/6, epochs=5, batch_size=512)"
      ],
      "execution_count": null,
      "outputs": [
        {
          "output_type": "stream",
          "text": [
            "Epoch 1/5\n",
            "98/98 [==============================] - 3s 24ms/step - loss: 1.4496 - accuracy: 0.5426 - val_loss: 0.2962 - val_accuracy: 0.9133\n",
            "Epoch 2/5\n",
            "98/98 [==============================] - 1s 6ms/step - loss: 0.2966 - accuracy: 0.9151 - val_loss: 0.2244 - val_accuracy: 0.9367\n",
            "Epoch 3/5\n",
            "98/98 [==============================] - 1s 8ms/step - loss: 0.2247 - accuracy: 0.9344 - val_loss: 0.1834 - val_accuracy: 0.9484\n",
            "Epoch 4/5\n",
            "98/98 [==============================] - 1s 7ms/step - loss: 0.1864 - accuracy: 0.9450 - val_loss: 0.1621 - val_accuracy: 0.9547\n",
            "Epoch 5/5\n",
            "98/98 [==============================] - 1s 6ms/step - loss: 0.1537 - accuracy: 0.9535 - val_loss: 0.1489 - val_accuracy: 0.9554\n"
          ],
          "name": "stdout"
        }
      ]
    },
    {
      "cell_type": "code",
      "metadata": {
        "id": "OcDuu6nc6slw"
      },
      "source": [
        "import matplotlib.pyplot as plt"
      ],
      "execution_count": null,
      "outputs": []
    },
    {
      "cell_type": "code",
      "metadata": {
        "id": "_JiWMHGP6slw",
        "outputId": "cf5eccc8-e9fa-4545-9df6-8f5d0a9e1108"
      },
      "source": [
        "loss = history.history['loss']\n",
        "val_loss = history.history['val_loss']\n",
        "\n",
        "epochs = range(1, len(loss) + 1)\n",
        "\n",
        "plt.plot(epochs, loss, 'r', label = 'Training loss')\n",
        "plt.plot(epochs, val_loss, 'b', label = 'Validation loss')\n",
        "plt.title('Training and validation loss')\n",
        "plt.xlabel('Epochs')\n",
        "plt.ylabel('Loss')\n",
        "plt.legend()      \n",
        "\n",
        "plt.show()"
      ],
      "execution_count": null,
      "outputs": [
        {
          "output_type": "display_data",
          "data": {
            "image/png": "[encoded data removed]",
            "text/plain": [
              "<Figure size 432x288 with 1 Axes>"
            ]
          },
          "metadata": {
            "tags": [],
            "needs_background": "light"
          }
        }
      ]
    },
    {
      "cell_type": "code",
      "metadata": {
        "id": "33DWzf_c6slx",
        "outputId": "f7671b7d-779c-4b50-82f1-1f702e9f5c62"
      },
      "source": [
        "acc = history.history['accuracy']\n",
        "val_acc = history.history['val_accuracy']\n",
        "\n",
        "plt.plot(epochs, acc, 'r', label = 'Training accuracy')\n",
        "plt.plot(epochs, val_acc, 'b', label = 'Validation accuracy')\n",
        "plt.title('Training and validation accuracy')\n",
        "plt.xlabel('Epochs')\n",
        "plt.ylabel('Accuracy')\n",
        "plt.legend()\n",
        "\n",
        "plt.show()"
      ],
      "execution_count": null,
      "outputs": [
        {
          "output_type": "display_data",
          "data": {
            "image/png": "[encoded data removed]",
            "text/plain": [
              "<Figure size 432x288 with 1 Axes>"
            ]
          },
          "metadata": {
            "tags": [],
            "needs_background": "light"
          }
        }
      ]
    },
    {
      "cell_type": "markdown",
      "metadata": {
        "id": "DUCqJHe06slx"
      },
      "source": [
        "------"
      ]
    },
    {
      "cell_type": "markdown",
      "metadata": {
        "id": "YXWR60J-6sly"
      },
      "source": [
        "## 1. Model 저장하기\n",
        "\n",
        "### 0) 배경지식\n",
        "\n",
        "#### 1> HDF5\n",
        "\n",
        "- Hierarchical Data Format의 약자\n",
        "- data를 구조적으로 관리해 과학자들이 주로 사용\n",
        "- 공용 파일이어서 어느 언어로든지 읽을 수 있습니다.\n",
        "\n",
        "#### 2> tensorflow 홈페이지에 가면\n",
        "\n",
        "https://www.tensorflow.org/learn\n",
        "\n",
        "모바일용, javascript 용이 있습니다. 핸드폰으로 모델 학습시켜서 해당 자료가 있는 것이 아닙니다.\n",
        "\n",
        "train은 많은 연산이 필요하지만 predict 자체는 행렬만 곱하는 forward propagation입니다.\n",
        "\n",
        "그래서 train은 고성능 GPU로 진행하고 predict 과정만 모바일이나 웹에서도 할 수 있게 하려고 합니다.\n",
        "\n",
        "#### 그러기 위해서는 모델 저장은 공용 파일로 해야합니다.\n",
        "\n",
        "\n",
        "#### 3> **'모델을 저장한다'**의 의미\n",
        "\n",
        "- model의 architecture (configure)\n",
        "- model의 weight 값들\n",
        "\n",
        "---------\n",
        "\n",
        "### 1) model 전체\n",
        "\n",
        "- 모델 전체를 저장하면 나중에 predict만 하는 것도 가능합니다.\n",
        "\n",
        "#### 1> 저장"
      ]
    },
    {
      "cell_type": "code",
      "metadata": {
        "id": "FNTjlwl26sly"
      },
      "source": [
        "model.save('my_model.h5')"
      ],
      "execution_count": null,
      "outputs": []
    },
    {
      "cell_type": "markdown",
      "metadata": {
        "id": "FW8sK5N16slz"
      },
      "source": [
        "#### 2> 불러오기"
      ]
    },
    {
      "cell_type": "code",
      "metadata": {
        "id": "kIiv9jo56slz"
      },
      "source": [
        "from tensorflow.keras.models import load_model"
      ],
      "execution_count": null,
      "outputs": []
    },
    {
      "cell_type": "code",
      "metadata": {
        "id": "zeowGsYc6slz"
      },
      "source": [
        "new_model = load_model('my_model.h5')"
      ],
      "execution_count": null,
      "outputs": []
    },
    {
      "cell_type": "code",
      "metadata": {
        "id": "-Zmqi0vg6sl0",
        "outputId": "d1f199a9-66cc-45cd-e9a2-1e60f188e35b"
      },
      "source": [
        "new_model.predict(x_test[0:9]).shape"
      ],
      "execution_count": null,
      "outputs": [
        {
          "output_type": "execute_result",
          "data": {
            "text/plain": [
              "(9, 10)"
            ]
          },
          "metadata": {
            "tags": []
          },
          "execution_count": 15
        }
      ]
    },
    {
      "cell_type": "code",
      "metadata": {
        "id": "mmWp_vi_6sl0",
        "outputId": "9134c1ef-5640-432f-97bd-df831f0633cc"
      },
      "source": [
        "np.argmax(model.predict(x_test[0:9]), axis=1)"
      ],
      "execution_count": null,
      "outputs": [
        {
          "output_type": "execute_result",
          "data": {
            "text/plain": [
              "array([7, 2, 1, 0, 4, 1, 4, 9, 6], dtype=int64)"
            ]
          },
          "metadata": {
            "tags": []
          },
          "execution_count": 16
        }
      ]
    },
    {
      "cell_type": "code",
      "metadata": {
        "id": "01syZoA16sl1",
        "outputId": "5f71ba55-5b76-414a-92a6-fb6e4314b8c9"
      },
      "source": [
        "np.argmax(new_model.predict(x_test[0:9]), axis=1)"
      ],
      "execution_count": null,
      "outputs": [
        {
          "output_type": "execute_result",
          "data": {
            "text/plain": [
              "array([7, 2, 1, 0, 4, 1, 4, 9, 6], dtype=int64)"
            ]
          },
          "metadata": {
            "tags": []
          },
          "execution_count": 17
        }
      ]
    },
    {
      "cell_type": "code",
      "metadata": {
        "id": "PeJ1FwoR6sl1",
        "outputId": "f0b9a5ee-e1f1-44b1-818f-cf5da83f6b6e"
      },
      "source": [
        "y_test[0:9]"
      ],
      "execution_count": null,
      "outputs": [
        {
          "output_type": "execute_result",
          "data": {
            "text/plain": [
              "array([[0., 0., 0., 0., 0., 0., 0., 1., 0., 0.],\n",
              "       [0., 0., 1., 0., 0., 0., 0., 0., 0., 0.],\n",
              "       [0., 1., 0., 0., 0., 0., 0., 0., 0., 0.],\n",
              "       [1., 0., 0., 0., 0., 0., 0., 0., 0., 0.],\n",
              "       [0., 0., 0., 0., 1., 0., 0., 0., 0., 0.],\n",
              "       [0., 1., 0., 0., 0., 0., 0., 0., 0., 0.],\n",
              "       [0., 0., 0., 0., 1., 0., 0., 0., 0., 0.],\n",
              "       [0., 0., 0., 0., 0., 0., 0., 0., 0., 1.],\n",
              "       [0., 0., 0., 0., 0., 1., 0., 0., 0., 0.]], dtype=float32)"
            ]
          },
          "metadata": {
            "tags": []
          },
          "execution_count": 18
        }
      ]
    },
    {
      "cell_type": "code",
      "metadata": {
        "id": "zpP7GoLE6sl1",
        "outputId": "9b414f72-98bd-429b-e22a-1e388ba8a29c"
      },
      "source": [
        "plt.figure(figsize=(6,6))\n",
        "for i in range(9):\n",
        "    plt.subplot(3,3,i+1)\n",
        "    plt.xticks([])\n",
        "    plt.yticks([])\n",
        "    plt.grid(False)\n",
        "    plt.imshow(x_test.reshape(10000,28,28)[i], cmap=plt.cm.binary)\n",
        "    plt.xlabel(str(y_test[i]))\n",
        "plt.show()"
      ],
      "execution_count": null,
      "outputs": [
        {
          "output_type": "display_data",
          "data": {
            "image/png": "[encoded data removed]",
            "text/plain": [
              "<Figure size 432x432 with 9 Axes>"
            ]
          },
          "metadata": {
            "tags": []
          }
        }
      ]
    },
    {
      "cell_type": "markdown",
      "metadata": {
        "id": "hDpxqQzL6sl1"
      },
      "source": [
        "### 2) model의 architecture 저장\n",
        "\n",
        "#### 1> 저장"
      ]
    },
    {
      "cell_type": "code",
      "metadata": {
        "id": "GYuZjEFM6sl1"
      },
      "source": [
        "json_string = model.to_json()"
      ],
      "execution_count": null,
      "outputs": []
    },
    {
      "cell_type": "code",
      "metadata": {
        "id": "f2cwngAs6sl1",
        "outputId": "0f068fd2-dd8c-4aeb-91e4-ebe229e1e0ac"
      },
      "source": [
        "json_string"
      ],
      "execution_count": null,
      "outputs": [
        {
          "output_type": "execute_result",
          "data": {
            "text/plain": [
              "'{\"class_name\": \"Sequential\", \"config\": {\"name\": \"sequential\", \"layers\": [{\"class_name\": \"InputLayer\", \"config\": {\"batch_input_shape\": [null, 784], \"dtype\": \"float32\", \"sparse\": false, \"ragged\": false, \"name\": \"dense_input\"}}, {\"class_name\": \"Dense\", \"config\": {\"name\": \"dense\", \"trainable\": true, \"batch_input_shape\": [null, 784], \"dtype\": \"float32\", \"units\": 32, \"activation\": \"relu\", \"use_bias\": true, \"kernel_initializer\": {\"class_name\": \"GlorotUniform\", \"config\": {\"seed\": null}}, \"bias_initializer\": {\"class_name\": \"Zeros\", \"config\": {}}, \"kernel_regularizer\": null, \"bias_regularizer\": null, \"activity_regularizer\": null, \"kernel_constraint\": null, \"bias_constraint\": null}}, {\"class_name\": \"Dense\", \"config\": {\"name\": \"dense_1\", \"trainable\": true, \"dtype\": \"float32\", \"units\": 64, \"activation\": \"relu\", \"use_bias\": true, \"kernel_initializer\": {\"class_name\": \"GlorotUniform\", \"config\": {\"seed\": null}}, \"bias_initializer\": {\"class_name\": \"Zeros\", \"config\": {}}, \"kernel_regularizer\": null, \"bias_regularizer\": null, \"activity_regularizer\": null, \"kernel_constraint\": null, \"bias_constraint\": null}}, {\"class_name\": \"Dense\", \"config\": {\"name\": \"dense_2\", \"trainable\": true, \"dtype\": \"float32\", \"units\": 128, \"activation\": \"relu\", \"use_bias\": true, \"kernel_initializer\": {\"class_name\": \"GlorotUniform\", \"config\": {\"seed\": null}}, \"bias_initializer\": {\"class_name\": \"Zeros\", \"config\": {}}, \"kernel_regularizer\": null, \"bias_regularizer\": null, \"activity_regularizer\": null, \"kernel_constraint\": null, \"bias_constraint\": null}}, {\"class_name\": \"Dense\", \"config\": {\"name\": \"dense_3\", \"trainable\": true, \"dtype\": \"float32\", \"units\": 10, \"activation\": \"softmax\", \"use_bias\": true, \"kernel_initializer\": {\"class_name\": \"GlorotUniform\", \"config\": {\"seed\": null}}, \"bias_initializer\": {\"class_name\": \"Zeros\", \"config\": {}}, \"kernel_regularizer\": null, \"bias_regularizer\": null, \"activity_regularizer\": null, \"kernel_constraint\": null, \"bias_constraint\": null}}]}, \"keras_version\": \"2.4.0\", \"backend\": \"tensorflow\"}'"
            ]
          },
          "metadata": {
            "tags": []
          },
          "execution_count": 21
        }
      ]
    },
    {
      "cell_type": "markdown",
      "metadata": {
        "id": "txADaiN66sl2"
      },
      "source": [
        "#### 2> 불러오기"
      ]
    },
    {
      "cell_type": "code",
      "metadata": {
        "id": "ANATyg3m6sl2"
      },
      "source": [
        "# model reconstruction from JSON:\n",
        "from tensorflow.keras.models import model_from_json\n",
        "model_json = model_from_json(json_string)"
      ],
      "execution_count": null,
      "outputs": []
    },
    {
      "cell_type": "code",
      "metadata": {
        "id": "8onHbJ136sl2"
      },
      "source": [
        "model_json.compile(optimizer='adam', \n",
        "                  loss='categorical_crossentropy',\n",
        "                 metrics=['accuracy'])"
      ],
      "execution_count": null,
      "outputs": []
    },
    {
      "cell_type": "code",
      "metadata": {
        "id": "v0s57syW6sl2",
        "outputId": "9118049b-fa21-4d0c-ac5e-b7a0c790f3da"
      },
      "source": [
        "loss, acc = model_json.evaluate(x_test,  y_test, verbose=2)"
      ],
      "execution_count": null,
      "outputs": [
        {
          "output_type": "stream",
          "text": [
            "313/313 - 1s - loss: 2.3241 - accuracy: 0.0593\n"
          ],
          "name": "stdout"
        }
      ]
    },
    {
      "cell_type": "markdown",
      "metadata": {
        "id": "1jKSsjAI6sl2"
      },
      "source": [
        "### 3) weight만 저장"
      ]
    },
    {
      "cell_type": "code",
      "metadata": {
        "id": "ctMPMypj6sl2"
      },
      "source": [
        "new_model.save_weights('my_model_weights.h5')"
      ],
      "execution_count": null,
      "outputs": []
    },
    {
      "cell_type": "code",
      "metadata": {
        "id": "vGt0duQX6sl2"
      },
      "source": [
        "model_json.load_weights('my_model_weights.h5')"
      ],
      "execution_count": null,
      "outputs": []
    },
    {
      "cell_type": "markdown",
      "metadata": {
        "id": "hZtObX056sl2"
      },
      "source": [
        "------"
      ]
    },
    {
      "cell_type": "markdown",
      "metadata": {
        "id": "oRxJsnNf6sl3"
      },
      "source": [
        "## 2. callback\n",
        "\n",
        "개발자들 callback: 어떤 함수가 실행 완료되고 나서 실행되는 함수 / 결과에 따라 호출되는 함수\n",
        "\n",
        "callback 패키지 안에 epoch 돌 때마다 결과 확인하고 실행하면 좋은 기능들이 들어가 있습니다.\n",
        "\n",
        "저희가 오늘 배울 것\n",
        "\n",
        "- ModelCheckpoint\n",
        "- EarlyStopping\n",
        "- LearningRateScheduler\n",
        "\n",
        "---------"
      ]
    },
    {
      "cell_type": "markdown",
      "metadata": {
        "id": "RortdpEn6sl3"
      },
      "source": [
        "## 3. callback으로 저장 (ModelCheckpoint)\n",
        "\n",
        "checkpoint(중요 지점): jupyter 에서 checkpoint 저장하면 나중에 돌아갈 수 있다.\n",
        "\n",
        "- keras는 중요지점이 각 epoch => 그래서 callback을 사용\n",
        "- 중요한 거 저장하려면 파일이름 있어야 한다.\n",
        "\n",
        "\n",
        "### 1) ModelCheckpoint callback 만들기\n",
        "\n",
        "- filepath: 저장할 파일 경로\n",
        "- monitor: 어떤 값을 기준으로 저장할 지 (나중에 최대 최소만 저장하는 기법도 있어서)\n",
        "- period(save_freq로 바뀔 것)\n",
        "- save_weights_only\n",
        "\n",
        "weight만 저장하는 이유: 나중에 bias를 초기화해서 다르게 만들 수도 있어서 (bias 저장이 큰 의미가 없다.)\n",
        "\n",
        "https://keras.io/callbacks/#modelcheckpoint"
      ]
    },
    {
      "cell_type": "code",
      "metadata": {
        "id": "JY2_mw3S6sl3"
      },
      "source": [
        "from tensorflow.keras.callbacks import ModelCheckpoint\n",
        "import os"
      ],
      "execution_count": null,
      "outputs": []
    },
    {
      "cell_type": "code",
      "metadata": {
        "id": "eYZmi62d6sl3"
      },
      "source": [
        "checkpoint_path = \"training_1/cp.ckpt\" # ckpt: checkpoint의 약자\n",
        "checkpoint_dir = os.path.dirname(checkpoint_path)\n",
        "\n",
        "# 체크포인트 콜백 만들기\n",
        "cp_callback = ModelCheckpoint(checkpoint_path, save_weights_only=True, verbose=1)"
      ],
      "execution_count": null,
      "outputs": []
    },
    {
      "cell_type": "markdown",
      "metadata": {
        "id": "oX2Yxscp6sl3"
      },
      "source": [
        "### 2) fit의 callbacks에 내가 만든 callback 넣고 train"
      ]
    },
    {
      "cell_type": "code",
      "metadata": {
        "id": "X9wQ4vPQ6sl3",
        "outputId": "f2902b55-98b1-4968-92bd-9de8170b0593"
      },
      "source": [
        "model = create_model()\n",
        "\n",
        "model.fit(x, y,  epochs = 2, validation_split = 1/6, callbacks = [cp_callback])"
      ],
      "execution_count": null,
      "outputs": [
        {
          "output_type": "stream",
          "text": [
            "Epoch 1/2\n",
            "1563/1563 [==============================] - 4s 2ms/step - loss: 0.5735 - accuracy: 0.8238 - val_loss: 0.1693 - val_accuracy: 0.9511\n",
            "\n",
            "Epoch 00001: saving model to training_1\\cp.ckpt\n",
            "Epoch 2/2\n",
            "1563/1563 [==============================] - 3s 2ms/step - loss: 0.1594 - accuracy: 0.9509 - val_loss: 0.1292 - val_accuracy: 0.9620\n",
            "\n",
            "Epoch 00002: saving model to training_1\\cp.ckpt\n"
          ],
          "name": "stdout"
        },
        {
          "output_type": "execute_result",
          "data": {
            "text/plain": [
              "<tensorflow.python.keras.callbacks.History at 0x1c839422b80>"
            ]
          },
          "metadata": {
            "tags": []
          },
          "execution_count": 29
        }
      ]
    },
    {
      "cell_type": "markdown",
      "metadata": {
        "id": "eNKRvnpC6sl3"
      },
      "source": [
        "파일 가보면 열리는 게 있고 안 열리는 게 있다. (binary 파일이라 바로 안 열림)\n",
        "\n",
        "분명 불러올 수 있습니다.\n",
        "\n",
        "epochs 2번인데 왜 파일이 1개일까?"
      ]
    },
    {
      "cell_type": "markdown",
      "metadata": {
        "id": "ilAXAWOf6sl3"
      },
      "source": [
        "덮어써서"
      ]
    },
    {
      "cell_type": "markdown",
      "metadata": {
        "id": "lxq91cJ76sl3"
      },
      "source": [
        "이름을 epoch 마다 바꿔서 한다.\n",
        "\n",
        "그래야 내가 사용할 epoch을 바로 파일명보고 바로 불러올 수 있어서 편하다."
      ]
    },
    {
      "cell_type": "code",
      "metadata": {
        "id": "g4YnYkh_6sl3",
        "outputId": "1516ce65-d601-4dd5-f23c-260ae9b8a507"
      },
      "source": [
        "checkpoint_path = \"training_2/cp-{epoch:04d}.ckpt\"\n",
        "checkpoint_dir = os.path.dirname(checkpoint_path)\n",
        "\n",
        "cp_callback = ModelCheckpoint(checkpoint_path, verbose=1, \n",
        "                              save_weights_only=True, period=1)"
      ],
      "execution_count": null,
      "outputs": [
        {
          "output_type": "stream",
          "text": [
            "WARNING:tensorflow:`period` argument is deprecated. Please use `save_freq` to specify the frequency in number of batches seen.\n"
          ],
          "name": "stdout"
        }
      ]
    },
    {
      "cell_type": "code",
      "metadata": {
        "id": "lOjmOmia6sl4",
        "outputId": "48560761-e552-4f94-afa3-1ee9b10702da"
      },
      "source": [
        "model = create_model()\n",
        "\n",
        "model.fit(x, y,  epochs = 2, validation_split = 1/6,callbacks = [cp_callback])"
      ],
      "execution_count": null,
      "outputs": [
        {
          "output_type": "stream",
          "text": [
            "Epoch 1/2\n",
            "1563/1563 [==============================] - 4s 2ms/step - loss: 0.5666 - accuracy: 0.8214 - val_loss: 0.1735 - val_accuracy: 0.9467\n",
            "\n",
            "Epoch 00001: saving model to training_2\\cp-0001.ckpt\n",
            "Epoch 2/2\n",
            "1563/1563 [==============================] - 3s 2ms/step - loss: 0.1614 - accuracy: 0.9504 - val_loss: 0.1272 - val_accuracy: 0.9617\n",
            "\n",
            "Epoch 00002: saving model to training_2\\cp-0002.ckpt\n"
          ],
          "name": "stdout"
        },
        {
          "output_type": "execute_result",
          "data": {
            "text/plain": [
              "<tensorflow.python.keras.callbacks.History at 0x1c8381af4c0>"
            ]
          },
          "metadata": {
            "tags": []
          },
          "execution_count": 31
        }
      ]
    },
    {
      "cell_type": "markdown",
      "metadata": {
        "id": "J_glH9nx6sl4"
      },
      "source": [
        "save_freq=50000 => 50000번째 data 마다 저장"
      ]
    },
    {
      "cell_type": "code",
      "metadata": {
        "id": "6yTBgW_16sl4"
      },
      "source": [
        "checkpoint_path = \"training_3/cp-{epoch:04d}.ckpt\"\n",
        "checkpoint_dir = os.path.dirname(checkpoint_path)\n",
        "\n",
        "cp_callback = ModelCheckpoint(checkpoint_path, verbose=1, \n",
        "                              save_weights_only=True, save_freq=1563) \n",
        "# 1563번째 mini-batch마다 모델을 저장"
      ],
      "execution_count": null,
      "outputs": []
    },
    {
      "cell_type": "code",
      "metadata": {
        "id": "oIRf8HL66sl4",
        "outputId": "eb9bd9c6-6be2-4926-aaf8-39804f542da6"
      },
      "source": [
        "model = create_model()\n",
        "\n",
        "model.fit(x, y,  epochs = 6, validation_split = 1/6,callbacks = [cp_callback])"
      ],
      "execution_count": null,
      "outputs": [
        {
          "output_type": "stream",
          "text": [
            "Epoch 1/6\n",
            "1530/1563 [============================>.] - ETA: 0s - loss: 0.5663 - accuracy: 0.8244\n",
            "Epoch 00001: saving model to training_3\\cp-0001.ckpt\n",
            "1563/1563 [==============================] - 4s 2ms/step - loss: 0.5610 - accuracy: 0.8262 - val_loss: 0.1651 - val_accuracy: 0.9502\n",
            "Epoch 2/6\n",
            "1562/1563 [============================>.] - ETA: 0s - loss: 0.1524 - accuracy: 0.9539\n",
            "Epoch 00002: saving model to training_3\\cp-0002.ckpt\n",
            "1563/1563 [==============================] - 3s 2ms/step - loss: 0.1524 - accuracy: 0.9539 - val_loss: 0.1402 - val_accuracy: 0.9602\n",
            "Epoch 3/6\n",
            "1551/1563 [============================>.] - ETA: 0s - loss: 0.1142 - accuracy: 0.9656\n",
            "Epoch 00003: saving model to training_3\\cp-0003.ckpt\n",
            "1563/1563 [==============================] - 3s 2ms/step - loss: 0.1142 - accuracy: 0.9656 - val_loss: 0.1240 - val_accuracy: 0.9649\n",
            "Epoch 4/6\n",
            "1557/1563 [============================>.] - ETA: 0s - loss: 0.0908 - accuracy: 0.9714\n",
            "Epoch 00004: saving model to training_3\\cp-0004.ckpt\n",
            "1563/1563 [==============================] - 4s 2ms/step - loss: 0.0908 - accuracy: 0.9714 - val_loss: 0.1066 - val_accuracy: 0.9701\n",
            "Epoch 5/6\n",
            "1540/1563 [============================>.] - ETA: 0s - loss: 0.0755 - accuracy: 0.9768\n",
            "Epoch 00005: saving model to training_3\\cp-0005.ckpt\n",
            "1563/1563 [==============================] - 4s 2ms/step - loss: 0.0755 - accuracy: 0.9768 - val_loss: 0.1134 - val_accuracy: 0.9675\n",
            "Epoch 6/6\n",
            "1538/1563 [============================>.] - ETA: 0s - loss: 0.0685 - accuracy: 0.9788\n",
            "Epoch 00006: saving model to training_3\\cp-0006.ckpt\n",
            "1563/1563 [==============================] - 3s 2ms/step - loss: 0.0685 - accuracy: 0.9788 - val_loss: 0.1145 - val_accuracy: 0.9692\n"
          ],
          "name": "stdout"
        },
        {
          "output_type": "execute_result",
          "data": {
            "text/plain": [
              "<tensorflow.python.keras.callbacks.History at 0x1c83a9e87f0>"
            ]
          },
          "metadata": {
            "tags": []
          },
          "execution_count": 33
        }
      ]
    },
    {
      "cell_type": "markdown",
      "metadata": {
        "id": "6aTGMhwJ6sl4"
      },
      "source": [
        "### 3) checkpoint의 weight 불러오기"
      ]
    },
    {
      "cell_type": "code",
      "metadata": {
        "id": "WnQptFaK6sl4",
        "outputId": "9d81b147-9b6d-4b79-e06b-528edf7e5527"
      },
      "source": [
        "model = create_model() # 구조, weight random\n",
        "model.load_weights('./training_3/cp-0004.ckpt')\n",
        "loss, acc = model.evaluate(x_test,  y_test, verbose=2)"
      ],
      "execution_count": null,
      "outputs": [
        {
          "output_type": "stream",
          "text": [
            "313/313 - 1s - loss: 0.1086 - accuracy: 0.9681\n"
          ],
          "name": "stdout"
        }
      ]
    },
    {
      "cell_type": "code",
      "metadata": {
        "id": "ckkRbat66sl4",
        "outputId": "90ff59ca-0c9c-45e9-8895-d12e123681dc"
      },
      "source": [
        "model = create_model()\n",
        "model.load_weights('./training_3/cp-0002.ckpt')\n",
        "loss, acc = model.evaluate(x_test,  y_test, verbose=2)"
      ],
      "execution_count": null,
      "outputs": [
        {
          "output_type": "stream",
          "text": [
            "313/313 - 0s - loss: 0.1487 - accuracy: 0.9539\n"
          ],
          "name": "stdout"
        }
      ]
    },
    {
      "cell_type": "code",
      "metadata": {
        "id": "L87vaEkx6sl4",
        "outputId": "9584e0bd-ae16-4bd2-b3b8-a4566a6108e0"
      },
      "source": [
        "model = create_model()\n",
        "model.load_weights('./training_3/cp-0003.ckpt')\n",
        "loss, acc = model.evaluate(x_test,  y_test, verbose=2)"
      ],
      "execution_count": null,
      "outputs": [
        {
          "output_type": "stream",
          "text": [
            "313/313 - 1s - loss: 0.1293 - accuracy: 0.9602\n"
          ],
          "name": "stdout"
        }
      ]
    },
    {
      "cell_type": "code",
      "metadata": {
        "id": "QVUAfozZ6sl5",
        "outputId": "97abb15b-c537-47ab-edcf-b234f743f2e6"
      },
      "source": [
        "model = create_model()\n",
        "model.load_weights('./training_3/cp-0006.ckpt')\n",
        "loss, acc = model.evaluate(x_test,  y_test, verbose=2)"
      ],
      "execution_count": null,
      "outputs": [
        {
          "output_type": "stream",
          "text": [
            "313/313 - 1s - loss: 0.1139 - accuracy: 0.9681\n"
          ],
          "name": "stdout"
        }
      ]
    }
  ]
}