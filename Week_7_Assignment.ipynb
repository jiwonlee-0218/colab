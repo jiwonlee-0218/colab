{
  "nbformat": 4,
  "nbformat_minor": 0,
  "metadata": {
    "kernelspec": {
      "display_name": "Python 3",
      "language": "python",
      "name": "python3"
    },
    "language_info": {
      "codemirror_mode": {
        "name": "ipython",
        "version": 3
      },
      "file_extension": ".py",
      "mimetype": "text/x-python",
      "name": "python",
      "nbconvert_exporter": "python",
      "pygments_lexer": "ipython3",
      "version": "3.8.5"
    },
    "colab": {
      "name": "Week_7_Assignment.ipynb",
      "provenance": [],
      "collapsed_sections": [],
      "include_colab_link": true
    }
  },
  "cells": [
    {
      "cell_type": "markdown",
      "metadata": {
        "id": "view-in-github",
        "colab_type": "text"
      },
      "source": [
        "<a href=\"https://colab.research.google.com/github/jiwonlee-0218/colab/blob/main/Week_7_Assignment.ipynb\" target=\"_parent\"><img src=\"https://colab.research.google.com/assets/colab-badge.svg\" alt=\"Open In Colab\"/></a>"
      ]
    },
    {
      "cell_type": "markdown",
      "metadata": {
        "id": "FqQJM3B6YcBE"
      },
      "source": [
        "# Week 7 Assignment: Normalization, Standardization, Initialization, optimization"
      ]
    },
    {
      "cell_type": "markdown",
      "metadata": {
        "id": "YmT5sXgmYcBH"
      },
      "source": [
        "-------"
      ]
    },
    {
      "cell_type": "code",
      "metadata": {
        "id": "FssSnXhLYcBI"
      },
      "source": [
        "import numpy as np\n",
        "import pandas as pd\n",
        "\n",
        "%matplotlib inline"
      ],
      "execution_count": null,
      "outputs": []
    },
    {
      "cell_type": "code",
      "metadata": {
        "id": "IedKxkWYN4Vk"
      },
      "source": [
        "from google.colab import drive"
      ],
      "execution_count": null,
      "outputs": []
    },
    {
      "cell_type": "code",
      "metadata": {
        "colab": {
          "base_uri": "https://localhost:8080/"
        },
        "id": "u3Efcx6JODqh",
        "outputId": "bdbabd96-7abf-48ac-806a-b325467a2e29"
      },
      "source": [
        "drive.mount('/content/drive')"
      ],
      "execution_count": null,
      "outputs": [
        {
          "output_type": "stream",
          "text": [
            "Drive already mounted at /content/drive; to attempt to forcibly remount, call drive.mount(\"/content/drive\", force_remount=True).\n"
          ],
          "name": "stdout"
        }
      ]
    },
    {
      "cell_type": "code",
      "metadata": {
        "id": "rtLTjjatYcBJ",
        "colab": {
          "base_uri": "https://localhost:8080/",
          "height": 402
        },
        "outputId": "3b4759f5-39f0-46bc-e7fa-5b0dccd64f75"
      },
      "source": [
        "URL = '/content/drive/MyDrive/미래연구소/7주차/heart.csv'\n",
        "raw_df = pd.read_csv(URL)            # 심장병 질환 데이터 -> regression (이미지가 아닌 정형데이터)\n",
        "raw_df"
      ],
      "execution_count": null,
      "outputs": [
        {
          "output_type": "execute_result",
          "data": {
            "text/html": [
              "<div>\n",
              "<style scoped>\n",
              "    .dataframe tbody tr th:only-of-type {\n",
              "        vertical-align: middle;\n",
              "    }\n",
              "\n",
              "    .dataframe tbody tr th {\n",
              "        vertical-align: top;\n",
              "    }\n",
              "\n",
              "    .dataframe thead th {\n",
              "        text-align: right;\n",
              "    }\n",
              "</style>\n",
              "<table border=\"1\" class=\"dataframe\">\n",
              "  <thead>\n",
              "    <tr style=\"text-align: right;\">\n",
              "      <th></th>\n",
              "      <th>age</th>\n",
              "      <th>sex</th>\n",
              "      <th>cp</th>\n",
              "      <th>trestbps</th>\n",
              "      <th>chol</th>\n",
              "      <th>fbs</th>\n",
              "      <th>restecg</th>\n",
              "      <th>thalach</th>\n",
              "      <th>exang</th>\n",
              "      <th>oldpeak</th>\n",
              "      <th>slope</th>\n",
              "      <th>ca</th>\n",
              "      <th>thal</th>\n",
              "      <th>target</th>\n",
              "    </tr>\n",
              "  </thead>\n",
              "  <tbody>\n",
              "    <tr>\n",
              "      <th>0</th>\n",
              "      <td>63</td>\n",
              "      <td>1</td>\n",
              "      <td>3</td>\n",
              "      <td>145</td>\n",
              "      <td>233</td>\n",
              "      <td>1</td>\n",
              "      <td>0</td>\n",
              "      <td>150</td>\n",
              "      <td>0</td>\n",
              "      <td>2.3</td>\n",
              "      <td>0</td>\n",
              "      <td>0</td>\n",
              "      <td>1</td>\n",
              "      <td>1</td>\n",
              "    </tr>\n",
              "    <tr>\n",
              "      <th>1</th>\n",
              "      <td>37</td>\n",
              "      <td>1</td>\n",
              "      <td>2</td>\n",
              "      <td>130</td>\n",
              "      <td>250</td>\n",
              "      <td>0</td>\n",
              "      <td>1</td>\n",
              "      <td>187</td>\n",
              "      <td>0</td>\n",
              "      <td>3.5</td>\n",
              "      <td>0</td>\n",
              "      <td>0</td>\n",
              "      <td>2</td>\n",
              "      <td>1</td>\n",
              "    </tr>\n",
              "    <tr>\n",
              "      <th>2</th>\n",
              "      <td>41</td>\n",
              "      <td>0</td>\n",
              "      <td>1</td>\n",
              "      <td>130</td>\n",
              "      <td>204</td>\n",
              "      <td>0</td>\n",
              "      <td>0</td>\n",
              "      <td>172</td>\n",
              "      <td>0</td>\n",
              "      <td>1.4</td>\n",
              "      <td>2</td>\n",
              "      <td>0</td>\n",
              "      <td>2</td>\n",
              "      <td>1</td>\n",
              "    </tr>\n",
              "    <tr>\n",
              "      <th>3</th>\n",
              "      <td>56</td>\n",
              "      <td>1</td>\n",
              "      <td>1</td>\n",
              "      <td>120</td>\n",
              "      <td>236</td>\n",
              "      <td>0</td>\n",
              "      <td>1</td>\n",
              "      <td>178</td>\n",
              "      <td>0</td>\n",
              "      <td>0.8</td>\n",
              "      <td>2</td>\n",
              "      <td>0</td>\n",
              "      <td>2</td>\n",
              "      <td>1</td>\n",
              "    </tr>\n",
              "    <tr>\n",
              "      <th>4</th>\n",
              "      <td>57</td>\n",
              "      <td>0</td>\n",
              "      <td>0</td>\n",
              "      <td>120</td>\n",
              "      <td>354</td>\n",
              "      <td>0</td>\n",
              "      <td>1</td>\n",
              "      <td>163</td>\n",
              "      <td>1</td>\n",
              "      <td>0.6</td>\n",
              "      <td>2</td>\n",
              "      <td>0</td>\n",
              "      <td>2</td>\n",
              "      <td>1</td>\n",
              "    </tr>\n",
              "    <tr>\n",
              "      <th>...</th>\n",
              "      <td>...</td>\n",
              "      <td>...</td>\n",
              "      <td>...</td>\n",
              "      <td>...</td>\n",
              "      <td>...</td>\n",
              "      <td>...</td>\n",
              "      <td>...</td>\n",
              "      <td>...</td>\n",
              "      <td>...</td>\n",
              "      <td>...</td>\n",
              "      <td>...</td>\n",
              "      <td>...</td>\n",
              "      <td>...</td>\n",
              "      <td>...</td>\n",
              "    </tr>\n",
              "    <tr>\n",
              "      <th>298</th>\n",
              "      <td>57</td>\n",
              "      <td>0</td>\n",
              "      <td>0</td>\n",
              "      <td>140</td>\n",
              "      <td>241</td>\n",
              "      <td>0</td>\n",
              "      <td>1</td>\n",
              "      <td>123</td>\n",
              "      <td>1</td>\n",
              "      <td>0.2</td>\n",
              "      <td>1</td>\n",
              "      <td>0</td>\n",
              "      <td>3</td>\n",
              "      <td>0</td>\n",
              "    </tr>\n",
              "    <tr>\n",
              "      <th>299</th>\n",
              "      <td>45</td>\n",
              "      <td>1</td>\n",
              "      <td>3</td>\n",
              "      <td>110</td>\n",
              "      <td>264</td>\n",
              "      <td>0</td>\n",
              "      <td>1</td>\n",
              "      <td>132</td>\n",
              "      <td>0</td>\n",
              "      <td>1.2</td>\n",
              "      <td>1</td>\n",
              "      <td>0</td>\n",
              "      <td>3</td>\n",
              "      <td>0</td>\n",
              "    </tr>\n",
              "    <tr>\n",
              "      <th>300</th>\n",
              "      <td>68</td>\n",
              "      <td>1</td>\n",
              "      <td>0</td>\n",
              "      <td>144</td>\n",
              "      <td>193</td>\n",
              "      <td>1</td>\n",
              "      <td>1</td>\n",
              "      <td>141</td>\n",
              "      <td>0</td>\n",
              "      <td>3.4</td>\n",
              "      <td>1</td>\n",
              "      <td>2</td>\n",
              "      <td>3</td>\n",
              "      <td>0</td>\n",
              "    </tr>\n",
              "    <tr>\n",
              "      <th>301</th>\n",
              "      <td>57</td>\n",
              "      <td>1</td>\n",
              "      <td>0</td>\n",
              "      <td>130</td>\n",
              "      <td>131</td>\n",
              "      <td>0</td>\n",
              "      <td>1</td>\n",
              "      <td>115</td>\n",
              "      <td>1</td>\n",
              "      <td>1.2</td>\n",
              "      <td>1</td>\n",
              "      <td>1</td>\n",
              "      <td>3</td>\n",
              "      <td>0</td>\n",
              "    </tr>\n",
              "    <tr>\n",
              "      <th>302</th>\n",
              "      <td>57</td>\n",
              "      <td>0</td>\n",
              "      <td>1</td>\n",
              "      <td>130</td>\n",
              "      <td>236</td>\n",
              "      <td>0</td>\n",
              "      <td>0</td>\n",
              "      <td>174</td>\n",
              "      <td>0</td>\n",
              "      <td>0.0</td>\n",
              "      <td>1</td>\n",
              "      <td>1</td>\n",
              "      <td>2</td>\n",
              "      <td>0</td>\n",
              "    </tr>\n",
              "  </tbody>\n",
              "</table>\n",
              "<p>303 rows × 14 columns</p>\n",
              "</div>"
            ],
            "text/plain": [
              "     age  sex  cp  trestbps  chol  fbs  ...  exang  oldpeak  slope  ca  thal  target\n",
              "0     63    1   3       145   233    1  ...      0      2.3      0   0     1       1\n",
              "1     37    1   2       130   250    0  ...      0      3.5      0   0     2       1\n",
              "2     41    0   1       130   204    0  ...      0      1.4      2   0     2       1\n",
              "3     56    1   1       120   236    0  ...      0      0.8      2   0     2       1\n",
              "4     57    0   0       120   354    0  ...      1      0.6      2   0     2       1\n",
              "..   ...  ...  ..       ...   ...  ...  ...    ...      ...    ...  ..   ...     ...\n",
              "298   57    0   0       140   241    0  ...      1      0.2      1   0     3       0\n",
              "299   45    1   3       110   264    0  ...      0      1.2      1   0     3       0\n",
              "300   68    1   0       144   193    1  ...      0      3.4      1   2     3       0\n",
              "301   57    1   0       130   131    0  ...      1      1.2      1   1     3       0\n",
              "302   57    0   1       130   236    0  ...      0      0.0      1   1     2       0\n",
              "\n",
              "[303 rows x 14 columns]"
            ]
          },
          "metadata": {
            "tags": []
          },
          "execution_count": 6
        }
      ]
    },
    {
      "cell_type": "markdown",
      "metadata": {
        "id": "_ofpN7b7YcBK"
      },
      "source": [
        "## Dataset\n",
        "\n",
        "클리블랜드(Cleveland) 심장병 재단에서 제공한 작은 [데이터셋](https://archive.ics.uci.edu/ml/datasets/heart+Disease)을 사용하겠습니다. 이 CSV 파일은 수백 개의 행으로 이루어져 있습니다. 각 행은 환자 한 명을 나타내고 각 열은 환자에 대한 속성 값입니다. 이 정보를 사용해 환자의 심장병 발병 여부를 예측해 보겠습니다. 즉 이 데이터셋은 이진 분류 문제입니다.\n",
        "\n",
        "다음은 이 데이터셋에 대한 [설명](https://archive.ics.uci.edu/ml/machine-learning-databases/heart-disease/heart-disease.names)입니다. 수치형과 범주형 열이 모두 있다는 점을 주목하세요.\n",
        "\n",
        ">열| 설명| 특성 타입 | 데이터 타입\n",
        ">------------|--------------------|----------------------|-----------------\n",
        ">Age | 나이 | 수치형 | 정수\n",
        ">Sex | (1 = 남성; 0 = 여성) | 범주형 | 정수\n",
        ">CP | 가슴 통증 유형 (0, 1, 2, 3, 4) | 범주형 | 정수\n",
        ">Trestbpd | 안정 혈압 (병원 입원시 mm Hg) | 수치형 | 정수\n",
        ">Chol | 혈청 콜레스테롤 (mg/dl) | 수치형 | 정수\n",
        ">FBS | (공복 혈당 > 120 mg/dl) (1 = true; 0 = false) | 범주형 | 정수\n",
        ">RestECG | 안정 심전도 결과 (0, 1, 2) | 범주형 | 정수\n",
        ">Thalach | 최대 심박동수 | 수치형 | 정수\n",
        ">Exang | 협심증 유발 운동 (1 = yes; 0 = no) | 범주형 | 정수\n",
        ">Oldpeak | 비교적 안정되기까지 운동으로 유발되는 ST depression | 수치형 | 정수\n",
        ">Slope | 최대 운동 ST segment의 기울기 | 수치형 | 실수\n",
        ">CA | 형광 투시된 주요 혈관의 수 (0-3) | 수치형 | 정수\n",
        ">Thal | 3 = 보통; 6 = 해결된 결함; 7 = 해결가능한 결함 | 범주형 | 문자열\n",
        ">Target | 심장병 진단 (1 = true; 0 = false) | 분류 | 정수"
      ]
    },
    {
      "cell_type": "markdown",
      "metadata": {
        "id": "0e0GUpkLYcBL"
      },
      "source": [
        "Thal은 제외하고 진행합니다."
      ]
    },
    {
      "cell_type": "code",
      "metadata": {
        "id": "Q7R6KInVYcBM",
        "colab": {
          "base_uri": "https://localhost:8080/",
          "height": 402
        },
        "outputId": "2b962002-a0b2-4ae7-acb0-b576a4c5806e"
      },
      "source": [
        "raw_df.drop(columns='thal')"
      ],
      "execution_count": null,
      "outputs": [
        {
          "output_type": "execute_result",
          "data": {
            "text/html": [
              "<div>\n",
              "<style scoped>\n",
              "    .dataframe tbody tr th:only-of-type {\n",
              "        vertical-align: middle;\n",
              "    }\n",
              "\n",
              "    .dataframe tbody tr th {\n",
              "        vertical-align: top;\n",
              "    }\n",
              "\n",
              "    .dataframe thead th {\n",
              "        text-align: right;\n",
              "    }\n",
              "</style>\n",
              "<table border=\"1\" class=\"dataframe\">\n",
              "  <thead>\n",
              "    <tr style=\"text-align: right;\">\n",
              "      <th></th>\n",
              "      <th>age</th>\n",
              "      <th>sex</th>\n",
              "      <th>cp</th>\n",
              "      <th>trestbps</th>\n",
              "      <th>chol</th>\n",
              "      <th>fbs</th>\n",
              "      <th>restecg</th>\n",
              "      <th>thalach</th>\n",
              "      <th>exang</th>\n",
              "      <th>oldpeak</th>\n",
              "      <th>slope</th>\n",
              "      <th>ca</th>\n",
              "      <th>target</th>\n",
              "    </tr>\n",
              "  </thead>\n",
              "  <tbody>\n",
              "    <tr>\n",
              "      <th>0</th>\n",
              "      <td>63</td>\n",
              "      <td>1</td>\n",
              "      <td>3</td>\n",
              "      <td>145</td>\n",
              "      <td>233</td>\n",
              "      <td>1</td>\n",
              "      <td>0</td>\n",
              "      <td>150</td>\n",
              "      <td>0</td>\n",
              "      <td>2.3</td>\n",
              "      <td>0</td>\n",
              "      <td>0</td>\n",
              "      <td>1</td>\n",
              "    </tr>\n",
              "    <tr>\n",
              "      <th>1</th>\n",
              "      <td>37</td>\n",
              "      <td>1</td>\n",
              "      <td>2</td>\n",
              "      <td>130</td>\n",
              "      <td>250</td>\n",
              "      <td>0</td>\n",
              "      <td>1</td>\n",
              "      <td>187</td>\n",
              "      <td>0</td>\n",
              "      <td>3.5</td>\n",
              "      <td>0</td>\n",
              "      <td>0</td>\n",
              "      <td>1</td>\n",
              "    </tr>\n",
              "    <tr>\n",
              "      <th>2</th>\n",
              "      <td>41</td>\n",
              "      <td>0</td>\n",
              "      <td>1</td>\n",
              "      <td>130</td>\n",
              "      <td>204</td>\n",
              "      <td>0</td>\n",
              "      <td>0</td>\n",
              "      <td>172</td>\n",
              "      <td>0</td>\n",
              "      <td>1.4</td>\n",
              "      <td>2</td>\n",
              "      <td>0</td>\n",
              "      <td>1</td>\n",
              "    </tr>\n",
              "    <tr>\n",
              "      <th>3</th>\n",
              "      <td>56</td>\n",
              "      <td>1</td>\n",
              "      <td>1</td>\n",
              "      <td>120</td>\n",
              "      <td>236</td>\n",
              "      <td>0</td>\n",
              "      <td>1</td>\n",
              "      <td>178</td>\n",
              "      <td>0</td>\n",
              "      <td>0.8</td>\n",
              "      <td>2</td>\n",
              "      <td>0</td>\n",
              "      <td>1</td>\n",
              "    </tr>\n",
              "    <tr>\n",
              "      <th>4</th>\n",
              "      <td>57</td>\n",
              "      <td>0</td>\n",
              "      <td>0</td>\n",
              "      <td>120</td>\n",
              "      <td>354</td>\n",
              "      <td>0</td>\n",
              "      <td>1</td>\n",
              "      <td>163</td>\n",
              "      <td>1</td>\n",
              "      <td>0.6</td>\n",
              "      <td>2</td>\n",
              "      <td>0</td>\n",
              "      <td>1</td>\n",
              "    </tr>\n",
              "    <tr>\n",
              "      <th>...</th>\n",
              "      <td>...</td>\n",
              "      <td>...</td>\n",
              "      <td>...</td>\n",
              "      <td>...</td>\n",
              "      <td>...</td>\n",
              "      <td>...</td>\n",
              "      <td>...</td>\n",
              "      <td>...</td>\n",
              "      <td>...</td>\n",
              "      <td>...</td>\n",
              "      <td>...</td>\n",
              "      <td>...</td>\n",
              "      <td>...</td>\n",
              "    </tr>\n",
              "    <tr>\n",
              "      <th>298</th>\n",
              "      <td>57</td>\n",
              "      <td>0</td>\n",
              "      <td>0</td>\n",
              "      <td>140</td>\n",
              "      <td>241</td>\n",
              "      <td>0</td>\n",
              "      <td>1</td>\n",
              "      <td>123</td>\n",
              "      <td>1</td>\n",
              "      <td>0.2</td>\n",
              "      <td>1</td>\n",
              "      <td>0</td>\n",
              "      <td>0</td>\n",
              "    </tr>\n",
              "    <tr>\n",
              "      <th>299</th>\n",
              "      <td>45</td>\n",
              "      <td>1</td>\n",
              "      <td>3</td>\n",
              "      <td>110</td>\n",
              "      <td>264</td>\n",
              "      <td>0</td>\n",
              "      <td>1</td>\n",
              "      <td>132</td>\n",
              "      <td>0</td>\n",
              "      <td>1.2</td>\n",
              "      <td>1</td>\n",
              "      <td>0</td>\n",
              "      <td>0</td>\n",
              "    </tr>\n",
              "    <tr>\n",
              "      <th>300</th>\n",
              "      <td>68</td>\n",
              "      <td>1</td>\n",
              "      <td>0</td>\n",
              "      <td>144</td>\n",
              "      <td>193</td>\n",
              "      <td>1</td>\n",
              "      <td>1</td>\n",
              "      <td>141</td>\n",
              "      <td>0</td>\n",
              "      <td>3.4</td>\n",
              "      <td>1</td>\n",
              "      <td>2</td>\n",
              "      <td>0</td>\n",
              "    </tr>\n",
              "    <tr>\n",
              "      <th>301</th>\n",
              "      <td>57</td>\n",
              "      <td>1</td>\n",
              "      <td>0</td>\n",
              "      <td>130</td>\n",
              "      <td>131</td>\n",
              "      <td>0</td>\n",
              "      <td>1</td>\n",
              "      <td>115</td>\n",
              "      <td>1</td>\n",
              "      <td>1.2</td>\n",
              "      <td>1</td>\n",
              "      <td>1</td>\n",
              "      <td>0</td>\n",
              "    </tr>\n",
              "    <tr>\n",
              "      <th>302</th>\n",
              "      <td>57</td>\n",
              "      <td>0</td>\n",
              "      <td>1</td>\n",
              "      <td>130</td>\n",
              "      <td>236</td>\n",
              "      <td>0</td>\n",
              "      <td>0</td>\n",
              "      <td>174</td>\n",
              "      <td>0</td>\n",
              "      <td>0.0</td>\n",
              "      <td>1</td>\n",
              "      <td>1</td>\n",
              "      <td>0</td>\n",
              "    </tr>\n",
              "  </tbody>\n",
              "</table>\n",
              "<p>303 rows × 13 columns</p>\n",
              "</div>"
            ],
            "text/plain": [
              "     age  sex  cp  trestbps  chol  ...  exang  oldpeak  slope  ca  target\n",
              "0     63    1   3       145   233  ...      0      2.3      0   0       1\n",
              "1     37    1   2       130   250  ...      0      3.5      0   0       1\n",
              "2     41    0   1       130   204  ...      0      1.4      2   0       1\n",
              "3     56    1   1       120   236  ...      0      0.8      2   0       1\n",
              "4     57    0   0       120   354  ...      1      0.6      2   0       1\n",
              "..   ...  ...  ..       ...   ...  ...    ...      ...    ...  ..     ...\n",
              "298   57    0   0       140   241  ...      1      0.2      1   0       0\n",
              "299   45    1   3       110   264  ...      0      1.2      1   0       0\n",
              "300   68    1   0       144   193  ...      0      3.4      1   2       0\n",
              "301   57    1   0       130   131  ...      1      1.2      1   1       0\n",
              "302   57    0   1       130   236  ...      0      0.0      1   1       0\n",
              "\n",
              "[303 rows x 13 columns]"
            ]
          },
          "metadata": {
            "tags": []
          },
          "execution_count": 7
        }
      ]
    },
    {
      "cell_type": "markdown",
      "metadata": {
        "id": "rncRH7RUYcBN"
      },
      "source": [
        "-------"
      ]
    },
    {
      "cell_type": "markdown",
      "metadata": {
        "id": "85unknjAYcBN"
      },
      "source": [
        "## <font color=\"blue\"> Question 1\n",
        "    \n",
        "**문제:** 해당 data의 feature 중 'age','trestbps','chol','thalach','oldpeak'를 StandardScaler로 standardization 하시오.\n",
        "    \n",
        "**소문제 1:** StandardScaler를 import하기\n",
        "    \n",
        "**소문제 2:** StandardScaler를 인스턴스하기\n",
        "    \n",
        "**소문제 3:** StandardScaler를 standardization하고 저장하기 (StandardScaler의 어떤 메서드를 사용해야 한다.)"
      ]
    },
    {
      "cell_type": "code",
      "metadata": {
        "id": "crotO1YCYcBP",
        "colab": {
          "base_uri": "https://localhost:8080/",
          "height": 402
        },
        "outputId": "603841b5-c51e-4a99-84a6-68ae46bec8b4"
      },
      "source": [
        "x_raw1 = raw_df.loc[:,['age','trestbps','chol','thalach','oldpeak']]\n",
        "x_raw1    # numpy.ndarray형태로 나오게된다"
      ],
      "execution_count": null,
      "outputs": [
        {
          "output_type": "execute_result",
          "data": {
            "text/html": [
              "<div>\n",
              "<style scoped>\n",
              "    .dataframe tbody tr th:only-of-type {\n",
              "        vertical-align: middle;\n",
              "    }\n",
              "\n",
              "    .dataframe tbody tr th {\n",
              "        vertical-align: top;\n",
              "    }\n",
              "\n",
              "    .dataframe thead th {\n",
              "        text-align: right;\n",
              "    }\n",
              "</style>\n",
              "<table border=\"1\" class=\"dataframe\">\n",
              "  <thead>\n",
              "    <tr style=\"text-align: right;\">\n",
              "      <th></th>\n",
              "      <th>age</th>\n",
              "      <th>trestbps</th>\n",
              "      <th>chol</th>\n",
              "      <th>thalach</th>\n",
              "      <th>oldpeak</th>\n",
              "    </tr>\n",
              "  </thead>\n",
              "  <tbody>\n",
              "    <tr>\n",
              "      <th>0</th>\n",
              "      <td>63</td>\n",
              "      <td>145</td>\n",
              "      <td>233</td>\n",
              "      <td>150</td>\n",
              "      <td>2.3</td>\n",
              "    </tr>\n",
              "    <tr>\n",
              "      <th>1</th>\n",
              "      <td>37</td>\n",
              "      <td>130</td>\n",
              "      <td>250</td>\n",
              "      <td>187</td>\n",
              "      <td>3.5</td>\n",
              "    </tr>\n",
              "    <tr>\n",
              "      <th>2</th>\n",
              "      <td>41</td>\n",
              "      <td>130</td>\n",
              "      <td>204</td>\n",
              "      <td>172</td>\n",
              "      <td>1.4</td>\n",
              "    </tr>\n",
              "    <tr>\n",
              "      <th>3</th>\n",
              "      <td>56</td>\n",
              "      <td>120</td>\n",
              "      <td>236</td>\n",
              "      <td>178</td>\n",
              "      <td>0.8</td>\n",
              "    </tr>\n",
              "    <tr>\n",
              "      <th>4</th>\n",
              "      <td>57</td>\n",
              "      <td>120</td>\n",
              "      <td>354</td>\n",
              "      <td>163</td>\n",
              "      <td>0.6</td>\n",
              "    </tr>\n",
              "    <tr>\n",
              "      <th>...</th>\n",
              "      <td>...</td>\n",
              "      <td>...</td>\n",
              "      <td>...</td>\n",
              "      <td>...</td>\n",
              "      <td>...</td>\n",
              "    </tr>\n",
              "    <tr>\n",
              "      <th>298</th>\n",
              "      <td>57</td>\n",
              "      <td>140</td>\n",
              "      <td>241</td>\n",
              "      <td>123</td>\n",
              "      <td>0.2</td>\n",
              "    </tr>\n",
              "    <tr>\n",
              "      <th>299</th>\n",
              "      <td>45</td>\n",
              "      <td>110</td>\n",
              "      <td>264</td>\n",
              "      <td>132</td>\n",
              "      <td>1.2</td>\n",
              "    </tr>\n",
              "    <tr>\n",
              "      <th>300</th>\n",
              "      <td>68</td>\n",
              "      <td>144</td>\n",
              "      <td>193</td>\n",
              "      <td>141</td>\n",
              "      <td>3.4</td>\n",
              "    </tr>\n",
              "    <tr>\n",
              "      <th>301</th>\n",
              "      <td>57</td>\n",
              "      <td>130</td>\n",
              "      <td>131</td>\n",
              "      <td>115</td>\n",
              "      <td>1.2</td>\n",
              "    </tr>\n",
              "    <tr>\n",
              "      <th>302</th>\n",
              "      <td>57</td>\n",
              "      <td>130</td>\n",
              "      <td>236</td>\n",
              "      <td>174</td>\n",
              "      <td>0.0</td>\n",
              "    </tr>\n",
              "  </tbody>\n",
              "</table>\n",
              "<p>303 rows × 5 columns</p>\n",
              "</div>"
            ],
            "text/plain": [
              "     age  trestbps  chol  thalach  oldpeak\n",
              "0     63       145   233      150      2.3\n",
              "1     37       130   250      187      3.5\n",
              "2     41       130   204      172      1.4\n",
              "3     56       120   236      178      0.8\n",
              "4     57       120   354      163      0.6\n",
              "..   ...       ...   ...      ...      ...\n",
              "298   57       140   241      123      0.2\n",
              "299   45       110   264      132      1.2\n",
              "300   68       144   193      141      3.4\n",
              "301   57       130   131      115      1.2\n",
              "302   57       130   236      174      0.0\n",
              "\n",
              "[303 rows x 5 columns]"
            ]
          },
          "metadata": {
            "tags": []
          },
          "execution_count": 8
        }
      ]
    },
    {
      "cell_type": "markdown",
      "metadata": {
        "id": "xL3RPOlBYcBP"
      },
      "source": [
        "**소문제 1:** StandardScaler를 import하기"
      ]
    },
    {
      "cell_type": "code",
      "metadata": {
        "id": "Xpk66hKtYcBQ"
      },
      "source": [
        "### START CODE HERE ### (≈ 1 line of code)\n",
        "from sklearn.preprocessing import StandardScaler     \n",
        "### END CODE HERE ###"
      ],
      "execution_count": null,
      "outputs": []
    },
    {
      "cell_type": "markdown",
      "metadata": {
        "id": "M5WWI8DsYcBR"
      },
      "source": [
        "**소문제 2:** StandardScaler를 인스턴스하기"
      ]
    },
    {
      "cell_type": "code",
      "metadata": {
        "id": "-ZT0GSBcYcBR"
      },
      "source": [
        "### START CODE HERE ### (≈ 1 line of code)\n",
        "sds = StandardScaler()   # 클래스이므로 객체로 만들어서 사용한다 \n",
        "### END CODE HERE ###"
      ],
      "execution_count": null,
      "outputs": []
    },
    {
      "cell_type": "markdown",
      "metadata": {
        "id": "_xQlbA2dYcBS"
      },
      "source": [
        "**소문제 3:** StandardScaler를 standardization하고 저장하기 (StandardScaler의 어떤 메서드를 사용해야 한다.)"
      ]
    },
    {
      "cell_type": "code",
      "metadata": {
        "id": "5aYIB0WhYcBS"
      },
      "source": [
        "### START CODE HERE ### (≈ 1 line of code) (2줄로 만들어도 괜찮습니다.)\n",
        "x1 = sds.fit_transform(x_raw1)\n",
        "### END CODE HERE ###"
      ],
      "execution_count": null,
      "outputs": []
    },
    {
      "cell_type": "code",
      "metadata": {
        "id": "lOYww22WYcBS"
      },
      "source": [
        "# 해당 셀이 실행되어야 정답\n",
        "\n",
        "assert(x1[0][0] == 0.9521966015692286)\n",
        "assert(x1[3][3] == 1.2398969233511221)"
      ],
      "execution_count": null,
      "outputs": []
    },
    {
      "cell_type": "markdown",
      "metadata": {
        "id": "X6AKJUANYcBT"
      },
      "source": [
        "------"
      ]
    },
    {
      "cell_type": "markdown",
      "metadata": {
        "id": "lNJliIHRYcBT"
      },
      "source": [
        ">열| 설명| 특성 타입 | 데이터 타입\n",
        ">------------|--------------------|----------------------|-----------------\n",
        ">Age | 나이 | 수치형 | 정수\n",
        ">Sex | (1 = 남성; 0 = 여성) | 범주형 | 정수\n",
        ">CP | 가슴 통증 유형 (0, 1, 2, 3, 4) | 범주형 | 정수\n",
        ">Trestbpd | 안정 혈압 (병원 입원시 mm Hg) | 수치형 | 정수\n",
        ">Chol | 혈청 콜레스테롤 (mg/dl) | 수치형 | 정수\n",
        ">FBS | (공복 혈당 > 120 mg/dl) (1 = true; 0 = false) | 범주형 | 정수\n",
        ">RestECG | 안정 심전도 결과 (0, 1, 2) | 범주형 | 정수\n",
        ">Thalach | 최대 심박동수 | 수치형 | 정수\n",
        ">Exang | 협심증 유발 운동 (1 = yes; 0 = no) | 범주형 | 정수\n",
        ">Oldpeak | 비교적 안정되기까지 운동으로 유발되는 ST depression | 수치형 | 정수\n",
        ">Slope | 최대 운동 ST segment의 기울기 | 수치형 | 실수\n",
        ">CA | 형광 투시된 주요 혈관의 수 (0-3) | 수치형 | 정수\n",
        ">Thal | 3 = 보통; 6 = 해결된 결함; 7 = 해결가능한 결함 | 범주형 | 문자열\n",
        ">Target | 심장병 진단 (1 = true; 0 = false) | 분류 | 정수"
      ]
    },
    {
      "cell_type": "markdown",
      "metadata": {
        "id": "UzjdEtkSYcBU"
      },
      "source": [
        "---------"
      ]
    },
    {
      "cell_type": "markdown",
      "metadata": {
        "id": "bWiPKNZGYcBV"
      },
      "source": [
        "## <font color=\"blue\"> Question 2\n",
        "    \n",
        "**문제:** 해당 data의 feature 중 'cp', 'restecg', 'slope', 'ca'를 MinMaxScaler로 normalize (0과 1사이로 minmaxscaling)하시오.\n",
        "    "
      ]
    },
    {
      "cell_type": "code",
      "metadata": {
        "id": "1YcPNM8LYcBV",
        "colab": {
          "base_uri": "https://localhost:8080/",
          "height": 402
        },
        "outputId": "b0ba2569-9059-4d55-ed3a-62a81d9a111a"
      },
      "source": [
        "x_raw2 = raw_df.loc[:,['cp', 'restecg', 'slope', 'ca']]\n",
        "x_raw2"
      ],
      "execution_count": null,
      "outputs": [
        {
          "output_type": "execute_result",
          "data": {
            "text/html": [
              "<div>\n",
              "<style scoped>\n",
              "    .dataframe tbody tr th:only-of-type {\n",
              "        vertical-align: middle;\n",
              "    }\n",
              "\n",
              "    .dataframe tbody tr th {\n",
              "        vertical-align: top;\n",
              "    }\n",
              "\n",
              "    .dataframe thead th {\n",
              "        text-align: right;\n",
              "    }\n",
              "</style>\n",
              "<table border=\"1\" class=\"dataframe\">\n",
              "  <thead>\n",
              "    <tr style=\"text-align: right;\">\n",
              "      <th></th>\n",
              "      <th>cp</th>\n",
              "      <th>restecg</th>\n",
              "      <th>slope</th>\n",
              "      <th>ca</th>\n",
              "    </tr>\n",
              "  </thead>\n",
              "  <tbody>\n",
              "    <tr>\n",
              "      <th>0</th>\n",
              "      <td>3</td>\n",
              "      <td>0</td>\n",
              "      <td>0</td>\n",
              "      <td>0</td>\n",
              "    </tr>\n",
              "    <tr>\n",
              "      <th>1</th>\n",
              "      <td>2</td>\n",
              "      <td>1</td>\n",
              "      <td>0</td>\n",
              "      <td>0</td>\n",
              "    </tr>\n",
              "    <tr>\n",
              "      <th>2</th>\n",
              "      <td>1</td>\n",
              "      <td>0</td>\n",
              "      <td>2</td>\n",
              "      <td>0</td>\n",
              "    </tr>\n",
              "    <tr>\n",
              "      <th>3</th>\n",
              "      <td>1</td>\n",
              "      <td>1</td>\n",
              "      <td>2</td>\n",
              "      <td>0</td>\n",
              "    </tr>\n",
              "    <tr>\n",
              "      <th>4</th>\n",
              "      <td>0</td>\n",
              "      <td>1</td>\n",
              "      <td>2</td>\n",
              "      <td>0</td>\n",
              "    </tr>\n",
              "    <tr>\n",
              "      <th>...</th>\n",
              "      <td>...</td>\n",
              "      <td>...</td>\n",
              "      <td>...</td>\n",
              "      <td>...</td>\n",
              "    </tr>\n",
              "    <tr>\n",
              "      <th>298</th>\n",
              "      <td>0</td>\n",
              "      <td>1</td>\n",
              "      <td>1</td>\n",
              "      <td>0</td>\n",
              "    </tr>\n",
              "    <tr>\n",
              "      <th>299</th>\n",
              "      <td>3</td>\n",
              "      <td>1</td>\n",
              "      <td>1</td>\n",
              "      <td>0</td>\n",
              "    </tr>\n",
              "    <tr>\n",
              "      <th>300</th>\n",
              "      <td>0</td>\n",
              "      <td>1</td>\n",
              "      <td>1</td>\n",
              "      <td>2</td>\n",
              "    </tr>\n",
              "    <tr>\n",
              "      <th>301</th>\n",
              "      <td>0</td>\n",
              "      <td>1</td>\n",
              "      <td>1</td>\n",
              "      <td>1</td>\n",
              "    </tr>\n",
              "    <tr>\n",
              "      <th>302</th>\n",
              "      <td>1</td>\n",
              "      <td>0</td>\n",
              "      <td>1</td>\n",
              "      <td>1</td>\n",
              "    </tr>\n",
              "  </tbody>\n",
              "</table>\n",
              "<p>303 rows × 4 columns</p>\n",
              "</div>"
            ],
            "text/plain": [
              "     cp  restecg  slope  ca\n",
              "0     3        0      0   0\n",
              "1     2        1      0   0\n",
              "2     1        0      2   0\n",
              "3     1        1      2   0\n",
              "4     0        1      2   0\n",
              "..   ..      ...    ...  ..\n",
              "298   0        1      1   0\n",
              "299   3        1      1   0\n",
              "300   0        1      1   2\n",
              "301   0        1      1   1\n",
              "302   1        0      1   1\n",
              "\n",
              "[303 rows x 4 columns]"
            ]
          },
          "metadata": {
            "tags": []
          },
          "execution_count": 14
        }
      ]
    },
    {
      "cell_type": "code",
      "metadata": {
        "colab": {
          "base_uri": "https://localhost:8080/"
        },
        "id": "PhhGsfUt7PfH",
        "outputId": "cf77d954-1a59-4ec6-efa2-cd858fddf9d7"
      },
      "source": [
        "x_raw2.loc[:,'slope'].unique()"
      ],
      "execution_count": null,
      "outputs": [
        {
          "output_type": "execute_result",
          "data": {
            "text/plain": [
              "array([0, 2, 1])"
            ]
          },
          "metadata": {
            "tags": []
          },
          "execution_count": 15
        }
      ]
    },
    {
      "cell_type": "code",
      "metadata": {
        "id": "Lu-bZ9pPYcBW"
      },
      "source": [
        "### START CODE HERE ### (≈ 3 line of code) (4줄로 적어도 됩니다.)\n",
        "from sklearn.preprocessing import MinMaxScaler\n",
        "mm = MinMaxScaler()\n",
        "x2 = mm.fit_transform(x_raw2)\n",
        "### END CODE HERE ###"
      ],
      "execution_count": null,
      "outputs": []
    },
    {
      "cell_type": "code",
      "metadata": {
        "id": "K1WHvSgWYcBW"
      },
      "source": [
        "\n",
        "# 해당 셀이 정상적으로 실행되어야 정답입니다.\n",
        "\n",
        "assert(np.array(x2[10] == [1. , 0. , 0.5, 0. ]).all)\n",
        "assert(np.array(x2[100] == [1. , 1. , 0.5, 0. ]).all)"
      ],
      "execution_count": null,
      "outputs": []
    },
    {
      "cell_type": "markdown",
      "metadata": {
        "id": "HXozQJvNYcBW"
      },
      "source": [
        "--------"
      ]
    },
    {
      "cell_type": "markdown",
      "metadata": {
        "id": "LsH4kI3uYcBX"
      },
      "source": [
        "12개 feature를 이제 하나로 합치고 label(y)도 확보해본다."
      ]
    },
    {
      "cell_type": "code",
      "metadata": {
        "id": "p8zhmNNgYcBX"
      },
      "source": [
        "x1 = pd.DataFrame(x1, columns=['age', 'trestbps','chol', 'thalach', 'oldpeak'])   # standarization\n",
        "x2 = pd.DataFrame(x2, columns=['cp', 'restecg', 'slope','ca'])   # normalization\n",
        "x3 = raw_df.loc[:,['exang', 'sex', 'fbs']]\n",
        "y = raw_df.target   # y값을 따로 분할해서 딥러닝 모델안에 넣어줄것이다"
      ],
      "execution_count": null,
      "outputs": []
    },
    {
      "cell_type": "code",
      "metadata": {
        "id": "YYnKpScNYcBY",
        "colab": {
          "base_uri": "https://localhost:8080/",
          "height": 402
        },
        "outputId": "8adccb91-9554-4f9b-b2cb-4034a30c9ab3"
      },
      "source": [
        "x = x1.join(x2)\n",
        "x"
      ],
      "execution_count": null,
      "outputs": [
        {
          "output_type": "execute_result",
          "data": {
            "text/html": [
              "<div>\n",
              "<style scoped>\n",
              "    .dataframe tbody tr th:only-of-type {\n",
              "        vertical-align: middle;\n",
              "    }\n",
              "\n",
              "    .dataframe tbody tr th {\n",
              "        vertical-align: top;\n",
              "    }\n",
              "\n",
              "    .dataframe thead th {\n",
              "        text-align: right;\n",
              "    }\n",
              "</style>\n",
              "<table border=\"1\" class=\"dataframe\">\n",
              "  <thead>\n",
              "    <tr style=\"text-align: right;\">\n",
              "      <th></th>\n",
              "      <th>age</th>\n",
              "      <th>trestbps</th>\n",
              "      <th>chol</th>\n",
              "      <th>thalach</th>\n",
              "      <th>oldpeak</th>\n",
              "      <th>cp</th>\n",
              "      <th>restecg</th>\n",
              "      <th>slope</th>\n",
              "      <th>ca</th>\n",
              "    </tr>\n",
              "  </thead>\n",
              "  <tbody>\n",
              "    <tr>\n",
              "      <th>0</th>\n",
              "      <td>0.952197</td>\n",
              "      <td>0.763956</td>\n",
              "      <td>-0.256334</td>\n",
              "      <td>0.015443</td>\n",
              "      <td>1.087338</td>\n",
              "      <td>1.000000</td>\n",
              "      <td>0.0</td>\n",
              "      <td>0.0</td>\n",
              "      <td>0.00</td>\n",
              "    </tr>\n",
              "    <tr>\n",
              "      <th>1</th>\n",
              "      <td>-1.915313</td>\n",
              "      <td>-0.092738</td>\n",
              "      <td>0.072199</td>\n",
              "      <td>1.633471</td>\n",
              "      <td>2.122573</td>\n",
              "      <td>0.666667</td>\n",
              "      <td>0.5</td>\n",
              "      <td>0.0</td>\n",
              "      <td>0.00</td>\n",
              "    </tr>\n",
              "    <tr>\n",
              "      <th>2</th>\n",
              "      <td>-1.474158</td>\n",
              "      <td>-0.092738</td>\n",
              "      <td>-0.816773</td>\n",
              "      <td>0.977514</td>\n",
              "      <td>0.310912</td>\n",
              "      <td>0.333333</td>\n",
              "      <td>0.0</td>\n",
              "      <td>1.0</td>\n",
              "      <td>0.00</td>\n",
              "    </tr>\n",
              "    <tr>\n",
              "      <th>3</th>\n",
              "      <td>0.180175</td>\n",
              "      <td>-0.663867</td>\n",
              "      <td>-0.198357</td>\n",
              "      <td>1.239897</td>\n",
              "      <td>-0.206705</td>\n",
              "      <td>0.333333</td>\n",
              "      <td>0.5</td>\n",
              "      <td>1.0</td>\n",
              "      <td>0.00</td>\n",
              "    </tr>\n",
              "    <tr>\n",
              "      <th>4</th>\n",
              "      <td>0.290464</td>\n",
              "      <td>-0.663867</td>\n",
              "      <td>2.082050</td>\n",
              "      <td>0.583939</td>\n",
              "      <td>-0.379244</td>\n",
              "      <td>0.000000</td>\n",
              "      <td>0.5</td>\n",
              "      <td>1.0</td>\n",
              "      <td>0.00</td>\n",
              "    </tr>\n",
              "    <tr>\n",
              "      <th>...</th>\n",
              "      <td>...</td>\n",
              "      <td>...</td>\n",
              "      <td>...</td>\n",
              "      <td>...</td>\n",
              "      <td>...</td>\n",
              "      <td>...</td>\n",
              "      <td>...</td>\n",
              "      <td>...</td>\n",
              "      <td>...</td>\n",
              "    </tr>\n",
              "    <tr>\n",
              "      <th>298</th>\n",
              "      <td>0.290464</td>\n",
              "      <td>0.478391</td>\n",
              "      <td>-0.101730</td>\n",
              "      <td>-1.165281</td>\n",
              "      <td>-0.724323</td>\n",
              "      <td>0.000000</td>\n",
              "      <td>0.5</td>\n",
              "      <td>0.5</td>\n",
              "      <td>0.00</td>\n",
              "    </tr>\n",
              "    <tr>\n",
              "      <th>299</th>\n",
              "      <td>-1.033002</td>\n",
              "      <td>-1.234996</td>\n",
              "      <td>0.342756</td>\n",
              "      <td>-0.771706</td>\n",
              "      <td>0.138373</td>\n",
              "      <td>1.000000</td>\n",
              "      <td>0.5</td>\n",
              "      <td>0.5</td>\n",
              "      <td>0.00</td>\n",
              "    </tr>\n",
              "    <tr>\n",
              "      <th>300</th>\n",
              "      <td>1.503641</td>\n",
              "      <td>0.706843</td>\n",
              "      <td>-1.029353</td>\n",
              "      <td>-0.378132</td>\n",
              "      <td>2.036303</td>\n",
              "      <td>0.000000</td>\n",
              "      <td>0.5</td>\n",
              "      <td>0.5</td>\n",
              "      <td>0.50</td>\n",
              "    </tr>\n",
              "    <tr>\n",
              "      <th>301</th>\n",
              "      <td>0.290464</td>\n",
              "      <td>-0.092738</td>\n",
              "      <td>-2.227533</td>\n",
              "      <td>-1.515125</td>\n",
              "      <td>0.138373</td>\n",
              "      <td>0.000000</td>\n",
              "      <td>0.5</td>\n",
              "      <td>0.5</td>\n",
              "      <td>0.25</td>\n",
              "    </tr>\n",
              "    <tr>\n",
              "      <th>302</th>\n",
              "      <td>0.290464</td>\n",
              "      <td>-0.092738</td>\n",
              "      <td>-0.198357</td>\n",
              "      <td>1.064975</td>\n",
              "      <td>-0.896862</td>\n",
              "      <td>0.333333</td>\n",
              "      <td>0.0</td>\n",
              "      <td>0.5</td>\n",
              "      <td>0.25</td>\n",
              "    </tr>\n",
              "  </tbody>\n",
              "</table>\n",
              "<p>303 rows × 9 columns</p>\n",
              "</div>"
            ],
            "text/plain": [
              "          age  trestbps      chol   thalach  ...        cp  restecg  slope    ca\n",
              "0    0.952197  0.763956 -0.256334  0.015443  ...  1.000000      0.0    0.0  0.00\n",
              "1   -1.915313 -0.092738  0.072199  1.633471  ...  0.666667      0.5    0.0  0.00\n",
              "2   -1.474158 -0.092738 -0.816773  0.977514  ...  0.333333      0.0    1.0  0.00\n",
              "3    0.180175 -0.663867 -0.198357  1.239897  ...  0.333333      0.5    1.0  0.00\n",
              "4    0.290464 -0.663867  2.082050  0.583939  ...  0.000000      0.5    1.0  0.00\n",
              "..        ...       ...       ...       ...  ...       ...      ...    ...   ...\n",
              "298  0.290464  0.478391 -0.101730 -1.165281  ...  0.000000      0.5    0.5  0.00\n",
              "299 -1.033002 -1.234996  0.342756 -0.771706  ...  1.000000      0.5    0.5  0.00\n",
              "300  1.503641  0.706843 -1.029353 -0.378132  ...  0.000000      0.5    0.5  0.50\n",
              "301  0.290464 -0.092738 -2.227533 -1.515125  ...  0.000000      0.5    0.5  0.25\n",
              "302  0.290464 -0.092738 -0.198357  1.064975  ...  0.333333      0.0    0.5  0.25\n",
              "\n",
              "[303 rows x 9 columns]"
            ]
          },
          "metadata": {
            "tags": []
          },
          "execution_count": 19
        }
      ]
    },
    {
      "cell_type": "code",
      "metadata": {
        "id": "QXoD_rG9YcBY",
        "colab": {
          "base_uri": "https://localhost:8080/",
          "height": 402
        },
        "outputId": "44aeaa4d-5a8b-4a7a-cb99-0e30ba1ecbfa"
      },
      "source": [
        "x = x.join(x3)\n",
        "x"
      ],
      "execution_count": null,
      "outputs": [
        {
          "output_type": "execute_result",
          "data": {
            "text/html": [
              "<div>\n",
              "<style scoped>\n",
              "    .dataframe tbody tr th:only-of-type {\n",
              "        vertical-align: middle;\n",
              "    }\n",
              "\n",
              "    .dataframe tbody tr th {\n",
              "        vertical-align: top;\n",
              "    }\n",
              "\n",
              "    .dataframe thead th {\n",
              "        text-align: right;\n",
              "    }\n",
              "</style>\n",
              "<table border=\"1\" class=\"dataframe\">\n",
              "  <thead>\n",
              "    <tr style=\"text-align: right;\">\n",
              "      <th></th>\n",
              "      <th>age</th>\n",
              "      <th>trestbps</th>\n",
              "      <th>chol</th>\n",
              "      <th>thalach</th>\n",
              "      <th>oldpeak</th>\n",
              "      <th>cp</th>\n",
              "      <th>restecg</th>\n",
              "      <th>slope</th>\n",
              "      <th>ca</th>\n",
              "      <th>exang</th>\n",
              "      <th>sex</th>\n",
              "      <th>fbs</th>\n",
              "    </tr>\n",
              "  </thead>\n",
              "  <tbody>\n",
              "    <tr>\n",
              "      <th>0</th>\n",
              "      <td>0.952197</td>\n",
              "      <td>0.763956</td>\n",
              "      <td>-0.256334</td>\n",
              "      <td>0.015443</td>\n",
              "      <td>1.087338</td>\n",
              "      <td>1.000000</td>\n",
              "      <td>0.0</td>\n",
              "      <td>0.0</td>\n",
              "      <td>0.00</td>\n",
              "      <td>0</td>\n",
              "      <td>1</td>\n",
              "      <td>1</td>\n",
              "    </tr>\n",
              "    <tr>\n",
              "      <th>1</th>\n",
              "      <td>-1.915313</td>\n",
              "      <td>-0.092738</td>\n",
              "      <td>0.072199</td>\n",
              "      <td>1.633471</td>\n",
              "      <td>2.122573</td>\n",
              "      <td>0.666667</td>\n",
              "      <td>0.5</td>\n",
              "      <td>0.0</td>\n",
              "      <td>0.00</td>\n",
              "      <td>0</td>\n",
              "      <td>1</td>\n",
              "      <td>0</td>\n",
              "    </tr>\n",
              "    <tr>\n",
              "      <th>2</th>\n",
              "      <td>-1.474158</td>\n",
              "      <td>-0.092738</td>\n",
              "      <td>-0.816773</td>\n",
              "      <td>0.977514</td>\n",
              "      <td>0.310912</td>\n",
              "      <td>0.333333</td>\n",
              "      <td>0.0</td>\n",
              "      <td>1.0</td>\n",
              "      <td>0.00</td>\n",
              "      <td>0</td>\n",
              "      <td>0</td>\n",
              "      <td>0</td>\n",
              "    </tr>\n",
              "    <tr>\n",
              "      <th>3</th>\n",
              "      <td>0.180175</td>\n",
              "      <td>-0.663867</td>\n",
              "      <td>-0.198357</td>\n",
              "      <td>1.239897</td>\n",
              "      <td>-0.206705</td>\n",
              "      <td>0.333333</td>\n",
              "      <td>0.5</td>\n",
              "      <td>1.0</td>\n",
              "      <td>0.00</td>\n",
              "      <td>0</td>\n",
              "      <td>1</td>\n",
              "      <td>0</td>\n",
              "    </tr>\n",
              "    <tr>\n",
              "      <th>4</th>\n",
              "      <td>0.290464</td>\n",
              "      <td>-0.663867</td>\n",
              "      <td>2.082050</td>\n",
              "      <td>0.583939</td>\n",
              "      <td>-0.379244</td>\n",
              "      <td>0.000000</td>\n",
              "      <td>0.5</td>\n",
              "      <td>1.0</td>\n",
              "      <td>0.00</td>\n",
              "      <td>1</td>\n",
              "      <td>0</td>\n",
              "      <td>0</td>\n",
              "    </tr>\n",
              "    <tr>\n",
              "      <th>...</th>\n",
              "      <td>...</td>\n",
              "      <td>...</td>\n",
              "      <td>...</td>\n",
              "      <td>...</td>\n",
              "      <td>...</td>\n",
              "      <td>...</td>\n",
              "      <td>...</td>\n",
              "      <td>...</td>\n",
              "      <td>...</td>\n",
              "      <td>...</td>\n",
              "      <td>...</td>\n",
              "      <td>...</td>\n",
              "    </tr>\n",
              "    <tr>\n",
              "      <th>298</th>\n",
              "      <td>0.290464</td>\n",
              "      <td>0.478391</td>\n",
              "      <td>-0.101730</td>\n",
              "      <td>-1.165281</td>\n",
              "      <td>-0.724323</td>\n",
              "      <td>0.000000</td>\n",
              "      <td>0.5</td>\n",
              "      <td>0.5</td>\n",
              "      <td>0.00</td>\n",
              "      <td>1</td>\n",
              "      <td>0</td>\n",
              "      <td>0</td>\n",
              "    </tr>\n",
              "    <tr>\n",
              "      <th>299</th>\n",
              "      <td>-1.033002</td>\n",
              "      <td>-1.234996</td>\n",
              "      <td>0.342756</td>\n",
              "      <td>-0.771706</td>\n",
              "      <td>0.138373</td>\n",
              "      <td>1.000000</td>\n",
              "      <td>0.5</td>\n",
              "      <td>0.5</td>\n",
              "      <td>0.00</td>\n",
              "      <td>0</td>\n",
              "      <td>1</td>\n",
              "      <td>0</td>\n",
              "    </tr>\n",
              "    <tr>\n",
              "      <th>300</th>\n",
              "      <td>1.503641</td>\n",
              "      <td>0.706843</td>\n",
              "      <td>-1.029353</td>\n",
              "      <td>-0.378132</td>\n",
              "      <td>2.036303</td>\n",
              "      <td>0.000000</td>\n",
              "      <td>0.5</td>\n",
              "      <td>0.5</td>\n",
              "      <td>0.50</td>\n",
              "      <td>0</td>\n",
              "      <td>1</td>\n",
              "      <td>1</td>\n",
              "    </tr>\n",
              "    <tr>\n",
              "      <th>301</th>\n",
              "      <td>0.290464</td>\n",
              "      <td>-0.092738</td>\n",
              "      <td>-2.227533</td>\n",
              "      <td>-1.515125</td>\n",
              "      <td>0.138373</td>\n",
              "      <td>0.000000</td>\n",
              "      <td>0.5</td>\n",
              "      <td>0.5</td>\n",
              "      <td>0.25</td>\n",
              "      <td>1</td>\n",
              "      <td>1</td>\n",
              "      <td>0</td>\n",
              "    </tr>\n",
              "    <tr>\n",
              "      <th>302</th>\n",
              "      <td>0.290464</td>\n",
              "      <td>-0.092738</td>\n",
              "      <td>-0.198357</td>\n",
              "      <td>1.064975</td>\n",
              "      <td>-0.896862</td>\n",
              "      <td>0.333333</td>\n",
              "      <td>0.0</td>\n",
              "      <td>0.5</td>\n",
              "      <td>0.25</td>\n",
              "      <td>0</td>\n",
              "      <td>0</td>\n",
              "      <td>0</td>\n",
              "    </tr>\n",
              "  </tbody>\n",
              "</table>\n",
              "<p>303 rows × 12 columns</p>\n",
              "</div>"
            ],
            "text/plain": [
              "          age  trestbps      chol   thalach  ...    ca  exang  sex  fbs\n",
              "0    0.952197  0.763956 -0.256334  0.015443  ...  0.00      0    1    1\n",
              "1   -1.915313 -0.092738  0.072199  1.633471  ...  0.00      0    1    0\n",
              "2   -1.474158 -0.092738 -0.816773  0.977514  ...  0.00      0    0    0\n",
              "3    0.180175 -0.663867 -0.198357  1.239897  ...  0.00      0    1    0\n",
              "4    0.290464 -0.663867  2.082050  0.583939  ...  0.00      1    0    0\n",
              "..        ...       ...       ...       ...  ...   ...    ...  ...  ...\n",
              "298  0.290464  0.478391 -0.101730 -1.165281  ...  0.00      1    0    0\n",
              "299 -1.033002 -1.234996  0.342756 -0.771706  ...  0.00      0    1    0\n",
              "300  1.503641  0.706843 -1.029353 -0.378132  ...  0.50      0    1    1\n",
              "301  0.290464 -0.092738 -2.227533 -1.515125  ...  0.25      1    1    0\n",
              "302  0.290464 -0.092738 -0.198357  1.064975  ...  0.25      0    0    0\n",
              "\n",
              "[303 rows x 12 columns]"
            ]
          },
          "metadata": {
            "tags": []
          },
          "execution_count": 20
        }
      ]
    },
    {
      "cell_type": "code",
      "metadata": {
        "colab": {
          "base_uri": "https://localhost:8080/"
        },
        "id": "SQ0KqpyXVerO",
        "outputId": "34bf53b4-d2c4-4c02-cb5a-94a5ad75fc66"
      },
      "source": [
        "y"
      ],
      "execution_count": null,
      "outputs": [
        {
          "output_type": "execute_result",
          "data": {
            "text/plain": [
              "0      1\n",
              "1      1\n",
              "2      1\n",
              "3      1\n",
              "4      1\n",
              "      ..\n",
              "298    0\n",
              "299    0\n",
              "300    0\n",
              "301    0\n",
              "302    0\n",
              "Name: target, Length: 303, dtype: int64"
            ]
          },
          "metadata": {
            "tags": []
          },
          "execution_count": 21
        }
      ]
    },
    {
      "cell_type": "markdown",
      "metadata": {
        "id": "Sex9fYTAYcBZ"
      },
      "source": [
        "-------"
      ]
    },
    {
      "cell_type": "code",
      "metadata": {
        "colab": {
          "base_uri": "https://localhost:8080/"
        },
        "id": "Qy18vIJVcSXX",
        "outputId": "3d6904ca-251f-4478-8dd3-6d9212e55bd7"
      },
      "source": [
        "type(x)"
      ],
      "execution_count": null,
      "outputs": [
        {
          "output_type": "execute_result",
          "data": {
            "text/plain": [
              "pandas.core.frame.DataFrame"
            ]
          },
          "metadata": {
            "tags": []
          },
          "execution_count": 26
        }
      ]
    },
    {
      "cell_type": "markdown",
      "metadata": {
        "id": "lVRMCjF2YcBZ"
      },
      "source": [
        "## <font color=\"blue\"> Question 3\n",
        "    \n",
        "**문제:** momentum optimizer를 learning rate는 0.001, momentum은 0.9로 설정해서 학습해 보시오.\n",
        " (마지막 layer와 input_dim 설정까지 그동안 배운 지식으로 해보기 바랍니다.) (현재 binary classification입니다.)\n",
        "    \n",
        "**소문제 1:** 사용할 optimizer import\n",
        "    \n",
        "**소문제 2:** momentum optimizer를 learning rate는 0.001, momentum은 0.9로 설정해서 만들기\n",
        "    \n",
        "**소문제 3:** 조건에 맞는 모델 만들기 해당 함수를 만드시오.\n",
        "\n",
        "(1> input_dim 설정 2> binary classification에 맞는 output layer의 2가지 설정 3> loss 설정)"
      ]
    },
    {
      "cell_type": "code",
      "metadata": {
        "id": "zEhrBOzEYcBa"
      },
      "source": [
        "from tensorflow.keras.models import Sequential\n",
        "from tensorflow.keras.layers import Dense"
      ],
      "execution_count": null,
      "outputs": []
    },
    {
      "cell_type": "markdown",
      "metadata": {
        "id": "9zpRQru7YcBa"
      },
      "source": [
        "**소문제 1:** 사용할 optimizer import"
      ]
    },
    {
      "cell_type": "code",
      "metadata": {
        "id": "XjomjsTeYcBa"
      },
      "source": [
        "### START CODE HERE ### (≈ 1 line of code)\n",
        "from tensorflow.keras.optimizers import SGD, Adagrad, RMSprop, Adam\n",
        "### END CODE HERE ###"
      ],
      "execution_count": null,
      "outputs": []
    },
    {
      "cell_type": "markdown",
      "metadata": {
        "id": "39Zkse0RYcBb"
      },
      "source": [
        "**소문제 2:** momentum optimizer를 learning rate는 0.001, momentum은 0.9로 설정해서 만들기"
      ]
    },
    {
      "cell_type": "code",
      "metadata": {
        "id": "Om3gENXvYcBb"
      },
      "source": [
        "### START CODE HERE ### (≈ 1 line of code)\n",
        "sgd = SGD(learning_rate=0.001, momentum=0.9, nesterov=False)\n",
        "### END CODE HERE ###"
      ],
      "execution_count": null,
      "outputs": []
    },
    {
      "cell_type": "code",
      "metadata": {
        "colab": {
          "base_uri": "https://localhost:8080/"
        },
        "id": "Qd9NBiq1c4Kv",
        "outputId": "0ae7516f-05bc-42cf-b142-db746833be3a"
      },
      "source": [
        "x.shape"
      ],
      "execution_count": null,
      "outputs": [
        {
          "output_type": "execute_result",
          "data": {
            "text/plain": [
              "(303, 12)"
            ]
          },
          "metadata": {
            "tags": []
          },
          "execution_count": 30
        }
      ]
    },
    {
      "cell_type": "markdown",
      "metadata": {
        "id": "zBLRGQCeYcBb"
      },
      "source": [
        "**소문제 3:** 조건에 맞는 모델 만들기 해당 함수를 만드시오.\n",
        "\n",
        "(1> input_dim 설정 2> binary classification에 맞는 output layer의 2가지 설정 3> loss 설정)"
      ]
    },
    {
      "cell_type": "code",
      "metadata": {
        "id": "3gBgNQA0YcBc"
      },
      "source": [
        "def create_momentum_model():\n",
        "    model = Sequential()\n",
        "    ### START CODE HERE ### (≈ 1 line of code)\n",
        "    model.add(Dense(units = 32,input_dim=12 ,activation='relu'))  # feature이 12개있다는 소리\n",
        "    ### END CODE HERE ###\n",
        "    \n",
        "    model.add(Dense(64, activation = 'relu'))\n",
        "    \n",
        "    ### START CODE HERE ### (≈ 1 line of code)\n",
        "    model.add(Dense(units = 1,activation='sigmoid'))\n",
        "    ### END CODE HERE ###\n",
        "    \n",
        "    ### START CODE HERE ### (≈ 1 line of code)\n",
        "    model.compile(optimizer = sgd, metrics = ['accuracy'],loss ='binary_crossentropy' )\n",
        "    ### END CODE HERE ###\n",
        "    \n",
        "    return model"
      ],
      "execution_count": null,
      "outputs": []
    },
    {
      "cell_type": "code",
      "metadata": {
        "id": "I7W7UbgTYcBd"
      },
      "source": [
        "model = create_momentum_model()"
      ],
      "execution_count": null,
      "outputs": []
    },
    {
      "cell_type": "code",
      "metadata": {
        "id": "ilwPLh5pYcBd",
        "colab": {
          "base_uri": "https://localhost:8080/"
        },
        "outputId": "10de2095-d081-4248-f324-4ec7f85db645"
      },
      "source": [
        "history = model.fit(np.array(x),np.array(y),epochs = 10, batch_size = 1, shuffle=False)  #batch_size가 1이다"
      ],
      "execution_count": null,
      "outputs": [
        {
          "output_type": "stream",
          "text": [
            "Epoch 1/10\n",
            "303/303 [==============================] - 1s 888us/step - loss: 0.4771 - accuracy: 0.7600\n",
            "Epoch 2/10\n",
            "303/303 [==============================] - 0s 942us/step - loss: 0.8066 - accuracy: 0.5420\n",
            "Epoch 3/10\n",
            "303/303 [==============================] - 0s 967us/step - loss: 0.7130 - accuracy: 0.5800\n",
            "Epoch 4/10\n",
            "303/303 [==============================] - 0s 928us/step - loss: 0.6592 - accuracy: 0.6061\n",
            "Epoch 5/10\n",
            "303/303 [==============================] - 0s 911us/step - loss: 0.6139 - accuracy: 0.6912\n",
            "Epoch 6/10\n",
            "303/303 [==============================] - 0s 956us/step - loss: 0.5792 - accuracy: 0.7417\n",
            "Epoch 7/10\n",
            "303/303 [==============================] - 0s 910us/step - loss: 0.5549 - accuracy: 0.7549\n",
            "Epoch 8/10\n",
            "303/303 [==============================] - 0s 908us/step - loss: 0.5342 - accuracy: 0.7580\n",
            "Epoch 9/10\n",
            "303/303 [==============================] - 0s 971us/step - loss: 0.5139 - accuracy: 0.7779\n",
            "Epoch 10/10\n",
            "303/303 [==============================] - 0s 917us/step - loss: 0.4956 - accuracy: 0.7786\n"
          ],
          "name": "stdout"
        }
      ]
    },
    {
      "cell_type": "markdown",
      "metadata": {
        "id": "Xxh7fa5kYcBd"
      },
      "source": [
        "-------"
      ]
    },
    {
      "cell_type": "code",
      "metadata": {
        "colab": {
          "base_uri": "https://localhost:8080/"
        },
        "id": "MQoTfLpccidP",
        "outputId": "f5533bb9-18fa-47a2-cc33-2b30e2bfb281"
      },
      "source": [
        "np.array(x).shape"
      ],
      "execution_count": null,
      "outputs": [
        {
          "output_type": "execute_result",
          "data": {
            "text/plain": [
              "(303, 12)"
            ]
          },
          "metadata": {
            "tags": []
          },
          "execution_count": 36
        }
      ]
    },
    {
      "cell_type": "markdown",
      "metadata": {
        "id": "T5OY17KqYcBe"
      },
      "source": [
        "## <font color=\"blue\"> Question 4\n",
        "\n",
        "**문제:** 모든 layer의 W(weight=kernel)를 he_normal로 initialization 해보시오"
      ]
    },
    {
      "cell_type": "code",
      "metadata": {
        "id": "h-ELMLkqYcBe",
        "colab": {
          "base_uri": "https://localhost:8080/"
        },
        "outputId": "20f2f4e1-9d7e-4d28-aa41-33abc25d645a"
      },
      "source": [
        "from tensorflow.keras.datasets import fashion_mnist\n",
        "\n",
        "(x,y), (x_test, y_test) = fashion_mnist.load_data()\n",
        "\n",
        "from tensorflow.keras.utils import to_categorical\n",
        "\n",
        "x = x.astype('float32')\n",
        "x_test = x_test.astype('float32')\n",
        "\n",
        "x = x.reshape(60000,-1)\n",
        "x_test = x_test.reshape(10000,-1)\n",
        "\n",
        "x = x/255.\n",
        "x_test = x/ 255.\n",
        "\n",
        "y = to_categorical(y, 10)\n",
        "y_test = to_categorical(y_test, 10)\n",
        "\n",
        "from sklearn.model_selection import train_test_split\n",
        "\n",
        "x_train, x_val, y_train, y_val = train_test_split(x, y, train_size = 1/2, random_state = 3, stratify=y)\n",
        "\n"
      ],
      "execution_count": null,
      "outputs": [
        {
          "output_type": "stream",
          "text": [
            "Downloading data from https://storage.googleapis.com/tensorflow/tf-keras-datasets/train-labels-idx1-ubyte.gz\n",
            "32768/29515 [=================================] - 0s 0us/step\n",
            "Downloading data from https://storage.googleapis.com/tensorflow/tf-keras-datasets/train-images-idx3-ubyte.gz\n",
            "26427392/26421880 [==============================] - 0s 0us/step\n",
            "Downloading data from https://storage.googleapis.com/tensorflow/tf-keras-datasets/t10k-labels-idx1-ubyte.gz\n",
            "8192/5148 [===============================================] - 0s 1us/step\n",
            "Downloading data from https://storage.googleapis.com/tensorflow/tf-keras-datasets/t10k-images-idx3-ubyte.gz\n",
            "4423680/4422102 [==============================] - 0s 0us/step\n"
          ],
          "name": "stdout"
        }
      ]
    },
    {
      "cell_type": "code",
      "metadata": {
        "colab": {
          "base_uri": "https://localhost:8080/"
        },
        "id": "wD_ofIbvK6L4",
        "outputId": "d8634393-7b89-42b3-bda9-ce86668bb825"
      },
      "source": [
        "x[0].ndim"
      ],
      "execution_count": null,
      "outputs": [
        {
          "output_type": "execute_result",
          "data": {
            "text/plain": [
              "1"
            ]
          },
          "metadata": {
            "tags": []
          },
          "execution_count": 2
        }
      ]
    },
    {
      "cell_type": "code",
      "metadata": {
        "id": "0w9SVaugYcBe"
      },
      "source": [
        "from tensorflow.keras.models import Sequential\n",
        "from tensorflow.keras.layers import Dense\n",
        "\n",
        "def create_hn_model():\n",
        "    model = Sequential()\n",
        "    ### START CODE HERE ### (≈ 4 line of code)\n",
        "    model.add(Dense(64, input_shape=(784,) , activation = 'relu', kernel_initializer = 'he_normal'))\n",
        "    model.add(Dense(128, activation = 'relu',kernel_initializer = 'he_normal' ))\n",
        "    model.add(Dense(256, activation = 'relu', kernel_initializer = 'he_normal'))\n",
        "    model.add(Dense(10, activation = 'softmax', kernel_initializer = 'he_normal'))\n",
        "    ### END CODE HERE ###\n",
        "    \n",
        "    model.compile(optimizer = 'adam', loss = 'categorical_crossentropy', metrics = ['accuracy'])\n",
        "    return model"
      ],
      "execution_count": null,
      "outputs": []
    },
    {
      "cell_type": "code",
      "metadata": {
        "id": "nhEosKOYYcBf"
      },
      "source": [
        "model_hn = create_hn_model()"
      ],
      "execution_count": null,
      "outputs": []
    },
    {
      "cell_type": "code",
      "metadata": {
        "id": "CuqjGLnuYcBf",
        "colab": {
          "base_uri": "https://localhost:8080/"
        },
        "outputId": "9e2ef821-f351-48e8-d9bf-df2ff4ad92dd"
      },
      "source": [
        "history_hn = model_hn.fit(x_train, y_train, validation_data=(x_val, y_val), epochs=10) # batch size가 default값이 32"
      ],
      "execution_count": null,
      "outputs": [
        {
          "output_type": "stream",
          "text": [
            "Epoch 1/10\n",
            "938/938 [==============================] - 5s 5ms/step - loss: 0.7216 - accuracy: 0.7378 - val_loss: 0.4387 - val_accuracy: 0.8425\n",
            "Epoch 2/10\n",
            "938/938 [==============================] - 4s 4ms/step - loss: 0.4222 - accuracy: 0.8457 - val_loss: 0.3940 - val_accuracy: 0.8573\n",
            "Epoch 3/10\n",
            "938/938 [==============================] - 4s 4ms/step - loss: 0.3667 - accuracy: 0.8632 - val_loss: 0.3676 - val_accuracy: 0.8647\n",
            "Epoch 4/10\n",
            "938/938 [==============================] - 4s 4ms/step - loss: 0.3430 - accuracy: 0.8756 - val_loss: 0.3980 - val_accuracy: 0.8553\n",
            "Epoch 5/10\n",
            "938/938 [==============================] - 4s 4ms/step - loss: 0.3182 - accuracy: 0.8826 - val_loss: 0.3583 - val_accuracy: 0.8736\n",
            "Epoch 6/10\n",
            "938/938 [==============================] - 4s 4ms/step - loss: 0.2999 - accuracy: 0.8884 - val_loss: 0.3570 - val_accuracy: 0.8691\n",
            "Epoch 7/10\n",
            "938/938 [==============================] - 4s 4ms/step - loss: 0.2801 - accuracy: 0.8942 - val_loss: 0.3466 - val_accuracy: 0.8757\n",
            "Epoch 8/10\n",
            "938/938 [==============================] - 4s 4ms/step - loss: 0.2693 - accuracy: 0.8975 - val_loss: 0.3832 - val_accuracy: 0.8637\n",
            "Epoch 9/10\n",
            "938/938 [==============================] - 4s 4ms/step - loss: 0.2699 - accuracy: 0.8977 - val_loss: 0.4244 - val_accuracy: 0.8600\n",
            "Epoch 10/10\n",
            "938/938 [==============================] - 4s 4ms/step - loss: 0.2587 - accuracy: 0.8988 - val_loss: 0.3572 - val_accuracy: 0.8791\n"
          ],
          "name": "stdout"
        }
      ]
    },
    {
      "cell_type": "code",
      "metadata": {
        "id": "Fgxa2GCEYcBf"
      },
      "source": [
        "import matplotlib.pyplot as plt\n",
        "\n",
        "%matplotlib inline"
      ],
      "execution_count": null,
      "outputs": []
    },
    {
      "cell_type": "code",
      "metadata": {
        "id": "cMgSHyk7YcBg",
        "colab": {
          "base_uri": "https://localhost:8080/",
          "height": 295
        },
        "outputId": "d989c227-777f-49db-941a-c93357069235"
      },
      "source": [
        "loss = history_hn.history['loss']\n",
        "val_loss = history_hn.history['val_loss']\n",
        "\n",
        "epochs = range(1, len(loss) + 1)\n",
        "\n",
        "plt.plot(epochs, loss, 'r', label = 'Training loss')\n",
        "plt.plot(epochs, val_loss, 'b', label = 'Validation loss')\n",
        "plt.title('Training and validation loss')\n",
        "plt.xlabel('Epochs')\n",
        "plt.ylabel('Loss')\n",
        "plt.legend()       \n",
        "\n",
        "plt.show()"
      ],
      "execution_count": null,
      "outputs": [
        {
          "output_type": "display_data",
          "data": {
            "image/png": "[encoded data removed]",
            "text/plain": [
              "<Figure size 432x288 with 1 Axes>"
            ]
          },
          "metadata": {
            "tags": [],
            "needs_background": "light"
          }
        }
      ]
    },
    {
      "cell_type": "markdown",
      "metadata": {
        "id": "G0NTyOnQYcBg"
      },
      "source": [
        "### 6주차 과제는 glorot_uniform었고 epoch 10에서 training의 loss가 0.28정도였는데\n",
        "\n",
        "### he_normal이 fashion_mnist에서 더 잘 학습되는 것을 알 수 있습니다."
      ]
    },
    {
      "cell_type": "code",
      "metadata": {
        "id": "aoRY8kAxhmCI"
      },
      "source": [
        ""
      ],
      "execution_count": null,
      "outputs": []
    }
  ]
}