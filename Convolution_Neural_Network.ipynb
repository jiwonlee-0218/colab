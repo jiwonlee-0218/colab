{
  "nbformat": 4,
  "nbformat_minor": 0,
  "metadata": {
    "kernelspec": {
      "display_name": "Python 3",
      "language": "python",
      "name": "python3"
    },
    "language_info": {
      "codemirror_mode": {
        "name": "ipython",
        "version": 3
      },
      "file_extension": ".py",
      "mimetype": "text/x-python",
      "name": "python",
      "nbconvert_exporter": "python",
      "pygments_lexer": "ipython3",
      "version": "3.8.5"
    },
    "colab": {
      "name": "Convolution_Neural_Network.ipynb",
      "provenance": [],
      "collapsed_sections": [],
      "include_colab_link": true
    }
  },
  "cells": [
    {
      "cell_type": "markdown",
      "metadata": {
        "id": "view-in-github",
        "colab_type": "text"
      },
      "source": [
        "<a href=\"https://colab.research.google.com/github/jiwonlee-0218/colab/blob/main/Convolution_Neural_Network.ipynb\" target=\"_parent\"><img src=\"https://colab.research.google.com/assets/colab-badge.svg\" alt=\"Open In Colab\"/></a>"
      ]
    },
    {
      "cell_type": "markdown",
      "metadata": {
        "id": "rs5ry-Kf2H5r"
      },
      "source": [
        "# Convolution Neural Network"
      ]
    },
    {
      "cell_type": "markdown",
      "metadata": {
        "id": "-1XFm1HA2H5z"
      },
      "source": [
        "## 1. data 업로드"
      ]
    },
    {
      "cell_type": "code",
      "metadata": {
        "id": "chmraaz_2H50"
      },
      "source": [
        "from tensorflow.keras.datasets import fashion_mnist"
      ],
      "execution_count": null,
      "outputs": []
    },
    {
      "cell_type": "code",
      "metadata": {
        "id": "NAmdfVa32H51"
      },
      "source": [
        "(x, y), (x_test, y_test) = fashion_mnist.load_data()"
      ],
      "execution_count": null,
      "outputs": []
    },
    {
      "cell_type": "markdown",
      "metadata": {
        "id": "YgnehBxP2H52"
      },
      "source": [
        "------"
      ]
    },
    {
      "cell_type": "markdown",
      "metadata": {
        "id": "gyFfBpsX2H52"
      },
      "source": [
        "## 2. data 확인"
      ]
    },
    {
      "cell_type": "code",
      "metadata": {
        "id": "sWfpCDr82H53"
      },
      "source": [
        "import matplotlib.pyplot as plt\n",
        "\n",
        "%matplotlib inline"
      ],
      "execution_count": null,
      "outputs": []
    },
    {
      "cell_type": "code",
      "metadata": {
        "id": "o6beAHKW2H53"
      },
      "source": [
        "class_names = ['T-shirt/top', 'Trouser', 'Pullover', 'Dress', 'Coat',\n",
        "               'Sandal', 'Shirt', 'Sneaker', 'Bag', 'Ankle boot']"
      ],
      "execution_count": null,
      "outputs": []
    },
    {
      "cell_type": "code",
      "metadata": {
        "id": "EfvBG_9Y2H54",
        "outputId": "01676212-e1be-42c5-eca3-04f565b41ba8"
      },
      "source": [
        "index = 0 # index 설정에 따라 원하는 data를 골라서 그릴 수 있고 / 0~59999까지 대입 가능합니다.\n",
        "print(str(y[index]) + ' == ' + str(class_names[y[index]]))\n",
        "img = x[index]\n",
        "plt.imshow(img, cmap='gray')"
      ],
      "execution_count": null,
      "outputs": [
        {
          "output_type": "stream",
          "text": [
            "9 == Ankle boot\n"
          ],
          "name": "stdout"
        },
        {
          "output_type": "execute_result",
          "data": {
            "text/plain": [
              "<matplotlib.image.AxesImage at 0x12d9d8d6e80>"
            ]
          },
          "metadata": {
            "tags": []
          },
          "execution_count": 5
        },
        {
          "output_type": "display_data",
          "data": {
            "image/png": "[encoded data removed]",
            "text/plain": [
              "<Figure size 432x288 with 1 Axes>"
            ]
          },
          "metadata": {
            "tags": [],
            "needs_background": "light"
          }
        }
      ]
    },
    {
      "cell_type": "markdown",
      "metadata": {
        "id": "7eiKdrmb2H55"
      },
      "source": [
        "--------"
      ]
    },
    {
      "cell_type": "markdown",
      "metadata": {
        "id": "MWCeQSDJ2H56"
      },
      "source": [
        "## 3. data preprocess\n",
        "\n",
        "#### 무엇을 해야할까요?"
      ]
    },
    {
      "cell_type": "markdown",
      "metadata": {
        "id": "YC797P9m2H56"
      },
      "source": [
        "1) 형 변환\n",
        "\n",
        "2) normalize\n",
        "\n",
        "3) one-hot encoding\n",
        "\n",
        "4) flatten(X) reshape(O)"
      ]
    },
    {
      "cell_type": "code",
      "metadata": {
        "id": "9Uq6eD012H57"
      },
      "source": [
        "from tensorflow.keras.utils import to_categorical\n",
        "import numpy as np"
      ],
      "execution_count": null,
      "outputs": []
    },
    {
      "cell_type": "code",
      "metadata": {
        "id": "QszXwytd2H57"
      },
      "source": [
        "# 1) 형 변환\n",
        "\n",
        "x = x.astype('float32') # 32비트 실수형 / np.ndarray.astype은 numpy에 검색하면 형 변환 해주는 함수\n",
        "x_test = x_test.astype('float32')\n",
        "\n",
        "# 2) normalize\n",
        "\n",
        "x, x_test = x/255., x_test/255.\n",
        "\n",
        "# 3) one-hot encoding      해당 label만 1인 한줄짜리 벡터\n",
        "\n",
        "y = to_categorical(y, 10)\n",
        "y_test = to_categorical(y_test,10)"
      ],
      "execution_count": null,
      "outputs": []
    },
    {
      "cell_type": "markdown",
      "metadata": {
        "id": "leXOvRUC2H58"
      },
      "source": [
        "#### 하지만 중요 point가 있습니다.\n",
        "\n",
        "#### <font color=\"blue\"> Dense layer는 dimension이 몇인 ndarray를 받을까요?"
      ]
    },
    {
      "cell_type": "markdown",
      "metadata": {
        "id": "tRLDeUmq2H58"
      },
      "source": [
        "#### <font color=\"red\"> 2D array\n",
        "\n",
        "why??"
      ]
    },
    {
      "cell_type": "markdown",
      "metadata": {
        "id": "yTxygrDA2H58"
      },
      "source": [
        "vector(1D array)를 받지만 이 1d array vercor의 data갯수가 존재하는데 data 개수를 별도로 받는게 아니라 data갯수가 vectorization된 형태를 받기 때문입니다.)\n",
        "\n",
        "즉, shape (m, n_x) 형태를 받습니다. (기존 course 1에서 배운 것과 다르게 m을 맨 앞으로 빼줍니다./ 이유가 있습니다.)\n",
        "\n",
        "결론: 우리가 생각하는 shape에서 맨 앞에 data 개수로 dimension을 추가한 형태를 받습니다. "
      ]
    },
    {
      "cell_type": "markdown",
      "metadata": {
        "id": "57-Grf8N2H59"
      },
      "source": [
        "#### <font color=\"blue\"> Convolution layer는 dimension이 몇인 ndarray를 받을까요?"
      ]
    },
    {
      "cell_type": "markdown",
      "metadata": {
        "id": "A7wfRQp22H59"
      },
      "source": [
        "#### <font color=\"red\"> 4D array (3d array 모음)\n",
        "\n",
        "(세로 픽셀, 가로 픽셀, channel)을 input으로 넣어왔으니\n",
        "\n",
        "이에 dimension을 하나 추가한 4D array를 받습니다."
      ]
    },
    {
      "cell_type": "code",
      "metadata": {
        "id": "tRcag7Sb2H59",
        "outputId": "e081ca12-d9bd-4b95-b3f3-6e2ba849412b"
      },
      "source": [
        "## x의 shape 확인\n",
        "\n",
        "x.shape"
      ],
      "execution_count": null,
      "outputs": [
        {
          "output_type": "execute_result",
          "data": {
            "text/plain": [
              "(60000, 28, 28)"
            ]
          },
          "metadata": {
            "tags": []
          },
          "execution_count": 8
        }
      ]
    },
    {
      "cell_type": "code",
      "metadata": {
        "id": "wSmMeqwv2H5-",
        "outputId": "3fae6d03-b782-475b-ff4e-084e1771bae9"
      },
      "source": [
        "# 4) reshape\n",
        "\n",
        "x = x.reshape(60000, 28, 28, 1)\n",
        "x_test = x_test.reshape(10000, 28, 28, 1)\n",
        "\n",
        "# 아래 코드로도 dimension을 추가하는 것이 가능합니다.\n",
        "\n",
        "'''\n",
        "x = np.expand_dims(x, axis=3)     expand_dims()는 차원확장함수\n",
        "x_test = np.expand_dims(x_test, axis=3)\n",
        "'''"
      ],
      "execution_count": null,
      "outputs": [
        {
          "output_type": "execute_result",
          "data": {
            "text/plain": [
              "'\\nx = np.expand_dims(x, axis=3)\\nx_test = np.expand_dims(x_test, axis=3)\\n'"
            ]
          },
          "metadata": {
            "tags": []
          },
          "execution_count": 9
        }
      ]
    },
    {
      "cell_type": "code",
      "metadata": {
        "id": "vmHut9rU2H5-",
        "outputId": "d9f3a675-f384-4df1-8ac5-7f7cdea5507b"
      },
      "source": [
        "## x의 shape 다시 확인\n",
        "\n",
        "x.shape"
      ],
      "execution_count": null,
      "outputs": [
        {
          "output_type": "execute_result",
          "data": {
            "text/plain": [
              "(60000, 28, 28, 1)"
            ]
          },
          "metadata": {
            "tags": []
          },
          "execution_count": 10
        }
      ]
    },
    {
      "cell_type": "markdown",
      "metadata": {
        "id": "5JPhMvCu2H5_"
      },
      "source": [
        "----------"
      ]
    },
    {
      "cell_type": "markdown",
      "metadata": {
        "id": "S3Q06QmZ2H5_"
      },
      "source": [
        "## 4. 모델 만들기"
      ]
    },
    {
      "cell_type": "markdown",
      "metadata": {
        "id": "tIQ9qfI82H5_"
      },
      "source": [
        "### 1) 똑같은 layer\n",
        "\n",
        "길게 쓰기 귀찮아서 짧은 버전이 있으니 편한 것으로 쓰시면 됩니다.\n",
        "\n",
        "'Conv2D' == 'Convolution2D' / \n",
        "'MaxPool2D' == 'MaxPooling2D'\n",
        "\n",
        "### 2) CNN도 규칙이 있습니다.\n",
        "\n",
        "(Conv(Maxpool) -> Flatten -> Dense 흐름으로 갑니다.)\n",
        "\n",
        "1> input_shape 맞춰주기 (3D shape이 들어가야하며, 현재는 흑백이미지여서 channel을 1로 설정)\n",
        "\n",
        "2> output layer의 unit 개수\n",
        "\n",
        "3> output laeyer의 activation function"
      ]
    },
    {
      "cell_type": "code",
      "metadata": {
        "id": "8AXgoH8a2H6A"
      },
      "source": [
        "from tensorflow.keras.models import Sequential\n",
        "from tensorflow.keras.layers import Conv2D, MaxPooling2D, Dense, Flatten"
      ],
      "execution_count": null,
      "outputs": []
    },
    {
      "cell_type": "code",
      "metadata": {
        "id": "1Ksgds552H6A"
      },
      "source": [
        "def create_cnn():\n",
        "    model = Sequential()\n",
        "    model.add(Conv2D(32, (3, 3), activation='relu', input_shape=(28, 28, 1)))\n",
        "    model.add(MaxPooling2D())\n",
        "    model.add(Conv2D(64, (3, 3), activation='relu'))\n",
        "    model.add(MaxPooling2D((2, 2)))\n",
        "    model.add(Conv2D(64, (3, 3), activation='relu'))\n",
        "    model.add(Flatten())\n",
        "    model.add(Dense(64, activation='relu'))\n",
        "    model.add(Dense(10, activation='softmax'))\n",
        "    \n",
        "    model.compile(optimizer='adam',\n",
        "              loss='categorical_crossentropy',\n",
        "              metrics=['accuracy'])\n",
        "    \n",
        "    return model"
      ],
      "execution_count": null,
      "outputs": []
    },
    {
      "cell_type": "code",
      "metadata": {
        "id": "aLbEY-4x2H6A",
        "outputId": "4fd73c7f-18bf-4122-ca2d-70f1ce2e11f3"
      },
      "source": [
        "model = create_cnn()\n",
        "model.summary()"
      ],
      "execution_count": null,
      "outputs": [
        {
          "output_type": "stream",
          "text": [
            "Model: \"sequential\"\n",
            "_________________________________________________________________\n",
            "Layer (type)                 Output Shape              Param #   \n",
            "=================================================================\n",
            "conv2d (Conv2D)              (None, 26, 26, 32)        320       \n",
            "_________________________________________________________________\n",
            "max_pooling2d (MaxPooling2D) (None, 13, 13, 32)        0         \n",
            "_________________________________________________________________\n",
            "conv2d_1 (Conv2D)            (None, 11, 11, 64)        18496     \n",
            "_________________________________________________________________\n",
            "max_pooling2d_1 (MaxPooling2 (None, 5, 5, 64)          0         \n",
            "_________________________________________________________________\n",
            "conv2d_2 (Conv2D)            (None, 3, 3, 64)          36928     \n",
            "_________________________________________________________________\n",
            "flatten (Flatten)            (None, 576)               0         \n",
            "_________________________________________________________________\n",
            "dense (Dense)                (None, 64)                36928     \n",
            "_________________________________________________________________\n",
            "dense_1 (Dense)              (None, 10)                650       \n",
            "=================================================================\n",
            "Total params: 93,322\n",
            "Trainable params: 93,322\n",
            "Non-trainable params: 0\n",
            "_________________________________________________________________\n"
          ],
          "name": "stdout"
        }
      ]
    },
    {
      "cell_type": "markdown",
      "metadata": {
        "id": "w9muhEE72H6B"
      },
      "source": [
        "## 5. 학습\n",
        "\n",
        "이전 Dense layer 학습과 차이점을 관찰하시기 바랍니다."
      ]
    },
    {
      "cell_type": "code",
      "metadata": {
        "id": "HsrrncuH2H6B",
        "outputId": "e94f63a7-7539-4d24-a953-deab112f0575"
      },
      "source": [
        "history = model.fit(x, y, epochs=5, validation_split=1/6)"
      ],
      "execution_count": null,
      "outputs": [
        {
          "output_type": "stream",
          "text": [
            "Epoch 1/5\n",
            "1563/1563 [==============================] - 36s 23ms/step - loss: 0.7224 - accuracy: 0.7352 - val_loss: 0.3702 - val_accuracy: 0.8652\n",
            "Epoch 2/5\n",
            "1563/1563 [==============================] - 38s 24ms/step - loss: 0.3503 - accuracy: 0.8727 - val_loss: 0.3125 - val_accuracy: 0.8868\n",
            "Epoch 3/5\n",
            "1563/1563 [==============================] - 43s 27ms/step - loss: 0.2952 - accuracy: 0.8920 - val_loss: 0.2930 - val_accuracy: 0.8944\n",
            "Epoch 4/5\n",
            "1563/1563 [==============================] - 37s 24ms/step - loss: 0.2575 - accuracy: 0.9046 - val_loss: 0.2921 - val_accuracy: 0.8923\n",
            "Epoch 5/5\n",
            "1563/1563 [==============================] - 34s 22ms/step - loss: 0.2304 - accuracy: 0.9137 - val_loss: 0.2720 - val_accuracy: 0.9020\n"
          ],
          "name": "stdout"
        }
      ]
    },
    {
      "cell_type": "markdown",
      "metadata": {
        "id": "pzuWljyd2H6B"
      },
      "source": [
        "### 1) 시간이 오래걸린다. -> but 성능보장\n",
        "\n",
        "인접 정보만 연산하면 시간이 줄어야하는 것 아닌가?\n",
        "\n",
        "parameter 자체는 줄었을 수도 있지만 그 filter 즉 하나의 kernel로 여러번 연산을 하니 연산량 자체가 많아집니다.\n",
        "\n",
        "### 2) Dense layer epoch 5회 돌리면 0.85 수준인데 CNN은 0.9 정도 나옵니다. accuracy\n",
        "\n",
        "### 3) batch_size 늘리면 메모리가 터지는 error가 납니다."
      ]
    },
    {
      "cell_type": "code",
      "metadata": {
        "id": "tLn1uy0u2H6C"
      },
      "source": [
        "# local로 돌리지 마세요.\n",
        "\n",
        "history = model.fit(x, y, epochs=5, validation_split=1/6, batch_size = 50000) # 50000으로 설정하면 무조건 error 납니다. 즉 전부다 데이터를 한꺼번에 메모리에 넣으려고 하면 에러발생"
      ],
      "execution_count": null,
      "outputs": []
    },
    {
      "cell_type": "markdown",
      "metadata": {
        "id": "NUf9cV4-2H6C"
      },
      "source": [
        "-------"
      ]
    },
    {
      "cell_type": "code",
      "metadata": {
        "id": "UbVhleRH2H6C"
      },
      "source": [
        ""
      ],
      "execution_count": null,
      "outputs": []
    }
  ]
}