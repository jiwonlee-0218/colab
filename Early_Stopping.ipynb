{
  "nbformat": 4,
  "nbformat_minor": 0,
  "metadata": {
    "kernelspec": {
      "display_name": "Python 3",
      "language": "python",
      "name": "python3"
    },
    "language_info": {
      "codemirror_mode": {
        "name": "ipython",
        "version": 3
      },
      "file_extension": ".py",
      "mimetype": "text/x-python",
      "name": "python",
      "nbconvert_exporter": "python",
      "pygments_lexer": "ipython3",
      "version": "3.8.5"
    },
    "colab": {
      "name": "Early_Stopping.ipynb",
      "provenance": [],
      "include_colab_link": true
    }
  },
  "cells": [
    {
      "cell_type": "markdown",
      "metadata": {
        "id": "view-in-github",
        "colab_type": "text"
      },
      "source": [
        "<a href=\"https://colab.research.google.com/github/jiwonlee-0218/colab/blob/main/Early_Stopping.ipynb\" target=\"_parent\"><img src=\"https://colab.research.google.com/assets/colab-badge.svg\" alt=\"Open In Colab\"/></a>"
      ]
    },
    {
      "cell_type": "markdown",
      "metadata": {
        "id": "DoGfQ85v6oQo"
      },
      "source": [
        "# Early Stopping"
      ]
    },
    {
      "cell_type": "markdown",
      "metadata": {
        "id": "TJm_fPII6oQx"
      },
      "source": [
        "------"
      ]
    },
    {
      "cell_type": "code",
      "metadata": {
        "id": "voXIRsU56oQx"
      },
      "source": [
        "import random\n",
        "import numpy as np\n",
        "import os\n",
        "import tensorflow as tf"
      ],
      "execution_count": null,
      "outputs": []
    },
    {
      "cell_type": "code",
      "metadata": {
        "id": "uwizy27r6oQx"
      },
      "source": [
        "def seed_everything(seed: int = 42):\n",
        "    random.seed(seed)\n",
        "    np.random.seed(seed)\n",
        "    os.environ[\"PYTHONHASHSEED\"] = str(seed)\n",
        "    tf.random.set_seed(seed)\n",
        "    \n",
        "seed_everything()"
      ],
      "execution_count": null,
      "outputs": []
    },
    {
      "cell_type": "markdown",
      "metadata": {
        "id": "19YR_Z-K6oQy"
      },
      "source": [
        "# 0 .기존 작업"
      ]
    },
    {
      "cell_type": "code",
      "metadata": {
        "id": "XYYxyxhH6oQy",
        "outputId": "77b16bb2-5b9e-431d-dd67-2605c6a1236c"
      },
      "source": [
        "from tensorflow.keras.datasets import fashion_mnist\n",
        "\n",
        "(x, y), (x_test, y_test) = fashion_mnist.load_data()\n",
        "\n",
        "\n",
        "from tensorflow.keras.utils import to_categorical\n",
        "\n",
        "x = x.astype('float32') \n",
        "x_test = x_test.astype('float32')\n",
        "\n",
        "x /= 255\n",
        "x_test /= 255\n",
        "\n",
        "y = to_categorical(y, 10)\n",
        "y_test = to_categorical(y_test, 10)\n",
        "\n",
        "\n",
        "from tensorflow.keras.models import Sequential\n",
        "from tensorflow.keras.layers import Dense, Flatten\n",
        "\n",
        "def create_model():\n",
        "    model = Sequential()\n",
        "    model.add(Flatten(input_shape=(28, 28)))\n",
        "    model.add(Dense(units=32, activation='relu'))\n",
        "    model.add(Dense(64, 'relu'))\n",
        "    model.add(Dense(128, 'relu'))\n",
        "    model.add(Dense(units=10, activation='softmax'))\n",
        "    \n",
        "    model.compile(optimizer='adam', \n",
        "                  loss='categorical_crossentropy',\n",
        "                 metrics=['accuracy'])\n",
        "\n",
        "    return model\n",
        "\n",
        "model = create_model()\n",
        "model.summary()"
      ],
      "execution_count": null,
      "outputs": [
        {
          "output_type": "stream",
          "text": [
            "Model: \"sequential\"\n",
            "_________________________________________________________________\n",
            "Layer (type)                 Output Shape              Param #   \n",
            "=================================================================\n",
            "flatten (Flatten)            (None, 784)               0         \n",
            "_________________________________________________________________\n",
            "dense (Dense)                (None, 32)                25120     \n",
            "_________________________________________________________________\n",
            "dense_1 (Dense)              (None, 64)                2112      \n",
            "_________________________________________________________________\n",
            "dense_2 (Dense)              (None, 128)               8320      \n",
            "_________________________________________________________________\n",
            "dense_3 (Dense)              (None, 10)                1290      \n",
            "=================================================================\n",
            "Total params: 36,842\n",
            "Trainable params: 36,842\n",
            "Non-trainable params: 0\n",
            "_________________________________________________________________\n"
          ],
          "name": "stdout"
        }
      ]
    },
    {
      "cell_type": "markdown",
      "metadata": {
        "id": "u4vxhe726oQz"
      },
      "source": [
        "---"
      ]
    },
    {
      "cell_type": "markdown",
      "metadata": {
        "id": "MEiA60Oo6oQz"
      },
      "source": [
        "# 1. callback 만들기\n",
        "\n",
        "https://keras.io/callbacks/#earlystopping\n",
        "\n",
        "- monitor: early stopping을 결정하는 기준\n",
        "- min_delta: 이거보다 변화가 작으면 멈춘다.\n",
        "- patience: 이 숫자의 epoch만큼 변하지 개선(감소)되지 않으면 멈춘다. (2로 설정시, 2연속 val_loss가 증가하면 train 중지)\n"
      ]
    },
    {
      "cell_type": "code",
      "metadata": {
        "id": "7gLoLoEr6oQz"
      },
      "source": [
        "from tensorflow.keras.callbacks import EarlyStopping"
      ],
      "execution_count": null,
      "outputs": []
    },
    {
      "cell_type": "code",
      "metadata": {
        "id": "_Dwxbx9B6oQz"
      },
      "source": [
        "es = EarlyStopping(monitor='val_loss', patience=2, verbose=1)"
      ],
      "execution_count": null,
      "outputs": []
    },
    {
      "cell_type": "code",
      "metadata": {
        "id": "gv53VC6s6oQz",
        "outputId": "7d91192b-f3c1-4110-f9ab-3c22b499b2b3"
      },
      "source": [
        "model = create_model()\n",
        "\n",
        "history = model.fit(x, y,  epochs = 20, validation_split = 1/6,callbacks = [es], batch_size= 512)"
      ],
      "execution_count": null,
      "outputs": [
        {
          "output_type": "stream",
          "text": [
            "Epoch 1/20\n",
            "98/98 [==============================] - 3s 20ms/step - loss: 1.3961 - accuracy: 0.4985 - val_loss: 0.5467 - val_accuracy: 0.8097\n",
            "Epoch 2/20\n",
            "98/98 [==============================] - 1s 6ms/step - loss: 0.5077 - accuracy: 0.8226 - val_loss: 0.4804 - val_accuracy: 0.8275\n",
            "Epoch 3/20\n",
            "98/98 [==============================] - 1s 7ms/step - loss: 0.4391 - accuracy: 0.8457 - val_loss: 0.4312 - val_accuracy: 0.8531\n",
            "Epoch 4/20\n",
            "98/98 [==============================] - 1s 7ms/step - loss: 0.4102 - accuracy: 0.8552 - val_loss: 0.4174 - val_accuracy: 0.8523\n",
            "Epoch 5/20\n",
            "98/98 [==============================] - 1s 5ms/step - loss: 0.3911 - accuracy: 0.8606 - val_loss: 0.4003 - val_accuracy: 0.8559\n",
            "Epoch 6/20\n",
            "98/98 [==============================] - 1s 6ms/step - loss: 0.3656 - accuracy: 0.8688 - val_loss: 0.3777 - val_accuracy: 0.8655\n",
            "Epoch 7/20\n",
            "98/98 [==============================] - 1s 6ms/step - loss: 0.3461 - accuracy: 0.8757 - val_loss: 0.3821 - val_accuracy: 0.8629\n",
            "Epoch 8/20\n",
            "98/98 [==============================] - 1s 6ms/step - loss: 0.3430 - accuracy: 0.8764 - val_loss: 0.3831 - val_accuracy: 0.8611\n",
            "Epoch 00008: early stopping\n"
          ],
          "name": "stdout"
        }
      ]
    },
    {
      "cell_type": "code",
      "metadata": {
        "id": "810L5iOC6oQ0",
        "outputId": "bf2b6c3e-dc66-4174-8131-c684dcb31e69"
      },
      "source": [
        "model = create_model()\n",
        "\n",
        "history = model.fit(x, y,  epochs = 20, validation_split = 1/6,callbacks = [es], batch_size= 512)"
      ],
      "execution_count": null,
      "outputs": [
        {
          "output_type": "stream",
          "text": [
            "Epoch 1/20\n",
            "98/98 [==============================] - 1s 7ms/step - loss: 1.3897 - accuracy: 0.5296 - val_loss: 0.5509 - val_accuracy: 0.8002\n",
            "Epoch 2/20\n",
            "98/98 [==============================] - 1s 5ms/step - loss: 0.4952 - accuracy: 0.8257 - val_loss: 0.4879 - val_accuracy: 0.8197\n",
            "Epoch 3/20\n",
            "98/98 [==============================] - 1s 6ms/step - loss: 0.4413 - accuracy: 0.8453 - val_loss: 0.4423 - val_accuracy: 0.8489\n",
            "Epoch 4/20\n",
            "98/98 [==============================] - 1s 6ms/step - loss: 0.4108 - accuracy: 0.8547 - val_loss: 0.4170 - val_accuracy: 0.8541\n",
            "Epoch 5/20\n",
            "98/98 [==============================] - 1s 6ms/step - loss: 0.3939 - accuracy: 0.8619 - val_loss: 0.3992 - val_accuracy: 0.8583\n",
            "Epoch 6/20\n",
            "98/98 [==============================] - 1s 6ms/step - loss: 0.3677 - accuracy: 0.8708 - val_loss: 0.3766 - val_accuracy: 0.8678\n",
            "Epoch 7/20\n",
            "98/98 [==============================] - 1s 6ms/step - loss: 0.3491 - accuracy: 0.8789 - val_loss: 0.3772 - val_accuracy: 0.8666\n",
            "Epoch 8/20\n",
            "98/98 [==============================] - 1s 6ms/step - loss: 0.3475 - accuracy: 0.8769 - val_loss: 0.3820 - val_accuracy: 0.8644\n",
            "Epoch 00008: early stopping\n"
          ],
          "name": "stdout"
        }
      ]
    },
    {
      "cell_type": "code",
      "metadata": {
        "id": "vPpmi_1W6oQ0"
      },
      "source": [
        "import matplotlib.pyplot as plt"
      ],
      "execution_count": null,
      "outputs": []
    },
    {
      "cell_type": "code",
      "metadata": {
        "id": "wr6ewkoL6oQ0",
        "outputId": "1e20d2ed-7575-4a24-e30e-e82d903af684"
      },
      "source": [
        "loss = history.history['loss']\n",
        "val_loss = history.history['val_loss']\n",
        "\n",
        "epochs = range(1, len(loss) + 1)\n",
        "\n",
        "plt.figure(figsize=(20,5))\n",
        "plt.plot(epochs, loss, 'r', label = 'Training loss')\n",
        "plt.plot(epochs, val_loss, 'b', label = 'Validation loss')\n",
        "plt.title('Training and validation loss')\n",
        "plt.xlabel('Epochs')\n",
        "plt.ylabel('Loss')\n",
        "plt.legend() \n",
        "plt.xlim(5,9)\n",
        "plt.ylim(0.3,0.4)\n",
        "\n",
        "plt.show()"
      ],
      "execution_count": null,
      "outputs": [
        {
          "output_type": "display_data",
          "data": {
            "image/png": "[encoded data removed]",
            "text/plain": [
              "<Figure size 1440x360 with 1 Axes>"
            ]
          },
          "metadata": {
            "tags": [],
            "needs_background": "light"
          }
        }
      ]
    },
    {
      "cell_type": "code",
      "metadata": {
        "id": "_VCOXhZZ6oQ0"
      },
      "source": [
        ""
      ],
      "execution_count": null,
      "outputs": []
    }
  ]
}