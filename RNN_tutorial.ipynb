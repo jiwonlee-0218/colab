{
  "nbformat": 4,
  "nbformat_minor": 0,
  "metadata": {
    "kernelspec": {
      "display_name": "Python 3",
      "language": "python",
      "name": "python3"
    },
    "language_info": {
      "codemirror_mode": {
        "name": "ipython",
        "version": 3
      },
      "file_extension": ".py",
      "mimetype": "text/x-python",
      "name": "python",
      "nbconvert_exporter": "python",
      "pygments_lexer": "ipython3",
      "version": "3.8.5"
    },
    "colab": {
      "name": "RNN_tutorial.ipynb",
      "provenance": [],
      "collapsed_sections": [
        "-ELLqabnxRnd",
        "1NTLXi7txRnd"
      ],
      "include_colab_link": true
    }
  },
  "cells": [
    {
      "cell_type": "markdown",
      "metadata": {
        "id": "view-in-github",
        "colab_type": "text"
      },
      "source": [
        "<a href=\"https://colab.research.google.com/github/jiwonlee-0218/colab/blob/main/RNN_tutorial.ipynb\" target=\"_parent\"><img src=\"https://colab.research.google.com/assets/colab-badge.svg\" alt=\"Open In Colab\"/></a>"
      ]
    },
    {
      "cell_type": "code",
      "metadata": {
        "id": "rdyap2ZGxRmW"
      },
      "source": [
        "import numpy as np"
      ],
      "execution_count": null,
      "outputs": []
    },
    {
      "cell_type": "markdown",
      "metadata": {
        "id": "t5Yji9F7xRmZ"
      },
      "source": [
        "# 0. hyperparameter 상수화\n",
        "\n",
        "#### hyperparamter 자주 바꾸게 되므로 python에는 상수라는 개념이 없지만 C처럼 맨 위에 상수처럼 선언하고 진행\n",
        "\n",
        "#### (다른 kernel들을 보면 대문자로 맨 위에서 선언하고 진행하는 경우가 많습니다.)\n",
        "\n",
        "max_features = 사용할 단어의 최대 개수\n",
        "\n",
        "max_len = 문장의 최대 길이\n",
        "\n",
        "embedding_dims = 단어 vector 내부의 원소 개수"
      ]
    },
    {
      "cell_type": "code",
      "metadata": {
        "id": "cykOLWLMxRmc"
      },
      "source": [
        "max_features = 20000 # 문장마다 단어의 갯수가 다른데 딥러닝에 넣을때는 각 단어의 갯수가 같아야 한다 그래서 그 단어를 맞춰주는 작업을 해야한다\n",
        "# text data에서 단어를 vector로 바꿔줘야한다\n",
        "# 하나의 데이터 즉 하나의 문장은 2d array\n",
        "max_len = 200 # time_step\n",
        "embedding_dims = 50 # feature"
      ],
      "execution_count": null,
      "outputs": []
    },
    {
      "cell_type": "markdown",
      "metadata": {
        "id": "sTE1x5JdxRme"
      },
      "source": [
        "-----------"
      ]
    },
    {
      "cell_type": "markdown",
      "metadata": {
        "id": "wvBpAae2xRmf"
      },
      "source": [
        "# 1. data upload"
      ]
    },
    {
      "cell_type": "code",
      "metadata": {
        "id": "NdeHD4qlxRmg"
      },
      "source": [
        "from tensorflow.keras.datasets import imdb"
      ],
      "execution_count": null,
      "outputs": []
    },
    {
      "cell_type": "markdown",
      "metadata": {
        "id": "cicsYgolxRmi"
      },
      "source": [
        "## 1) data upload"
      ]
    },
    {
      "cell_type": "code",
      "metadata": {
        "id": "rOWwsK2VxRmk",
        "colab": {
          "base_uri": "https://localhost:8080/"
        },
        "outputId": "215ded49-8f4f-486c-ce05-0d5f65334290"
      },
      "source": [
        "(x_train, y_train), (x_test, y_test) = imdb.load_data(num_words=max_features) # imdb 데이터중 20000개를 사용하겠다는 소리"
      ],
      "execution_count": null,
      "outputs": [
        {
          "output_type": "stream",
          "text": [
            "Downloading data from https://storage.googleapis.com/tensorflow/tf-keras-datasets/imdb.npz\n",
            "17465344/17464789 [==============================] - 0s 0us/step\n"
          ],
          "name": "stdout"
        },
        {
          "output_type": "stream",
          "text": [
            "<string>:6: VisibleDeprecationWarning: Creating an ndarray from ragged nested sequences (which is a list-or-tuple of lists-or-tuples-or ndarrays with different lengths or shapes) is deprecated. If you meant to do this, you must specify 'dtype=object' when creating the ndarray\n",
            "/usr/local/lib/python3.7/dist-packages/tensorflow/python/keras/datasets/imdb.py:159: VisibleDeprecationWarning: Creating an ndarray from ragged nested sequences (which is a list-or-tuple of lists-or-tuples-or ndarrays with different lengths or shapes) is deprecated. If you meant to do this, you must specify 'dtype=object' when creating the ndarray\n",
            "  x_train, y_train = np.array(xs[:idx]), np.array(labels[:idx])\n",
            "/usr/local/lib/python3.7/dist-packages/tensorflow/python/keras/datasets/imdb.py:160: VisibleDeprecationWarning: Creating an ndarray from ragged nested sequences (which is a list-or-tuple of lists-or-tuples-or ndarrays with different lengths or shapes) is deprecated. If you meant to do this, you must specify 'dtype=object' when creating the ndarray\n",
            "  x_test, y_test = np.array(xs[idx:]), np.array(labels[idx:])\n"
          ],
          "name": "stderr"
        }
      ]
    },
    {
      "cell_type": "markdown",
      "metadata": {
        "id": "oeRMrOiNxRmo"
      },
      "source": [
        "## 2) data에 대한 파악 - X"
      ]
    },
    {
      "cell_type": "code",
      "metadata": {
        "id": "pJ5kVh3MxRms",
        "colab": {
          "base_uri": "https://localhost:8080/"
        },
        "outputId": "65bffb83-526a-4b0d-a1e4-1cd1e1f6455c"
      },
      "source": [
        "x_train.shape"
      ],
      "execution_count": null,
      "outputs": [
        {
          "output_type": "execute_result",
          "data": {
            "text/plain": [
              "(25000,)"
            ]
          },
          "metadata": {
            "tags": []
          },
          "execution_count": 7
        }
      ]
    },
    {
      "cell_type": "code",
      "metadata": {
        "colab": {
          "base_uri": "https://localhost:8080/"
        },
        "id": "oQ-uD0knYcgu",
        "outputId": "e5050890-3359-4295-aec6-6cd66c1edad8"
      },
      "source": [
        "x_train.ndim"
      ],
      "execution_count": null,
      "outputs": [
        {
          "output_type": "execute_result",
          "data": {
            "text/plain": [
              "1"
            ]
          },
          "metadata": {
            "tags": []
          },
          "execution_count": 22
        }
      ]
    },
    {
      "cell_type": "code",
      "metadata": {
        "id": "CcbBBdI5xRmv",
        "colab": {
          "base_uri": "https://localhost:8080/"
        },
        "outputId": "805b0518-56dd-4991-f3e3-bb46feadb3db"
      },
      "source": [
        "print('train data가 ' + str(len(x_train)) +'개')"
      ],
      "execution_count": null,
      "outputs": [
        {
          "output_type": "stream",
          "text": [
            "train data가 25000개\n"
          ],
          "name": "stdout"
        }
      ]
    },
    {
      "cell_type": "markdown",
      "metadata": {
        "id": "wpa-34mCxRm0"
      },
      "source": [
        "NLP의 경우 text형태로 데이터가 들어있다\n",
        "\n",
        "딥러닝 모델은 숫자를 받습니다.\n",
        "\n",
        "text -> index(스칼라값) ->(embedding) -> vector\n",
        "\n",
        "단어들을 숫자값으로 놓으면 의미관계들을 파악하기 어려우므로 vector로 바꿔주는데 이 작업을 embedding이라고한다"
      ]
    },
    {
      "cell_type": "markdown",
      "metadata": {
        "id": "ar95_hTvxRm1"
      },
      "source": [
        "그럼 data 내부는 어떻게 구성되어 있는가?\n",
        "\n",
        "원래는 text(문자 data) 자체를 vector로 변환하는 작업 필요하지만 NLP를 자세히 다루는 시간이 아니기 때문에 \n",
        "\n",
        "숫자(vector) 형태의 data를 보게 됩니다."
      ]
    },
    {
      "cell_type": "code",
      "metadata": {
        "id": "nJXEZr0fxRm1",
        "colab": {
          "base_uri": "https://localhost:8080/"
        },
        "outputId": "b00bd83f-ed6c-468d-e29c-9fbdaf42a924"
      },
      "source": [
        "x_train # 25000개  이미 index로 바뀌어져있음  list 하나당 하나의 문장"
      ],
      "execution_count": null,
      "outputs": [
        {
          "output_type": "execute_result",
          "data": {
            "text/plain": [
              "array([list([1, 14, 22, 16, 43, 530, 973, 1622, 1385, 65, 458, 4468, 66, 3941, 4, 173, 36, 256, 5, 25, 100, 43, 838, 112, 50, 670, 2, 9, 35, 480, 284, 5, 150, 4, 172, 112, 167, 2, 336, 385, 39, 4, 172, 4536, 1111, 17, 546, 38, 13, 447, 4, 192, 50, 16, 6, 147, 2025, 19, 14, 22, 4, 1920, 4613, 469, 4, 22, 71, 87, 12, 16, 43, 530, 38, 76, 15, 13, 1247, 4, 22, 17, 515, 17, 12, 16, 626, 18, 19193, 5, 62, 386, 12, 8, 316, 8, 106, 5, 4, 2223, 5244, 16, 480, 66, 3785, 33, 4, 130, 12, 16, 38, 619, 5, 25, 124, 51, 36, 135, 48, 25, 1415, 33, 6, 22, 12, 215, 28, 77, 52, 5, 14, 407, 16, 82, 10311, 8, 4, 107, 117, 5952, 15, 256, 4, 2, 7, 3766, 5, 723, 36, 71, 43, 530, 476, 26, 400, 317, 46, 7, 4, 12118, 1029, 13, 104, 88, 4, 381, 15, 297, 98, 32, 2071, 56, 26, 141, 6, 194, 7486, 18, 4, 226, 22, 21, 134, 476, 26, 480, 5, 144, 30, 5535, 18, 51, 36, 28, 224, 92, 25, 104, 4, 226, 65, 16, 38, 1334, 88, 12, 16, 283, 5, 16, 4472, 113, 103, 32, 15, 16, 5345, 19, 178, 32]),\n",
              "       list([1, 194, 1153, 194, 8255, 78, 228, 5, 6, 1463, 4369, 5012, 134, 26, 4, 715, 8, 118, 1634, 14, 394, 20, 13, 119, 954, 189, 102, 5, 207, 110, 3103, 21, 14, 69, 188, 8, 30, 23, 7, 4, 249, 126, 93, 4, 114, 9, 2300, 1523, 5, 647, 4, 116, 9, 35, 8163, 4, 229, 9, 340, 1322, 4, 118, 9, 4, 130, 4901, 19, 4, 1002, 5, 89, 29, 952, 46, 37, 4, 455, 9, 45, 43, 38, 1543, 1905, 398, 4, 1649, 26, 6853, 5, 163, 11, 3215, 10156, 4, 1153, 9, 194, 775, 7, 8255, 11596, 349, 2637, 148, 605, 15358, 8003, 15, 123, 125, 68, 2, 6853, 15, 349, 165, 4362, 98, 5, 4, 228, 9, 43, 2, 1157, 15, 299, 120, 5, 120, 174, 11, 220, 175, 136, 50, 9, 4373, 228, 8255, 5, 2, 656, 245, 2350, 5, 4, 9837, 131, 152, 491, 18, 2, 32, 7464, 1212, 14, 9, 6, 371, 78, 22, 625, 64, 1382, 9, 8, 168, 145, 23, 4, 1690, 15, 16, 4, 1355, 5, 28, 6, 52, 154, 462, 33, 89, 78, 285, 16, 145, 95]),\n",
              "       list([1, 14, 47, 8, 30, 31, 7, 4, 249, 108, 7, 4, 5974, 54, 61, 369, 13, 71, 149, 14, 22, 112, 4, 2401, 311, 12, 16, 3711, 33, 75, 43, 1829, 296, 4, 86, 320, 35, 534, 19, 263, 4821, 1301, 4, 1873, 33, 89, 78, 12, 66, 16, 4, 360, 7, 4, 58, 316, 334, 11, 4, 1716, 43, 645, 662, 8, 257, 85, 1200, 42, 1228, 2578, 83, 68, 3912, 15, 36, 165, 1539, 278, 36, 69, 2, 780, 8, 106, 14, 6905, 1338, 18, 6, 22, 12, 215, 28, 610, 40, 6, 87, 326, 23, 2300, 21, 23, 22, 12, 272, 40, 57, 31, 11, 4, 22, 47, 6, 2307, 51, 9, 170, 23, 595, 116, 595, 1352, 13, 191, 79, 638, 89, 2, 14, 9, 8, 106, 607, 624, 35, 534, 6, 227, 7, 129, 113]),\n",
              "       ...,\n",
              "       list([1, 11, 6, 230, 245, 6401, 9, 6, 1225, 446, 2, 45, 2174, 84, 8322, 4007, 21, 4, 912, 84, 14532, 325, 725, 134, 15271, 1715, 84, 5, 36, 28, 57, 1099, 21, 8, 140, 8, 703, 5, 11656, 84, 56, 18, 1644, 14, 9, 31, 7, 4, 9406, 1209, 2295, 2, 1008, 18, 6, 20, 207, 110, 563, 12, 8, 2901, 17793, 8, 97, 6, 20, 53, 4767, 74, 4, 460, 364, 1273, 29, 270, 11, 960, 108, 45, 40, 29, 2961, 395, 11, 6, 4065, 500, 7, 14492, 89, 364, 70, 29, 140, 4, 64, 4780, 11, 4, 2678, 26, 178, 4, 529, 443, 17793, 5, 27, 710, 117, 2, 8123, 165, 47, 84, 37, 131, 818, 14, 595, 10, 10, 61, 1242, 1209, 10, 10, 288, 2260, 1702, 34, 2901, 17793, 4, 65, 496, 4, 231, 7, 790, 5, 6, 320, 234, 2766, 234, 1119, 1574, 7, 496, 4, 139, 929, 2901, 17793, 7750, 5, 4241, 18, 4, 8497, 13164, 250, 11, 1818, 7561, 4, 4217, 5408, 747, 1115, 372, 1890, 1006, 541, 9303, 7, 4, 59, 11027, 4, 3586, 2]),\n",
              "       list([1, 1446, 7079, 69, 72, 3305, 13, 610, 930, 8, 12, 582, 23, 5, 16, 484, 685, 54, 349, 11, 4120, 2959, 45, 58, 1466, 13, 197, 12, 16, 43, 23, 2, 5, 62, 30, 145, 402, 11, 4131, 51, 575, 32, 61, 369, 71, 66, 770, 12, 1054, 75, 100, 2198, 8, 4, 105, 37, 69, 147, 712, 75, 3543, 44, 257, 390, 5, 69, 263, 514, 105, 50, 286, 1814, 23, 4, 123, 13, 161, 40, 5, 421, 4, 116, 16, 897, 13, 2, 40, 319, 5872, 112, 6700, 11, 4803, 121, 25, 70, 3468, 4, 719, 3798, 13, 18, 31, 62, 40, 8, 7200, 4, 2, 7, 14, 123, 5, 942, 25, 8, 721, 12, 145, 5, 202, 12, 160, 580, 202, 12, 6, 52, 58, 11418, 92, 401, 728, 12, 39, 14, 251, 8, 15, 251, 5, 2, 12, 38, 84, 80, 124, 12, 9, 23]),\n",
              "       list([1, 17, 6, 194, 337, 7, 4, 204, 22, 45, 254, 8, 106, 14, 123, 4, 12815, 270, 14437, 5, 16923, 12255, 732, 2098, 101, 405, 39, 14, 1034, 4, 1310, 9, 115, 50, 305, 12, 47, 4, 168, 5, 235, 7, 38, 111, 699, 102, 7, 4, 4039, 9245, 9, 24, 6, 78, 1099, 17, 2345, 16553, 21, 27, 9685, 6139, 5, 2, 1603, 92, 1183, 4, 1310, 7, 4, 204, 42, 97, 90, 35, 221, 109, 29, 127, 27, 118, 8, 97, 12, 157, 21, 6789, 2, 9, 6, 66, 78, 1099, 4, 631, 1191, 5, 2642, 272, 191, 1070, 6, 7585, 8, 2197, 2, 10755, 544, 5, 383, 1271, 848, 1468, 12183, 497, 16876, 8, 1597, 8778, 19280, 21, 60, 27, 239, 9, 43, 8368, 209, 405, 10, 10, 12, 764, 40, 4, 248, 20, 12, 16, 5, 174, 1791, 72, 7, 51, 6, 1739, 22, 4, 204, 131, 9])],\n",
              "      dtype=object)"
            ]
          },
          "metadata": {
            "tags": []
          },
          "execution_count": 10
        }
      ]
    },
    {
      "cell_type": "markdown",
      "metadata": {
        "id": "JinwDdHixRm5"
      },
      "source": [
        "25000개의 문장이 x_train에 담겨있다.\n",
        "\n",
        "그럼 그 문장은 어떻게 생겼는가?"
      ]
    },
    {
      "cell_type": "code",
      "metadata": {
        "id": "7BLdsqacxRm_",
        "outputId": "eb2c8903-ab12-47c5-bccd-5519a9848c73"
      },
      "source": [
        "print(x_train[0])"
      ],
      "execution_count": null,
      "outputs": [
        {
          "output_type": "stream",
          "text": [
            "[1, 14, 22, 16, 43, 530, 973, 1622, 1385, 65, 458, 4468, 66, 3941, 4, 173, 36, 256, 5, 25, 100, 43, 838, 112, 50, 670, 2, 9, 35, 480, 284, 5, 150, 4, 172, 112, 167, 2, 336, 385, 39, 4, 172, 4536, 1111, 17, 546, 38, 13, 447, 4, 192, 50, 16, 6, 147, 2025, 19, 14, 22, 4, 1920, 4613, 469, 4, 22, 71, 87, 12, 16, 43, 530, 38, 76, 15, 13, 1247, 4, 22, 17, 515, 17, 12, 16, 626, 18, 19193, 5, 62, 386, 12, 8, 316, 8, 106, 5, 4, 2223, 5244, 16, 480, 66, 3785, 33, 4, 130, 12, 16, 38, 619, 5, 25, 124, 51, 36, 135, 48, 25, 1415, 33, 6, 22, 12, 215, 28, 77, 52, 5, 14, 407, 16, 82, 10311, 8, 4, 107, 117, 5952, 15, 256, 4, 2, 7, 3766, 5, 723, 36, 71, 43, 530, 476, 26, 400, 317, 46, 7, 4, 12118, 1029, 13, 104, 88, 4, 381, 15, 297, 98, 32, 2071, 56, 26, 141, 6, 194, 7486, 18, 4, 226, 22, 21, 134, 476, 26, 480, 5, 144, 30, 5535, 18, 51, 36, 28, 224, 92, 25, 104, 4, 226, 65, 16, 38, 1334, 88, 12, 16, 283, 5, 16, 4472, 113, 103, 32, 15, 16, 5345, 19, 178, 32]\n"
          ],
          "name": "stdout"
        }
      ]
    },
    {
      "cell_type": "code",
      "metadata": {
        "id": "OObI-m3ExRnB",
        "colab": {
          "base_uri": "https://localhost:8080/"
        },
        "outputId": "77f4ef6e-59fd-4107-a42a-5962802d95e2"
      },
      "source": [
        "len(x_train[0]) # 하나의 데이터인 한 문장 내에는 218개의 단어가 존재"
      ],
      "execution_count": null,
      "outputs": [
        {
          "output_type": "execute_result",
          "data": {
            "text/plain": [
              "218"
            ]
          },
          "metadata": {
            "tags": []
          },
          "execution_count": 12
        }
      ]
    },
    {
      "cell_type": "code",
      "metadata": {
        "id": "k49cv0p4xRnF",
        "colab": {
          "base_uri": "https://localhost:8080/"
        },
        "outputId": "15f2db3b-c0d0-4e05-f78b-4fe873e43133"
      },
      "source": [
        "len(x_train[1])"
      ],
      "execution_count": null,
      "outputs": [
        {
          "output_type": "execute_result",
          "data": {
            "text/plain": [
              "189"
            ]
          },
          "metadata": {
            "tags": []
          },
          "execution_count": 13
        }
      ]
    },
    {
      "cell_type": "markdown",
      "metadata": {
        "id": "GxAKPksRxRnH"
      },
      "source": [
        "각 문장의 길이가 다르다는 문제가 생김"
      ]
    },
    {
      "cell_type": "markdown",
      "metadata": {
        "id": "nNpnW-3HxRnI"
      },
      "source": [
        "## 3) data에 대한 파악 - y"
      ]
    },
    {
      "cell_type": "code",
      "metadata": {
        "id": "G6W_TgkaxRnJ",
        "colab": {
          "base_uri": "https://localhost:8080/"
        },
        "outputId": "5c45ca48-c022-4cd4-ed0d-645292385226"
      },
      "source": [
        "y_train.shape"
      ],
      "execution_count": null,
      "outputs": [
        {
          "output_type": "execute_result",
          "data": {
            "text/plain": [
              "(25000,)"
            ]
          },
          "metadata": {
            "tags": []
          },
          "execution_count": 18
        }
      ]
    },
    {
      "cell_type": "code",
      "metadata": {
        "id": "8UpS9puExRnN",
        "colab": {
          "base_uri": "https://localhost:8080/"
        },
        "outputId": "6e8635ae-e81c-4418-c5dc-ab0af61fde67"
      },
      "source": [
        "print('역시 train data가 ' + str(len(y_train)) +'개')"
      ],
      "execution_count": null,
      "outputs": [
        {
          "output_type": "stream",
          "text": [
            "역시 train data가 25000개\n"
          ],
          "name": "stdout"
        }
      ]
    },
    {
      "cell_type": "markdown",
      "metadata": {
        "id": "ed2WbYnhxRnP"
      },
      "source": [
        "그 값은 어떻게 구성이 되어있는가?"
      ]
    },
    {
      "cell_type": "code",
      "metadata": {
        "id": "i1OeAmBvxRnQ",
        "colab": {
          "base_uri": "https://localhost:8080/"
        },
        "outputId": "5d407f31-960a-4b40-c99c-0e7ebeac0302"
      },
      "source": [
        "y_train"
      ],
      "execution_count": null,
      "outputs": [
        {
          "output_type": "execute_result",
          "data": {
            "text/plain": [
              "array([1, 0, 0, ..., 0, 1, 0])"
            ]
          },
          "metadata": {
            "tags": []
          },
          "execution_count": 20
        }
      ]
    },
    {
      "cell_type": "markdown",
      "metadata": {
        "id": "PdlbV1slxRnV"
      },
      "source": [
        "0과 1이니 왠지 binary classfication? \n",
        "\n",
        "하지만 확인이 필요합니다."
      ]
    },
    {
      "cell_type": "code",
      "metadata": {
        "id": "11mUmyCcxRnW",
        "colab": {
          "base_uri": "https://localhost:8080/"
        },
        "outputId": "4c2a8409-a57e-46d1-ffdf-39bba1da57d5"
      },
      "source": [
        "np.unique(y_train)"
      ],
      "execution_count": null,
      "outputs": [
        {
          "output_type": "execute_result",
          "data": {
            "text/plain": [
              "array([0, 1])"
            ]
          },
          "metadata": {
            "tags": []
          },
          "execution_count": 21
        }
      ]
    },
    {
      "cell_type": "markdown",
      "metadata": {
        "id": "0z4JGPLTxRnX"
      },
      "source": [
        "0과 1로만 구성이 되어있으므로 binary classification 맞습니다. (긍정 리뷰와 부정 리뷰 구분)"
      ]
    },
    {
      "cell_type": "markdown",
      "metadata": {
        "id": "PtKjCS4fxRnY"
      },
      "source": [
        "------"
      ]
    },
    {
      "cell_type": "markdown",
      "metadata": {
        "id": "0Oe0bqkQxRnZ"
      },
      "source": [
        "# 2. data preprocess"
      ]
    },
    {
      "cell_type": "markdown",
      "metadata": {
        "id": "UVMIJki9xRnZ"
      },
      "source": [
        "**오늘은 다른 전처리는 생략하고 진행하겠습니다.**"
      ]
    },
    {
      "cell_type": "code",
      "metadata": {
        "id": "qZw9EMgqxRna",
        "outputId": "a32b0705-c668-4a82-95f0-08e6db064316"
      },
      "source": [
        "print(x_train[0])"
      ],
      "execution_count": null,
      "outputs": [
        {
          "output_type": "stream",
          "text": [
            "[1, 14, 22, 16, 43, 530, 973, 1622, 1385, 65, 458, 4468, 66, 3941, 4, 173, 36, 256, 5, 25, 100, 43, 838, 112, 50, 670, 2, 9, 35, 480, 284, 5, 150, 4, 172, 112, 167, 2, 336, 385, 39, 4, 172, 4536, 1111, 17, 546, 38, 13, 447, 4, 192, 50, 16, 6, 147, 2025, 19, 14, 22, 4, 1920, 4613, 469, 4, 22, 71, 87, 12, 16, 43, 530, 38, 76, 15, 13, 1247, 4, 22, 17, 515, 17, 12, 16, 626, 18, 19193, 5, 62, 386, 12, 8, 316, 8, 106, 5, 4, 2223, 5244, 16, 480, 66, 3785, 33, 4, 130, 12, 16, 38, 619, 5, 25, 124, 51, 36, 135, 48, 25, 1415, 33, 6, 22, 12, 215, 28, 77, 52, 5, 14, 407, 16, 82, 10311, 8, 4, 107, 117, 5952, 15, 256, 4, 2, 7, 3766, 5, 723, 36, 71, 43, 530, 476, 26, 400, 317, 46, 7, 4, 12118, 1029, 13, 104, 88, 4, 381, 15, 297, 98, 32, 2071, 56, 26, 141, 6, 194, 7486, 18, 4, 226, 22, 21, 134, 476, 26, 480, 5, 144, 30, 5535, 18, 51, 36, 28, 224, 92, 25, 104, 4, 226, 65, 16, 38, 1334, 88, 12, 16, 283, 5, 16, 4472, 113, 103, 32, 15, 16, 5345, 19, 178, 32]\n"
          ],
          "name": "stdout"
        }
      ]
    },
    {
      "cell_type": "markdown",
      "metadata": {
        "id": "bA0kqGGRxRna"
      },
      "source": [
        "아까 문장의 길이가 각각 다르므로 진행해야하는 것은 문장의 길이를 통일하는 방법\n",
        "\n",
        "(이미지도 그렇고 전처리의 핵심 중 하나는 data의 형태를 동일하게 해주어야 합니다.)"
      ]
    },
    {
      "cell_type": "markdown",
      "metadata": {
        "id": "dZ55lBjGxRnb"
      },
      "source": [
        "--- 다시"
      ]
    },
    {
      "cell_type": "code",
      "metadata": {
        "id": "3bzfjmqgxRnb"
      },
      "source": [
        "from tensorflow.keras.preprocessing.sequence import pad_sequences"
      ],
      "execution_count": null,
      "outputs": []
    },
    {
      "cell_type": "code",
      "metadata": {
        "id": "kLV3jhj5xRnb"
      },
      "source": [
        "x_train = pad_sequences(x_train, maxlen=max_len)\n",
        "x_test = pad_sequences(x_test, maxlen=max_len)"
      ],
      "execution_count": null,
      "outputs": []
    },
    {
      "cell_type": "code",
      "metadata": {
        "id": "LrSZFG44xRnc",
        "colab": {
          "base_uri": "https://localhost:8080/"
        },
        "outputId": "384356fd-80f4-4a45-f284-cebcfcedd456"
      },
      "source": [
        "print('x_train shape:', x_train.shape)\n",
        "print('x_test shape:', x_test.shape)"
      ],
      "execution_count": null,
      "outputs": [
        {
          "output_type": "stream",
          "text": [
            "x_train shape: (25000, 200)\n",
            "x_test shape: (25000, 200)\n"
          ],
          "name": "stdout"
        }
      ]
    },
    {
      "cell_type": "code",
      "metadata": {
        "id": "9_f8vSFGxRnc",
        "colab": {
          "base_uri": "https://localhost:8080/"
        },
        "outputId": "52872013-ccb1-476e-e387-c28f8c4e0bc6"
      },
      "source": [
        "x_train[0].shape"
      ],
      "execution_count": null,
      "outputs": [
        {
          "output_type": "execute_result",
          "data": {
            "text/plain": [
              "(200,)"
            ]
          },
          "metadata": {
            "tags": []
          },
          "execution_count": 26
        }
      ]
    },
    {
      "cell_type": "code",
      "metadata": {
        "colab": {
          "base_uri": "https://localhost:8080/"
        },
        "id": "tfamhcI6Y70S",
        "outputId": "4ec26de3-c395-4b3e-9daf-095a442ec24b"
      },
      "source": [
        "x_train"
      ],
      "execution_count": null,
      "outputs": [
        {
          "output_type": "execute_result",
          "data": {
            "text/plain": [
              "array([[   5,   25,  100, ...,   19,  178,   32],\n",
              "       [   0,    0,    0, ...,   16,  145,   95],\n",
              "       [   0,    0,    0, ...,    7,  129,  113],\n",
              "       ...,\n",
              "       [   0,    0,    0, ...,    4, 3586,    2],\n",
              "       [   0,    0,    0, ...,   12,    9,   23],\n",
              "       [   0,    0,    0, ...,  204,  131,    9]], dtype=int32)"
            ]
          },
          "metadata": {
            "tags": []
          },
          "execution_count": 27
        }
      ]
    },
    {
      "cell_type": "markdown",
      "metadata": {
        "id": "iaDxY523xRnd"
      },
      "source": [
        "------"
      ]
    },
    {
      "cell_type": "markdown",
      "metadata": {
        "id": "-ELLqabnxRnd"
      },
      "source": [
        "### cf> input에 대한 이야기\n",
        "\n",
        "현재 train_x.shape = (25000, 200)\n",
        "\n",
        "현재 데이터셋 자체가 2d array이고 1개의 데이터는 1d array이다\n",
        "\n",
        "우리가 RNN 모델에 넣어야 할 data의 ndim = 3 (25000, 200, input_dim)\n",
        "\n",
        "즉, 각 단어를 vetor로 바꾸는 과정이 남았습니다.\n",
        "\n",
        "[1,2,3,4,...,6,7..] 이 한개의 스칼라 값 자체를 vector로 바꿔줘야함"
      ]
    },
    {
      "cell_type": "markdown",
      "metadata": {
        "id": "1NTLXi7txRnd"
      },
      "source": [
        "### 정리\n",
        "\n",
        "#### <font color=\"blue\"> 1> 한 문장당 단어 = max_len(200)개\n",
        "\n",
        "(이 단어 각각을 또 vector로 만든다.) \n",
        "\n",
        "#### <font color=\"blue\"> 2> 이 단어 각각 vector의 원소 개수 = embedding_dims(50)개\n",
        "\n",
        "한 단어를 원소가 몇개인 vector로 만들것인가? 50개\n",
        "    \n",
        "(이 역할을 Embedding layer에서 진행) 즉 모델 내부에서 해결"
      ]
    },
    {
      "cell_type": "markdown",
      "metadata": {
        "id": "1IeTtX5_xRne"
      },
      "source": [
        "# 3. build the model"
      ]
    },
    {
      "cell_type": "markdown",
      "metadata": {
        "id": "ZSOPYfd7xRnf"
      },
      "source": [
        "simpleRNN \n",
        "\n",
        "- return_sequence = False => 2d array\n",
        "- return_sequence = True => 3d array"
      ]
    },
    {
      "cell_type": "code",
      "metadata": {
        "id": "13KHAReTxRnf"
      },
      "source": [
        "from tensorflow.keras.models import Sequential\n",
        "from tensorflow.keras.layers import Dense, Embedding, SimpleRNN\n",
        "# simpleRNN의 경우 return_sequences의 default가 False"
      ],
      "execution_count": null,
      "outputs": []
    },
    {
      "cell_type": "code",
      "metadata": {
        "id": "TuRzvrvTxRng"
      },
      "source": [
        "def create_model():\n",
        "    model = Sequential()\n",
        "    # 2d_array (data, max_len)\n",
        "    model.add(Embedding(max_features, embedding_dims, input_length=max_len))\n",
        "    # 3d_array (data, max_len, embedding_dims)\n",
        "    model.add(SimpleRNN(32))\n",
        "    # 2d_array (data, value)\n",
        "    model.add(Dense(1, activation='sigmoid')) # Dense layer는 2d array 를 받는다\n",
        "    # 1d_array [0, 1, 0, 0, 1]\n",
        "    \n",
        "    model.compile(optimizer = 'adam', metrics=['accuracy'], loss = 'binary_crossentropy')\n",
        "\n",
        "    return model"
      ],
      "execution_count": null,
      "outputs": []
    },
    {
      "cell_type": "code",
      "metadata": {
        "id": "McawHHilxRnh"
      },
      "source": [
        "model = create_model()"
      ],
      "execution_count": null,
      "outputs": []
    },
    {
      "cell_type": "code",
      "metadata": {
        "id": "o1lzNqNVxRni",
        "colab": {
          "base_uri": "https://localhost:8080/"
        },
        "outputId": "72680def-525e-4e39-9c7c-216f1f1291b8"
      },
      "source": [
        "model.summary()"
      ],
      "execution_count": null,
      "outputs": [
        {
          "output_type": "stream",
          "text": [
            "Model: \"sequential\"\n",
            "_________________________________________________________________\n",
            "Layer (type)                 Output Shape              Param #   \n",
            "=================================================================\n",
            "embedding (Embedding)        (None, 200, 50)           1000000   \n",
            "_________________________________________________________________\n",
            "simple_rnn (SimpleRNN)       (None, 32)                2656      \n",
            "_________________________________________________________________\n",
            "dense (Dense)                (None, 1)                 33        \n",
            "=================================================================\n",
            "Total params: 1,002,689\n",
            "Trainable params: 1,002,689\n",
            "Non-trainable params: 0\n",
            "_________________________________________________________________\n"
          ],
          "name": "stdout"
        }
      ]
    },
    {
      "cell_type": "code",
      "metadata": {
        "id": "5nDzdahpxRni",
        "colab": {
          "base_uri": "https://localhost:8080/"
        },
        "outputId": "f5a3db34-9c64-4868-af09-2d1bfce69423"
      },
      "source": [
        "history = model.fit(x_train, y_train, validation_split=0.2, epochs=5, batch_size=512)"
      ],
      "execution_count": null,
      "outputs": [
        {
          "output_type": "stream",
          "text": [
            "Epoch 1/5\n",
            "40/40 [==============================] - 7s 154ms/step - loss: 0.6883 - accuracy: 0.5356 - val_loss: 0.6934 - val_accuracy: 0.5582\n",
            "Epoch 2/5\n",
            "40/40 [==============================] - 6s 144ms/step - loss: 0.5688 - accuracy: 0.7426 - val_loss: 0.4690 - val_accuracy: 0.8026\n",
            "Epoch 3/5\n",
            "40/40 [==============================] - 6s 143ms/step - loss: 0.3538 - accuracy: 0.8671 - val_loss: 0.3663 - val_accuracy: 0.8448\n",
            "Epoch 4/5\n",
            "40/40 [==============================] - 6s 144ms/step - loss: 0.2500 - accuracy: 0.9090 - val_loss: 0.3772 - val_accuracy: 0.8378\n",
            "Epoch 5/5\n",
            "40/40 [==============================] - 6s 144ms/step - loss: 0.1651 - accuracy: 0.9499 - val_loss: 0.3878 - val_accuracy: 0.8404\n"
          ],
          "name": "stdout"
        }
      ]
    },
    {
      "cell_type": "markdown",
      "metadata": {
        "id": "x9PK8rI6xRnk"
      },
      "source": [
        "------"
      ]
    },
    {
      "cell_type": "markdown",
      "metadata": {
        "id": "a6FXM4JOxRnl"
      },
      "source": [
        "# 4. F1 score 사용\n",
        "\n",
        "## 1) tensorflow의 metric을 사용\n",
        "\n",
        "- tensorflow가 아직도 불안정한 면이 일부 있습니다. 잘 안 되는 분들은 2) 아래 예시로 하셔도 됩니다."
      ]
    },
    {
      "cell_type": "code",
      "metadata": {
        "id": "UdbybPEFxRnl",
        "colab": {
          "base_uri": "https://localhost:8080/"
        },
        "outputId": "29e92e4a-cd5d-43d1-8ccb-3a37ee947d9d"
      },
      "source": [
        "# 설치가 필요한 분들은 아래 tensorflow_addons를 설치해주세요.\n",
        "\n",
        "!pip install tensorflow_addons"
      ],
      "execution_count": null,
      "outputs": [
        {
          "output_type": "stream",
          "text": [
            "Collecting tensorflow_addons\n",
            "\u001b[?25l  Downloading https://files.pythonhosted.org/packages/74/e3/56d2fe76f0bb7c88ed9b2a6a557e25e83e252aec08f13de34369cd850a0b/tensorflow_addons-0.12.1-cp37-cp37m-manylinux2010_x86_64.whl (703kB)\n",
            "\r\u001b[K     |▌                               | 10kB 22.5MB/s eta 0:00:01\r\u001b[K     |█                               | 20kB 12.9MB/s eta 0:00:01\r\u001b[K     |█▍                              | 30kB 11.7MB/s eta 0:00:01\r\u001b[K     |█▉                              | 40kB 11.4MB/s eta 0:00:01\r\u001b[K     |██▎                             | 51kB 6.9MB/s eta 0:00:01\r\u001b[K     |██▉                             | 61kB 7.1MB/s eta 0:00:01\r\u001b[K     |███▎                            | 71kB 8.0MB/s eta 0:00:01\r\u001b[K     |███▊                            | 81kB 8.7MB/s eta 0:00:01\r\u001b[K     |████▏                           | 92kB 8.3MB/s eta 0:00:01\r\u001b[K     |████▋                           | 102kB 7.6MB/s eta 0:00:01\r\u001b[K     |█████▏                          | 112kB 7.6MB/s eta 0:00:01\r\u001b[K     |█████▋                          | 122kB 7.6MB/s eta 0:00:01\r\u001b[K     |██████                          | 133kB 7.6MB/s eta 0:00:01\r\u001b[K     |██████▌                         | 143kB 7.6MB/s eta 0:00:01\r\u001b[K     |███████                         | 153kB 7.6MB/s eta 0:00:01\r\u001b[K     |███████▌                        | 163kB 7.6MB/s eta 0:00:01\r\u001b[K     |████████                        | 174kB 7.6MB/s eta 0:00:01\r\u001b[K     |████████▍                       | 184kB 7.6MB/s eta 0:00:01\r\u001b[K     |████████▉                       | 194kB 7.6MB/s eta 0:00:01\r\u001b[K     |█████████▎                      | 204kB 7.6MB/s eta 0:00:01\r\u001b[K     |█████████▉                      | 215kB 7.6MB/s eta 0:00:01\r\u001b[K     |██████████▎                     | 225kB 7.6MB/s eta 0:00:01\r\u001b[K     |██████████▊                     | 235kB 7.6MB/s eta 0:00:01\r\u001b[K     |███████████▏                    | 245kB 7.6MB/s eta 0:00:01\r\u001b[K     |███████████▋                    | 256kB 7.6MB/s eta 0:00:01\r\u001b[K     |████████████▏                   | 266kB 7.6MB/s eta 0:00:01\r\u001b[K     |████████████▋                   | 276kB 7.6MB/s eta 0:00:01\r\u001b[K     |█████████████                   | 286kB 7.6MB/s eta 0:00:01\r\u001b[K     |█████████████▌                  | 296kB 7.6MB/s eta 0:00:01\r\u001b[K     |██████████████                  | 307kB 7.6MB/s eta 0:00:01\r\u001b[K     |██████████████▍                 | 317kB 7.6MB/s eta 0:00:01\r\u001b[K     |███████████████                 | 327kB 7.6MB/s eta 0:00:01\r\u001b[K     |███████████████▍                | 337kB 7.6MB/s eta 0:00:01\r\u001b[K     |███████████████▉                | 348kB 7.6MB/s eta 0:00:01\r\u001b[K     |████████████████▎               | 358kB 7.6MB/s eta 0:00:01\r\u001b[K     |████████████████▊               | 368kB 7.6MB/s eta 0:00:01\r\u001b[K     |█████████████████▎              | 378kB 7.6MB/s eta 0:00:01\r\u001b[K     |█████████████████▊              | 389kB 7.6MB/s eta 0:00:01\r\u001b[K     |██████████████████▏             | 399kB 7.6MB/s eta 0:00:01\r\u001b[K     |██████████████████▋             | 409kB 7.6MB/s eta 0:00:01\r\u001b[K     |███████████████████             | 419kB 7.6MB/s eta 0:00:01\r\u001b[K     |███████████████████▋            | 430kB 7.6MB/s eta 0:00:01\r\u001b[K     |████████████████████            | 440kB 7.6MB/s eta 0:00:01\r\u001b[K     |████████████████████▌           | 450kB 7.6MB/s eta 0:00:01\r\u001b[K     |█████████████████████           | 460kB 7.6MB/s eta 0:00:01\r\u001b[K     |█████████████████████▍          | 471kB 7.6MB/s eta 0:00:01\r\u001b[K     |██████████████████████          | 481kB 7.6MB/s eta 0:00:01\r\u001b[K     |██████████████████████▍         | 491kB 7.6MB/s eta 0:00:01\r\u001b[K     |██████████████████████▉         | 501kB 7.6MB/s eta 0:00:01\r\u001b[K     |███████████████████████▎        | 512kB 7.6MB/s eta 0:00:01\r\u001b[K     |███████████████████████▊        | 522kB 7.6MB/s eta 0:00:01\r\u001b[K     |████████████████████████▎       | 532kB 7.6MB/s eta 0:00:01\r\u001b[K     |████████████████████████▊       | 542kB 7.6MB/s eta 0:00:01\r\u001b[K     |█████████████████████████▏      | 552kB 7.6MB/s eta 0:00:01\r\u001b[K     |█████████████████████████▋      | 563kB 7.6MB/s eta 0:00:01\r\u001b[K     |██████████████████████████      | 573kB 7.6MB/s eta 0:00:01\r\u001b[K     |██████████████████████████▋     | 583kB 7.6MB/s eta 0:00:01\r\u001b[K     |███████████████████████████     | 593kB 7.6MB/s eta 0:00:01\r\u001b[K     |███████████████████████████▌    | 604kB 7.6MB/s eta 0:00:01\r\u001b[K     |████████████████████████████    | 614kB 7.6MB/s eta 0:00:01\r\u001b[K     |████████████████████████████▍   | 624kB 7.6MB/s eta 0:00:01\r\u001b[K     |████████████████████████████▉   | 634kB 7.6MB/s eta 0:00:01\r\u001b[K     |█████████████████████████████▍  | 645kB 7.6MB/s eta 0:00:01\r\u001b[K     |█████████████████████████████▉  | 655kB 7.6MB/s eta 0:00:01\r\u001b[K     |██████████████████████████████▎ | 665kB 7.6MB/s eta 0:00:01\r\u001b[K     |██████████████████████████████▊ | 675kB 7.6MB/s eta 0:00:01\r\u001b[K     |███████████████████████████████▏| 686kB 7.6MB/s eta 0:00:01\r\u001b[K     |███████████████████████████████▊| 696kB 7.6MB/s eta 0:00:01\r\u001b[K     |████████████████████████████████| 706kB 7.6MB/s \n",
            "\u001b[?25hRequirement already satisfied: typeguard>=2.7 in /usr/local/lib/python3.7/dist-packages (from tensorflow_addons) (2.7.1)\n",
            "Installing collected packages: tensorflow-addons\n",
            "Successfully installed tensorflow-addons-0.12.1\n"
          ],
          "name": "stdout"
        }
      ]
    },
    {
      "cell_type": "code",
      "metadata": {
        "id": "3Zofp9zSxRnl"
      },
      "source": [
        "from tensorflow.keras.metrics import Precision, Recall\n",
        "from tensorflow_addons.metrics import F1Score"
      ],
      "execution_count": null,
      "outputs": []
    },
    {
      "cell_type": "code",
      "metadata": {
        "id": "XLHNGRoKxRnm"
      },
      "source": [
        "precision = Precision()\n",
        "recall = Recall()\n",
        "f1score = F1Score(num_classes=1, threshold=0.5)"
      ],
      "execution_count": null,
      "outputs": []
    },
    {
      "cell_type": "markdown",
      "metadata": {
        "id": "5Sbc-4nJxRnm"
      },
      "source": [
        "용어 그대로라면 class가 2개인 binary classification이니까 num_class = 2로 설정하는 게 맞습니다.\n",
        "\n",
        "하지만 tensorflow 내부에서 num_classes를 2로 설정하면 output layer의 node를 2개로 간주하면서 model train할 때 tensor 간의 shape이 맞지 않는 문제가 생깁니다.\n",
        "\n",
        "그래서 binary classification에서만 예외적으로 num_classes를 1로 설정하면 됩니다."
      ]
    },
    {
      "cell_type": "code",
      "metadata": {
        "id": "83MQkYGCxRnm"
      },
      "source": [
        "def f1score_model():\n",
        "    model = Sequential()\n",
        "    # 2d_array (25000, 200)\n",
        "    model.add(Embedding(max_features, embedding_dims, input_length=max_len))\n",
        "    # 3d_array (25000, 200, 50)\n",
        "    model.add(SimpleRNN(32, return_sequences = True)) # RNN의 output이 3d array가 됩니다.\n",
        "    # 3d_array\n",
        "    model.add(SimpleRNN(64)) # RNN모델을 여러층 쌓고 싶으면 return_sequences = True로 해줘야함\n",
        "    # 2d_array\n",
        "    model.add(Dense(1, activation='sigmoid'))\n",
        "    # 1d_array\n",
        "\n",
        "    \n",
        "    model.compile(optimizer = 'adam', metrics=['accuracy', precision, recall, f1score], loss = 'binary_crossentropy')\n",
        "\n",
        "    return model"
      ],
      "execution_count": null,
      "outputs": []
    },
    {
      "cell_type": "code",
      "metadata": {
        "id": "gqfMGOhdxRnn"
      },
      "source": [
        "model_f = f1score_model()"
      ],
      "execution_count": null,
      "outputs": []
    },
    {
      "cell_type": "code",
      "metadata": {
        "id": "6Hk7f820xRnn",
        "colab": {
          "base_uri": "https://localhost:8080/"
        },
        "outputId": "3fdd6a8c-7fca-4b90-d65f-f27cbe7c6a5f"
      },
      "source": [
        "history = model_f.fit(x_train, y_train, validation_split=0.2, epochs=5, batch_size=512)"
      ],
      "execution_count": null,
      "outputs": [
        {
          "output_type": "stream",
          "text": [
            "Epoch 1/5\n",
            "40/40 [==============================] - 15s 328ms/step - loss: 0.6445 - accuracy: 0.5974 - precision: 0.6032 - recall: 0.6063 - f1_score: 0.6039 - val_loss: 0.3539 - val_accuracy: 0.8526 - val_precision: 0.8380 - val_recall: 0.8696 - val_f1_score: 0.8535\n",
            "Epoch 2/5\n",
            "40/40 [==============================] - 13s 313ms/step - loss: 0.2691 - accuracy: 0.8935 - precision: 0.8934 - recall: 0.8938 - f1_score: 0.8936 - val_loss: 0.3165 - val_accuracy: 0.8660 - val_precision: 0.8472 - val_recall: 0.8890 - val_f1_score: 0.8676\n",
            "Epoch 3/5\n",
            "40/40 [==============================] - 12s 312ms/step - loss: 0.1496 - accuracy: 0.9513 - precision: 0.9515 - recall: 0.9526 - f1_score: 0.9521 - val_loss: 0.3423 - val_accuracy: 0.8664 - val_precision: 0.8288 - val_recall: 0.9194 - val_f1_score: 0.8717\n",
            "Epoch 4/5\n",
            "40/40 [==============================] - 12s 312ms/step - loss: 0.0830 - accuracy: 0.9755 - precision: 0.9738 - recall: 0.9774 - f1_score: 0.9756 - val_loss: 0.4177 - val_accuracy: 0.8608 - val_precision: 0.8963 - val_recall: 0.8121 - val_f1_score: 0.8521\n",
            "Epoch 5/5\n",
            "40/40 [==============================] - 12s 311ms/step - loss: 0.0342 - accuracy: 0.9905 - precision: 0.9918 - recall: 0.9892 - f1_score: 0.9905 - val_loss: 0.4631 - val_accuracy: 0.8668 - val_precision: 0.8531 - val_recall: 0.8821 - val_f1_score: 0.8674\n"
          ],
          "name": "stdout"
        }
      ]
    },
    {
      "cell_type": "markdown",
      "metadata": {
        "id": "n-zs0XKgxRno"
      },
      "source": [
        "precision과 recall의 조화평균(2ab/(a+b))를 구하면 f1_score가 나오는 것을 확인할 수 있습니다."
      ]
    },
    {
      "cell_type": "markdown",
      "metadata": {
        "id": "9tW7GJxExRno"
      },
      "source": [
        "## 2) custom metrics"
      ]
    },
    {
      "cell_type": "code",
      "metadata": {
        "id": "LSBw-mH-xRnp"
      },
      "source": [
        "from keras import backend as K\n",
        "\n",
        "def recall_m(y_true, y_pred):\n",
        "        true_positives = K.sum(K.round(K.clip(y_true * y_pred, 0, 1)))\n",
        "        possible_positives = K.sum(K.round(K.clip(y_true, 0, 1)))\n",
        "        recall = true_positives / (possible_positives + K.epsilon())\n",
        "        return recall\n",
        "\n",
        "def precision_m(y_true, y_pred):\n",
        "        true_positives = K.sum(K.round(K.clip(y_true * y_pred, 0, 1)))\n",
        "        predicted_positives = K.sum(K.round(K.clip(y_pred, 0, 1)))\n",
        "        precision = true_positives / (predicted_positives + K.epsilon())\n",
        "        return precision\n",
        "\n",
        "def f1_m(y_true, y_pred):\n",
        "    precision = precision_m(y_true, y_pred)\n",
        "    recall = recall_m(y_true, y_pred)\n",
        "    return 2*((precision*recall)/(precision+recall+K.epsilon()))"
      ],
      "execution_count": null,
      "outputs": []
    },
    {
      "cell_type": "code",
      "metadata": {
        "id": "urKz3Ft0xRnp"
      },
      "source": [
        "def f1score_model():\n",
        "    model = Sequential()\n",
        "    # 2d_array (25000, 200)\n",
        "    model.add(Embedding(max_features, embedding_dims, input_length=max_len))\n",
        "    # 3d_array (25000, 200, 50)\n",
        "    model.add(SimpleRNN(32, return_sequences = True)) # RNN의 output이 3d array가 됩니다.\n",
        "    # 3d_array\n",
        "    model.add(SimpleRNN(64))\n",
        "    # 2d_array\n",
        "    model.add(Dense(1, activation='sigmoid'))\n",
        "    # 1d_array\n",
        "\n",
        "    \n",
        "    model.compile(optimizer = 'adam', metrics=['accuracy', recall_m, precision_m, f1_m], loss = 'binary_crossentropy')\n",
        "\n",
        "    return model"
      ],
      "execution_count": null,
      "outputs": []
    },
    {
      "cell_type": "code",
      "metadata": {
        "id": "Qf-73ZHTxRnq"
      },
      "source": [
        "model_f = f1score_model()"
      ],
      "execution_count": null,
      "outputs": []
    },
    {
      "cell_type": "code",
      "metadata": {
        "id": "TCkT_L1rxRnq",
        "colab": {
          "base_uri": "https://localhost:8080/"
        },
        "outputId": "c3885ace-7d2b-4235-8c41-d8b46624065c"
      },
      "source": [
        "history = model_f.fit(x_train, y_train, validation_split=0.2, epochs=5, batch_size=512)"
      ],
      "execution_count": null,
      "outputs": [
        {
          "output_type": "stream",
          "text": [
            "Epoch 1/5\n",
            "40/40 [==============================] - 15s 328ms/step - loss: 0.6922 - accuracy: 0.5273 - recall_m: 0.5217 - precision_m: 0.5322 - f1_m: 0.5184 - val_loss: 0.5650 - val_accuracy: 0.7296 - val_recall_m: 0.6459 - val_precision_m: 0.7690 - val_f1_m: 0.7012\n",
            "Epoch 2/5\n",
            "40/40 [==============================] - 12s 310ms/step - loss: 0.5277 - accuracy: 0.7549 - recall_m: 0.7817 - precision_m: 0.7491 - f1_m: 0.7598 - val_loss: 0.4723 - val_accuracy: 0.7804 - val_recall_m: 0.8407 - val_precision_m: 0.7467 - val_f1_m: 0.7906\n",
            "Epoch 3/5\n",
            "40/40 [==============================] - 13s 314ms/step - loss: 0.2988 - accuracy: 0.8804 - recall_m: 0.8794 - precision_m: 0.8825 - f1_m: 0.8800 - val_loss: 0.4434 - val_accuracy: 0.8100 - val_recall_m: 0.8898 - val_precision_m: 0.7636 - val_f1_m: 0.8217\n",
            "Epoch 4/5\n",
            "40/40 [==============================] - 13s 315ms/step - loss: 0.1515 - accuracy: 0.9490 - recall_m: 0.9503 - precision_m: 0.9495 - f1_m: 0.9493 - val_loss: 0.4978 - val_accuracy: 0.7888 - val_recall_m: 0.7812 - val_precision_m: 0.7890 - val_f1_m: 0.7845\n",
            "Epoch 5/5\n",
            "40/40 [==============================] - 12s 313ms/step - loss: 0.0626 - accuracy: 0.9854 - recall_m: 0.9815 - precision_m: 0.9894 - f1_m: 0.9854 - val_loss: 0.5640 - val_accuracy: 0.8030 - val_recall_m: 0.8266 - val_precision_m: 0.7848 - val_f1_m: 0.8049\n"
          ],
          "name": "stdout"
        }
      ]
    },
    {
      "cell_type": "code",
      "metadata": {
        "id": "VHdTkjv-doKY"
      },
      "source": [
        ""
      ],
      "execution_count": null,
      "outputs": []
    }
  ]
}