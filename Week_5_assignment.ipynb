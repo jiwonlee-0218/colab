{
  "nbformat": 4,
  "nbformat_minor": 0,
  "metadata": {
    "kernelspec": {
      "display_name": "Python 3",
      "language": "python",
      "name": "python3"
    },
    "language_info": {
      "codemirror_mode": {
        "name": "ipython",
        "version": 3
      },
      "file_extension": ".py",
      "mimetype": "text/x-python",
      "name": "python",
      "nbconvert_exporter": "python",
      "pygments_lexer": "ipython3",
      "version": "3.8.5"
    },
    "colab": {
      "name": "Week 5 assignment.ipynb",
      "provenance": [],
      "collapsed_sections": [],
      "include_colab_link": true
    }
  },
  "cells": [
    {
      "cell_type": "markdown",
      "metadata": {
        "id": "view-in-github",
        "colab_type": "text"
      },
      "source": [
        "<a href=\"https://colab.research.google.com/github/jiwonlee-0218/colab/blob/main/Week_5_assignment.ipynb\" target=\"_parent\"><img src=\"https://colab.research.google.com/assets/colab-badge.svg\" alt=\"Open In Colab\"/></a>"
      ]
    },
    {
      "cell_type": "markdown",
      "metadata": {
        "id": "Qqc7y62nfEn4"
      },
      "source": [
        "# Week 5 Assignment: Holdout, Build the model"
      ]
    },
    {
      "cell_type": "markdown",
      "metadata": {
        "id": "WaylJ-DufEoP"
      },
      "source": [
        "-----"
      ]
    },
    {
      "cell_type": "markdown",
      "metadata": {
        "id": "7uSmMdy7fEoR"
      },
      "source": [
        "## <font color=\"blue\"> Question 0\n",
        "    \n",
        "**문제:** mnist data를 불러오시오"
      ]
    },
    {
      "cell_type": "code",
      "metadata": {
        "id": "zsmzwcaxfEoS"
      },
      "source": [
        "from tensorflow.keras.datasets import mnist\n",
        "import matplotlib.pyplot as plt\n",
        "import numpy as np\n",
        "\n",
        "%matplotlib inline"
      ],
      "execution_count": null,
      "outputs": []
    },
    {
      "cell_type": "code",
      "metadata": {
        "colab": {
          "base_uri": "https://localhost:8080/"
        },
        "id": "dKgj2s7MfEoT",
        "outputId": "a1047562-f867-41a5-98bb-4ce27478bfb4"
      },
      "source": [
        "### START CODE HERE ### (≈ 1 line of code)\n",
        "(X, y), (X_test, y_test) = mnist.load_data()\n",
        "### END CODE HERE ###"
      ],
      "execution_count": null,
      "outputs": [
        {
          "output_type": "stream",
          "text": [
            "Downloading data from https://storage.googleapis.com/tensorflow/tf-keras-datasets/mnist.npz\n",
            "11493376/11490434 [==============================] - 0s 0us/step\n"
          ],
          "name": "stdout"
        }
      ]
    },
    {
      "cell_type": "code",
      "metadata": {
        "colab": {
          "base_uri": "https://localhost:8080/",
          "height": 207
        },
        "id": "qxlKs417fEoU",
        "outputId": "df8dd9a8-9799-49d0-b786-63a1ea8ec487"
      },
      "source": [
        "plt.figure(figsize=(6,3))\n",
        "for i in range(8):\n",
        "    plt.subplot(2,4,i+1)\n",
        "    plt.xticks([])\n",
        "    plt.yticks([])\n",
        "    plt.grid(False)\n",
        "    plt.imshow(X[i], cmap=plt.cm.binary)\n",
        "    plt.xlabel(str(y[i]))\n",
        "plt.show()"
      ],
      "execution_count": null,
      "outputs": [
        {
          "output_type": "display_data",
          "data": {
            "image/png": "[encoded data removed]",
            "text/plain": [
              "<Figure size 432x216 with 8 Axes>"
            ]
          },
          "metadata": {
            "tags": []
          }
        }
      ]
    },
    {
      "cell_type": "markdown",
      "metadata": {
        "id": "clLIZLnhfEoV"
      },
      "source": [
        "5041\n",
        "\n",
        "9213\n",
        "\n",
        "이 나오는지 확인하기"
      ]
    },
    {
      "cell_type": "markdown",
      "metadata": {
        "id": "MsXmseARfEoW"
      },
      "source": [
        "-------"
      ]
    },
    {
      "cell_type": "markdown",
      "metadata": {
        "id": "NZ57qjZPfEoW"
      },
      "source": [
        "## <font color=\"blue\"> Question 1\n",
        "    \n",
        "**문제:** slicing 기법을 사용하여 X_test와 y_test를 7:3으로 split 하시오\n",
        "    \n",
        "(X_half1은 앞에서부터 7000개, X_half2는 뒤에서부터 3000개로 split한다. y도 마찬가지로 split한다.)"
      ]
    },
    {
      "cell_type": "code",
      "metadata": {
        "colab": {
          "base_uri": "https://localhost:8080/"
        },
        "id": "VW_-haE4fEoX",
        "outputId": "0c1a4bf6-5a14-47e8-8ab8-d290aaddf5fd"
      },
      "source": [
        "X_test.shape"
      ],
      "execution_count": null,
      "outputs": [
        {
          "output_type": "execute_result",
          "data": {
            "text/plain": [
              "(10000, 28, 28)"
            ]
          },
          "metadata": {
            "tags": []
          },
          "execution_count": 6
        }
      ]
    },
    {
      "cell_type": "code",
      "metadata": {
        "colab": {
          "base_uri": "https://localhost:8080/"
        },
        "id": "EPrkU6nGgzUy",
        "outputId": "35b2705f-6951-45a8-de26-85c7e273155c"
      },
      "source": [
        "X.shape"
      ],
      "execution_count": null,
      "outputs": [
        {
          "output_type": "execute_result",
          "data": {
            "text/plain": [
              "(60000, 28, 28)"
            ]
          },
          "metadata": {
            "tags": []
          },
          "execution_count": 8
        }
      ]
    },
    {
      "cell_type": "code",
      "metadata": {
        "id": "Gt0eL6t0fEoX"
      },
      "source": [
        "### START CODE HERE ### (≈ 4 line of code)\n",
        "X_half1 = X_test[:7000]\n",
        "X_half2 = X_test[7000:]\n",
        "y_half1 = y_test[:7000]\n",
        "y_half2 = y_test[7000:]\n",
        "### END CODE HERE ###"
      ],
      "execution_count": null,
      "outputs": []
    },
    {
      "cell_type": "code",
      "metadata": {
        "id": "QTYd4uRGfEoY"
      },
      "source": [
        "assert(X_half1.shape == (7000,28,28))\n",
        "assert(X_half2.shape == (3000,28,28))\n",
        "assert((y_half1[0] + y_half2[0]) == 8)"
      ],
      "execution_count": null,
      "outputs": []
    },
    {
      "cell_type": "markdown",
      "metadata": {
        "id": "Uyp_VaArfEoY"
      },
      "source": [
        "error가 나지 않는다면 정답입니다."
      ]
    },
    {
      "cell_type": "markdown",
      "metadata": {
        "id": "-bnMaTu9fEoZ"
      },
      "source": [
        "-------"
      ]
    },
    {
      "cell_type": "markdown",
      "metadata": {
        "id": "hXrD8lcEfEoZ"
      },
      "source": [
        "## <font color=\"blue\"> Question 2\n",
        "\n",
        "**소문제1:** train_test_split 함수를 import 해오시오.    \n",
        "    \n",
        "**소문제2:** train_test_split 기법을 사용하여 X, y에서 validation set을 15000개 확보하시오.\n",
        "    \n",
        "(RandomState는 3으로 설정하고 shuffle은 진행하지 않는다.)\n",
        "    \n",
        "(argument는 train_size 말고 test_size를 이용한다.)"
      ]
    },
    {
      "cell_type": "code",
      "metadata": {
        "id": "1t9wkDZ1fEoa"
      },
      "source": [
        "# 소문제 1\n",
        "\n",
        "### START CODE HERE ### (≈ 1 line of code)\n",
        "from sklearn.model_selection import train_test_split\n",
        "\n",
        "### END CODE HERE ###"
      ],
      "execution_count": null,
      "outputs": []
    },
    {
      "cell_type": "code",
      "metadata": {
        "id": "n2rx_9QcfEoa"
      },
      "source": [
        "### START CODE HERE ### (≈ 1 line of code)\n",
        "X_train, X_val, y_train, y_val = train_test_split(X,y,test_size=1/4,random_state=3, shuffle=False)\n",
        "### END CODE HERE ###"
      ],
      "execution_count": null,
      "outputs": []
    },
    {
      "cell_type": "code",
      "metadata": {
        "colab": {
          "base_uri": "https://localhost:8080/",
          "height": 282
        },
        "id": "tnwk7PGSfEob",
        "outputId": "45f12a3c-2933-4ad9-a252-f480af09383f"
      },
      "source": [
        "assert(X_val.shape == (15000, 28, 28))\n",
        "plt.imshow(X_train[0], cmap=plt.cm.binary)"
      ],
      "execution_count": null,
      "outputs": [
        {
          "output_type": "execute_result",
          "data": {
            "text/plain": [
              "<matplotlib.image.AxesImage at 0x7f3c54ae0898>"
            ]
          },
          "metadata": {
            "tags": []
          },
          "execution_count": 19
        },
        {
          "output_type": "display_data",
          "data": {
            "image/png": "[encoded data removed]",
            "text/plain": [
              "<Figure size 432x288 with 1 Axes>"
            ]
          },
          "metadata": {
            "tags": [],
            "needs_background": "light"
          }
        }
      ]
    },
    {
      "cell_type": "markdown",
      "metadata": {
        "id": "2h0kTSDFfEob"
      },
      "source": [
        "그림이 5가 그려지면 성공"
      ]
    },
    {
      "cell_type": "code",
      "metadata": {
        "id": "Coe-r0Bjf1_0"
      },
      "source": [
        "a=np.array((1,2,3,4,5,6,7,8,9))"
      ],
      "execution_count": null,
      "outputs": []
    },
    {
      "cell_type": "code",
      "metadata": {
        "id": "KUc8JkO8f8IG"
      },
      "source": [
        "q,w=train_test_split(a,test_size=1/3,random_state=3,shuffle=False)"
      ],
      "execution_count": null,
      "outputs": []
    },
    {
      "cell_type": "code",
      "metadata": {
        "colab": {
          "base_uri": "https://localhost:8080/"
        },
        "id": "xrO-IzEIgNVW",
        "outputId": "12332d97-03d9-41ae-cdb0-d98c1ac5bff3"
      },
      "source": [
        "w"
      ],
      "execution_count": null,
      "outputs": [
        {
          "output_type": "execute_result",
          "data": {
            "text/plain": [
              "array([7, 8, 9])"
            ]
          },
          "metadata": {
            "tags": []
          },
          "execution_count": 17
        }
      ]
    },
    {
      "cell_type": "markdown",
      "metadata": {
        "id": "IT8LbQb4fEoc"
      },
      "source": [
        "---------"
      ]
    },
    {
      "cell_type": "markdown",
      "metadata": {
        "id": "PrjajG5NfEoc"
      },
      "source": [
        "## <font color=\"blue\"> Question 3\n",
        "    \n",
        "**문제:** 아래 사진의 model을 소문제 1~3을 따라서 만드시오.\n",
        "    \n",
        "**소문제1:** Sequential를 import 해오시오.\n",
        "    \n",
        "**소문제2:** Dense를 import 해오시오.\n",
        "    \n",
        "**소문제3:** add 메소드를 이용해서 모델을 만드시오.\n",
        "\n",
        "\n",
        "![image.jpg](attachment:48027a15-9a98-49ab-ac0a-51c98780c1b5.jpg)"
      ]
    },
    {
      "cell_type": "code",
      "metadata": {
        "id": "_VjClQJ-fEod"
      },
      "source": [
        "# 소문제 1\n",
        "\n",
        "### START CODE HERE ### (≈ 1 line of code)\n",
        "from tensorflow.keras.models import Sequential\n",
        "### END CODE HERE ###"
      ],
      "execution_count": null,
      "outputs": []
    },
    {
      "cell_type": "code",
      "metadata": {
        "id": "ZCiaoInafEod"
      },
      "source": [
        "# 소문제 2\n",
        "\n",
        "### START CODE HERE ### (≈ 1 line of code)\n",
        "from tensorflow.keras.layers import Dense\n",
        "### END CODE HERE ###"
      ],
      "execution_count": null,
      "outputs": []
    },
    {
      "cell_type": "code",
      "metadata": {
        "id": "xd514ktafEoe"
      },
      "source": [
        "# 소문제 3 (자유롭게 만들어보기)\n",
        "\n",
        "model = Sequential()\n",
        "### START CODE HERE ### \n",
        "model.add(Dense(64, activation='relu', input_dim = 784))  #input_shape=(784,)는 튜플로 써줘야함\n",
        "model.add(Dense(100, activation = 'relu'))\n",
        "model.add(Dense(128, activation = 'relu'))\n",
        "model.add(Dense(32, activation = 'relu'))\n",
        "model.add(Dense(10, activation = 'softmax'))\n",
        "\n",
        "### END CODE HERE ###"
      ],
      "execution_count": null,
      "outputs": []
    },
    {
      "cell_type": "code",
      "metadata": {
        "colab": {
          "base_uri": "https://localhost:8080/"
        },
        "id": "SS4VTNHzfEoe",
        "outputId": "29ca7964-81cc-4f87-92ad-6b2a02c0c571"
      },
      "source": [
        "model.summary()"
      ],
      "execution_count": null,
      "outputs": [
        {
          "output_type": "stream",
          "text": [
            "Model: \"sequential_2\"\n",
            "_________________________________________________________________\n",
            "Layer (type)                 Output Shape              Param #   \n",
            "=================================================================\n",
            "dense_2 (Dense)              (None, 64)                50240     \n",
            "_________________________________________________________________\n",
            "dense_3 (Dense)              (None, 100)               6500      \n",
            "_________________________________________________________________\n",
            "dense_4 (Dense)              (None, 128)               12928     \n",
            "_________________________________________________________________\n",
            "dense_5 (Dense)              (None, 32)                4128      \n",
            "_________________________________________________________________\n",
            "dense_6 (Dense)              (None, 10)                330       \n",
            "=================================================================\n",
            "Total params: 74,126\n",
            "Trainable params: 74,126\n",
            "Non-trainable params: 0\n",
            "_________________________________________________________________\n"
          ],
          "name": "stdout"
        }
      ]
    },
    {
      "cell_type": "markdown",
      "metadata": {
        "id": "b8Gop6n3fEoe"
      },
      "source": [
        "이번 과제도 수고 많으셨습니다. 이번 과제는 12주 과제 중 가장 쉽습니다. 그동안 NN을 상세하게 공부하느라 고생 많으셨는데 쉬어가는 의미이기도 합니다.\n",
        "\n",
        "혹시나 추가적인 공부를 원하는 분들은 아래 링크에서 앞으로 활용할 tensorflow와 keras의 기초에 대해 공부하는 시간을 가져도 좋습니다.\n",
        "\n",
        "아마 아래 문서에는 코드 위주이지만 NN의 기초 지식을 기반으로 작성되었기 때문에 읽어보는 것만으로도 이전 시간에 대한 복습과 향후 내용에 대한 훌륭한 예습이 될 수 있습니다.\n",
        "\n",
        "물론 어떤 내용들은 아예 처음 접하는 것들도 있을 것입니다. 이는 향후 강의를 진행하면서 계속해서 설명해드릴 예정입니다.\n",
        "\n",
        "#### 1) Dense Layer\n",
        "https://keras.io/api/layers/core_layers/dense/\n",
        "#### 2) Sequential\n",
        "https://keras.io/api/models/sequential/"
      ]
    }
  ]
}